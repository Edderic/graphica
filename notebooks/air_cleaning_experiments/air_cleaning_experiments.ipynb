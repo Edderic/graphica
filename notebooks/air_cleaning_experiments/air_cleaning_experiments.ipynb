{
 "cells": [
  {
   "cell_type": "markdown",
   "id": "b54cc9a4",
   "metadata": {},
   "source": [
    "## Introduction"
   ]
  },
  {
   "cell_type": "markdown",
   "id": "15c1c156",
   "metadata": {},
   "source": [
    "COVID-19, along with many respiratory viruses, is airborne [[1](https://www.science.org/doi/10.1126/science.abd9149)]. That means that they don't suddenly fall into the ground when emitted by an infectious person. They float in the air, and stay there for a long period of time, like smoke. The airborne nature of the virus has led to indoor air quality experts Richard Corsi & Jim Rosenthal to share their design of a simple Do-It-Yourself (DIY) air cleaner. The design involves taping a 20-inch-by-20-inch box fan to a box of air filters, which are called Corsi-Rosenthal (CR) boxes [[Clean Air Crew](https://cleanaircrew.org/boxfanfilterfaq/)]. A [UC Davis](https://energy.ucdavis.edu/wp-content/uploads/Case-Study_DIY-Portable-Air-Cleaners-083121.pdf) study shows that CR boxes are as effective in cleaning the air, while being a third of the cost of commercial air cleaners.\n",
    "\n",
    "In 2020, some researchers studied the effectiveness of different cloth fabrics on filtration efficiency for masks [[[Konda](https://pubs.acs.org/doi/10.1021/acsnano.0c03252)], [[Hao](https://www.sciencedirect.com/science/article/pii/S1438463920305289?via%3Dihub)], [[Yang](https://docs.google.com/spreadsheets/d/17aJQn-zmhBWO9vlgfWQLAuRUNrxrUnE8Ftm2wUHlddI/edit#gid=0)]]. In Yang's research, they found that one layer of Rubbermaid microfiber has a filtration efficiency of about 46%, assuming an average inhalation rate of 60 liters per minute."
   ]
  },
  {
   "cell_type": "markdown",
   "id": "9421812c-e69a-449a-9f8d-7d4a014c14c8",
   "metadata": {},
   "source": [
    "## Methods"
   ]
  },
  {
   "cell_type": "markdown",
   "id": "7e99ba2c",
   "metadata": {
    "tags": []
   },
   "source": [
    "### An equation for PM removal over time"
   ]
  },
  {
   "cell_type": "markdown",
   "id": "38035204",
   "metadata": {},
   "source": [
    "Let $A$ represent the actual PM level, $t$ be the time in seconds, $d$ be the decaying factor (a fraction between 0 and 1), $n$ the filtration efficiency of the air cleaner, $c$ be the cubic feet per second output, and $v$ be the volume of the room (in cubic feet):\n",
    "\n",
    "$$\n",
    "\\begin{equation}\n",
    "\\begin{aligned}\n",
    "  A_{t+1} &= A_{t}d^{n \\cdot c / v}\n",
    "\\end{aligned}\n",
    "\\end{equation}\n",
    "$$\n"
   ]
  },
  {
   "cell_type": "markdown",
   "id": "1b497848",
   "metadata": {
    "tags": []
   },
   "source": [
    "## Estimating the flow rate of the air cleaner"
   ]
  },
  {
   "cell_type": "code",
   "execution_count": 1,
   "id": "5ca22105",
   "metadata": {},
   "outputs": [],
   "source": [
    "import pandas as pd\n",
    "import numpy as np\n",
    "import graphviz\n",
    "import matplotlib.pyplot as plt\n",
    "\n",
    "from linx.ds import BayesianNetwork as BN, \\\n",
    "    ConditionalProbabilityTable as CPT, \\\n",
    "    Query\n",
    "from linx.infer import VariableElimination as VE"
   ]
  },
  {
   "cell_type": "code",
   "execution_count": 2,
   "id": "d61638b3",
   "metadata": {},
   "outputs": [],
   "source": [
    "def miles_per_hour_to_feet_per_second(mph):\n",
    "    \"\"\"\n",
    "    Miles per hour * 5280 feet / mile * 3600 sec / hour\n",
    "    \"\"\"\n",
    "    return mph * 5280.0 / 3600"
   ]
  },
  {
   "cell_type": "raw",
   "id": "8477fd2a",
   "metadata": {},
   "source": [
    "To estimate the flow rate of said air cleaner, I used a Kestrel 1000, a wind-speed measurement device. We can get flow rate by getting the wind speed, and then multiplying that with the surface area of the fan."
   ]
  },
  {
   "cell_type": "code",
   "execution_count": 3,
   "id": "c8126236",
   "metadata": {},
   "outputs": [],
   "source": [
    "def circle_area(diameter):\n",
    "    \"\"\"\n",
    "    Returns area of circle\n",
    "    \"\"\"\n",
    "    radius = diameter / 2\n",
    "    return np.pi * radius ** 2"
   ]
  },
  {
   "cell_type": "code",
   "execution_count": 4,
   "id": "a1b24680",
   "metadata": {},
   "outputs": [
    {
     "data": {
      "text/plain": [
       "2.933333333333333"
      ]
     },
     "execution_count": 4,
     "metadata": {},
     "output_type": "execute_result"
    }
   ],
   "source": [
    "miles_per_hour_to_feet_per_second(2)"
   ]
  },
  {
   "cell_type": "markdown",
   "id": "927d8901-685f-42af-abad-cb37a3ffb611",
   "metadata": {},
   "source": [
    "### surface_area_of_layer_in_sq_ft"
   ]
  },
  {
   "cell_type": "code",
   "execution_count": 5,
   "id": "b71eca88",
   "metadata": {},
   "outputs": [],
   "source": [
    "def surface_area_of_layer_in_sq_ft(\n",
    "    layer,  \n",
    "    num_layers,\n",
    "    no_air_flow_middle_diam_inches, \n",
    "    with_air_flow_inches\n",
    "):\n",
    "    \"\"\"\n",
    "    Assuming 5 layers.\n",
    "    \n",
    "    1st layer is layer 0.\n",
    "    \n",
    "    Parameters:\n",
    "        layer: integer\n",
    "        \n",
    "        num_layers: integer\n",
    "            The number of circular layers.\n",
    "            \n",
    "        no_air_flow_middle_diam_inches: float\n",
    "            This is the area of the circle that has no airflow, due to the design of \n",
    "            the box fan (i.e. some circle with a box fan logo). Measured in inches.\n",
    "        \n",
    "        with_air_flow_inches: float\n",
    "            When added to no_air_flow_middle_diam_inches, we get a diameter, whose \n",
    "            circumference corresponds to the circle in which air is coming out of.\n",
    "            \n",
    "        \n",
    "    Returns: float\n",
    "        square-feet\n",
    "    \"\"\"\n",
    "    num_inches_in_a_foot = 12\n",
    "    \n",
    "    if layer < 0 or layer > num_layers - 1:\n",
    "        raise ValueError(f\"Layer {layer} cannot be less than 0 or greater than 2.\")\n",
    "        \n",
    "    engulfing_circle_area = circle_area(\n",
    "        (\n",
    "            no_air_flow_middle_diam_inches + (layer + 1) * with_air_flow_inches / num_layers\n",
    "        ) / num_inches_in_a_foot\n",
    "    )\n",
    "    \n",
    "    engulfed_circle_area = circle_area(\n",
    "        (\n",
    "            no_air_flow_middle_diam_inches + layer * with_air_flow_inches / num_layers\n",
    "        ) / num_inches_in_a_foot\n",
    "    )\n",
    "    \n",
    "    return (engulfing_circle_area - engulfed_circle_area)"
   ]
  },
  {
   "cell_type": "code",
   "execution_count": 6,
   "id": "6c470a52",
   "metadata": {
    "scrolled": true
   },
   "outputs": [
    {
     "data": {
      "text/plain": [
       "0.1987736092549097"
      ]
     },
     "execution_count": 6,
     "metadata": {},
     "output_type": "execute_result"
    }
   ],
   "source": [
    "surface_area_of_layer_in_sq_ft(\n",
    "    layer=0,\n",
    "    num_layers=3,\n",
    "    no_air_flow_middle_diam_inches=5.5,\n",
    "    with_air_flow_inches=8.0\n",
    ")"
   ]
  },
  {
   "cell_type": "code",
   "execution_count": 7,
   "id": "98048c23",
   "metadata": {
    "scrolled": true
   },
   "outputs": [
    {
     "data": {
      "text/plain": [
       "0.1987736092549097"
      ]
     },
     "execution_count": 7,
     "metadata": {},
     "output_type": "execute_result"
    }
   ],
   "source": [
    "np.pi * ((8.0 * 1/3 + 5.5) / (12 * 2))**2 - (np.pi * (5.5 / (2 * 12)) ** 2)"
   ]
  },
  {
   "cell_type": "code",
   "execution_count": 8,
   "id": "1d794690",
   "metadata": {
    "scrolled": true
   },
   "outputs": [
    {
     "data": {
      "text/plain": [
       "0.27634379823243543"
      ]
     },
     "execution_count": 8,
     "metadata": {},
     "output_type": "execute_result"
    }
   ],
   "source": [
    "surface_area_of_layer_in_sq_ft(\n",
    "    layer=1,\n",
    "    num_layers=3,\n",
    "    no_air_flow_middle_diam_inches=5.5,\n",
    "    with_air_flow_inches=8.0\n",
    ")"
   ]
  },
  {
   "cell_type": "code",
   "execution_count": 9,
   "id": "beb0b37b",
   "metadata": {},
   "outputs": [
    {
     "data": {
      "text/plain": [
       "0.27634379823243543"
      ]
     },
     "execution_count": 9,
     "metadata": {},
     "output_type": "execute_result"
    }
   ],
   "source": [
    "np.pi * ((8.0 * 2/3 + 5.5) / (12 * 2))**2 - np.pi * ((8.0 * 1/3 + 5.5) / (12 * 2))**2"
   ]
  },
  {
   "cell_type": "code",
   "execution_count": 10,
   "id": "53b0a26f",
   "metadata": {
    "scrolled": true
   },
   "outputs": [
    {
     "data": {
      "text/plain": [
       "0.35391398720996137"
      ]
     },
     "execution_count": 10,
     "metadata": {},
     "output_type": "execute_result"
    }
   ],
   "source": [
    "surface_area_of_layer_in_sq_ft(\n",
    "    layer=2,\n",
    "    num_layers=3,\n",
    "    no_air_flow_middle_diam_inches=5.5,\n",
    "    with_air_flow_inches=8.0\n",
    ")"
   ]
  },
  {
   "cell_type": "code",
   "execution_count": 11,
   "id": "ba1e8b34",
   "metadata": {},
   "outputs": [
    {
     "data": {
      "text/plain": [
       "0.35391398720996137"
      ]
     },
     "execution_count": 11,
     "metadata": {},
     "output_type": "execute_result"
    }
   ],
   "source": [
    "np.pi * ((8.0 + 5.5) / (12 * 2))**2 - np.pi * ((8.0 * 2/3 + 5.5) / (12 * 2))**2"
   ]
  },
  {
   "cell_type": "code",
   "execution_count": 12,
   "id": "e530d7de",
   "metadata": {},
   "outputs": [],
   "source": [
    "airflow_areas = [\n",
    "    surface_area_of_layer_in_sq_ft(\n",
    "        layer=layer,\n",
    "        num_layers=3,\n",
    "        no_air_flow_middle_diam_inches=5.5,\n",
    "        with_air_flow_inches=8.0\n",
    "    )\n",
    "    for layer in range(3)\n",
    "]"
   ]
  },
  {
   "cell_type": "code",
   "execution_count": 13,
   "id": "acec8e7b",
   "metadata": {},
   "outputs": [
    {
     "data": {
      "text/plain": [
       "0.8290313946973065"
      ]
     },
     "execution_count": 13,
     "metadata": {},
     "output_type": "execute_result"
    }
   ],
   "source": [
    "sum(airflow_areas)"
   ]
  },
  {
   "cell_type": "code",
   "execution_count": 14,
   "id": "80e7e529",
   "metadata": {},
   "outputs": [
    {
     "data": {
      "text/plain": [
       "0.02302864985270295"
      ]
     },
     "execution_count": 14,
     "metadata": {},
     "output_type": "execute_result"
    }
   ],
   "source": [
    "num_divisions = 12.0\n",
    "surface_area_of_layer_in_sq_ft(\n",
    "    layer=1,\n",
    "    num_layers=3,\n",
    "    no_air_flow_middle_diam_inches=5.5,\n",
    "    with_air_flow_inches=8.0\n",
    ") / num_divisions"
   ]
  },
  {
   "cell_type": "markdown",
   "id": "0bf39665-8a40-4856-a0e9-196aabff3745",
   "metadata": {},
   "source": [
    "### anemometer_readings"
   ]
  },
  {
   "cell_type": "code",
   "execution_count": 15,
   "id": "807f578e",
   "metadata": {},
   "outputs": [],
   "source": [
    "anemometer_readings = pd.DataFrame([\n",
    "    {\n",
    "        'layer': 0,\n",
    "        'group': 0,\n",
    "        'reading': 0.4\n",
    "    },\n",
    "    {\n",
    "        'layer': 0,\n",
    "        'group': 0,\n",
    "        'reading': 0.5\n",
    "    },\n",
    "    {\n",
    "        'layer': 0,\n",
    "        'group': 1,\n",
    "        'reading': 1.2\n",
    "    },\n",
    "    {\n",
    "        'layer': 0,\n",
    "        'group': 1,\n",
    "        'reading': 1.6\n",
    "    },\n",
    "    {\n",
    "        'layer': 0,\n",
    "        'group': 2,\n",
    "        'reading': 1.1\n",
    "    },\n",
    "    {\n",
    "        'layer': 0,\n",
    "        'group': 2,\n",
    "        'reading': 1.1\n",
    "    },\n",
    "    {\n",
    "        'layer': 0,\n",
    "        'group': 3,\n",
    "        'reading': 1.3\n",
    "    },\n",
    "    {\n",
    "        'layer': 0,\n",
    "        'group': 3,\n",
    "        'reading': 1.2\n",
    "    },\n",
    "    {\n",
    "        'layer': 0,\n",
    "        'group': 4,\n",
    "        'reading': 0.3\n",
    "    },\n",
    "    {\n",
    "        'layer': 0,\n",
    "        'group': 4,\n",
    "        'reading': 0.9\n",
    "    },\n",
    "    {\n",
    "        'layer': 0,\n",
    "        'group': 5,\n",
    "        'reading': 0.3\n",
    "    },\n",
    "    {\n",
    "        'layer': 0,\n",
    "        'group': 5,\n",
    "        'reading': 0.5\n",
    "    },\n",
    "    {\n",
    "        'layer': 0,\n",
    "        'group': 6,\n",
    "        'reading': 0.3\n",
    "    },\n",
    "    {\n",
    "        'layer': 0,\n",
    "        'group': 6,\n",
    "        'reading': 0.5\n",
    "    },\n",
    "    {\n",
    "        'layer': 0,\n",
    "        'group': 7,\n",
    "        'reading': 0.5\n",
    "    },\n",
    "    {\n",
    "        'layer': 0,\n",
    "        'group': 7,\n",
    "        'reading': 0.4\n",
    "    },\n",
    "    {\n",
    "        'layer': 0,\n",
    "        'group': 8,\n",
    "        'reading': 1.3\n",
    "    },\n",
    "    {\n",
    "        'layer': 0,\n",
    "        'group': 8,\n",
    "        'reading': 1.3\n",
    "    },\n",
    "    {\n",
    "        'layer': 0,\n",
    "        'group': 9,\n",
    "        'reading': 1.5\n",
    "    },\n",
    "    {\n",
    "        'layer': 0,\n",
    "        'group': 9,\n",
    "        'reading': 1.3\n",
    "    },\n",
    "    {\n",
    "        'layer': 0,\n",
    "        'group': 10,\n",
    "        'reading': 1.2\n",
    "    },\n",
    "    {\n",
    "        'layer': 0,\n",
    "        'group': 10,\n",
    "        'reading': 1.7\n",
    "    },\n",
    "    {\n",
    "        'layer': 0,\n",
    "        'group': 11,\n",
    "        'reading': 1.6\n",
    "    },\n",
    "    {\n",
    "        'layer': 0,\n",
    "        'group': 11,\n",
    "        'reading': 1.0\n",
    "    },\n",
    "\n",
    "    {\n",
    "        'layer': 1,\n",
    "        'group': 0,\n",
    "        'reading': 2.8\n",
    "    },\n",
    "    {\n",
    "        'layer': 1,\n",
    "        'group': 0,\n",
    "        'reading': 2.1\n",
    "    },\n",
    "    {\n",
    "        'layer': 1,\n",
    "        'group': 1,\n",
    "        'reading': 2.7\n",
    "    },\n",
    "    {\n",
    "        'layer': 1,\n",
    "        'group': 1,\n",
    "        'reading': 2.1\n",
    "    },\n",
    "    {\n",
    "        'layer': 1,\n",
    "        'group': 2,\n",
    "        'reading': 2.0\n",
    "    },\n",
    "    {\n",
    "        'layer': 1,\n",
    "        'group': 2,\n",
    "        'reading': 2.2\n",
    "    },\n",
    "    {\n",
    "        'layer': 1,\n",
    "        'group': 3,\n",
    "        'reading': 3.0\n",
    "    },\n",
    "    {\n",
    "        'layer': 1,\n",
    "        'group': 3,\n",
    "        'reading': 3.1\n",
    "    },\n",
    "    {\n",
    "        'layer': 1,\n",
    "        'group': 4,\n",
    "        'reading': 2.4\n",
    "    },\n",
    "    {\n",
    "        'layer': 1,\n",
    "        'group': 4,\n",
    "        'reading': 2.4\n",
    "    },\n",
    "    {\n",
    "        'layer': 1,\n",
    "        'group': 5,\n",
    "        'reading': 2.5\n",
    "    },\n",
    "    {\n",
    "        'layer': 1,\n",
    "        'group': 5,\n",
    "        'reading': 2.5\n",
    "    },\n",
    "    {\n",
    "        'layer': 1,\n",
    "        'group': 6,\n",
    "        'reading': 1.6\n",
    "    },\n",
    "    {\n",
    "        'layer': 1,\n",
    "        'group': 6,\n",
    "        'reading': 2.2\n",
    "    },\n",
    "    {\n",
    "        'layer': 1,\n",
    "        'group': 7,\n",
    "        'reading': 2.5\n",
    "    },\n",
    "    {\n",
    "        'layer': 1,\n",
    "        'group': 7,\n",
    "        'reading': 2.3\n",
    "    },\n",
    "    {\n",
    "        'layer': 1,\n",
    "        'group': 8,\n",
    "        'reading': 2.4\n",
    "    },\n",
    "    {\n",
    "        'layer': 1,\n",
    "        'group': 8,\n",
    "        'reading': 2.5\n",
    "    },\n",
    "    {\n",
    "        'layer': 1,\n",
    "        'group': 9,\n",
    "        'reading': 2.4\n",
    "    },\n",
    "    {\n",
    "        'layer': 1,\n",
    "        'group': 9,\n",
    "        'reading': 2.0\n",
    "    },\n",
    "    {\n",
    "        'layer': 1,\n",
    "        'group': 10,\n",
    "        'reading': 2.0\n",
    "    },\n",
    "    {\n",
    "        'layer': 1,\n",
    "        'group': 10,\n",
    "        'reading': 2.6\n",
    "    },\n",
    "    {\n",
    "        'layer': 1,\n",
    "        'group': 11,\n",
    "        'reading': 2.4\n",
    "    },\n",
    "    {\n",
    "        'layer': 1,\n",
    "        'group': 11,\n",
    "        'reading': 2.4\n",
    "    },\n",
    "\n",
    "    {\n",
    "        'layer': 2,\n",
    "        'group': 0,\n",
    "        'reading': 1.2\n",
    "    },\n",
    "    {\n",
    "        'layer': 2,\n",
    "        'group': 0,\n",
    "        'reading': 1.0\n",
    "    },\n",
    "    {\n",
    "        'layer': 2,\n",
    "        'group': 1,\n",
    "        'reading': 1.1\n",
    "    },\n",
    "    {\n",
    "        'layer': 2,\n",
    "        'group': 1,\n",
    "        'reading': 1.0\n",
    "    },\n",
    "    {\n",
    "        'layer': 2,\n",
    "        'group': 2,\n",
    "        'reading': 1.2\n",
    "    },\n",
    "    {\n",
    "        'layer': 2,\n",
    "        'group': 2,\n",
    "        'reading': 0.6\n",
    "    },\n",
    "    {\n",
    "        'layer': 2,\n",
    "        'group': 3,\n",
    "        'reading': 1.2\n",
    "    },\n",
    "    {\n",
    "        'layer': 2,\n",
    "        'group': 3,\n",
    "        'reading': 1.2\n",
    "    },\n",
    "    {\n",
    "        'layer': 2,\n",
    "        'group': 4,\n",
    "        'reading': 1.7\n",
    "    },\n",
    "    {\n",
    "        'layer': 2,\n",
    "        'group': 4,\n",
    "        'reading': 1.2\n",
    "    },\n",
    "    {\n",
    "        'layer': 2,\n",
    "        'group': 5,\n",
    "        'reading': 0.6\n",
    "    },\n",
    "    {\n",
    "        'layer': 2,\n",
    "        'group': 5,\n",
    "        'reading': 0.7\n",
    "    },\n",
    "    {\n",
    "        'layer': 2,\n",
    "        'group': 6,\n",
    "        'reading': 0.4\n",
    "    },\n",
    "    {\n",
    "        'layer': 2,\n",
    "        'group': 6,\n",
    "        'reading': 0.4\n",
    "    },\n",
    "    {\n",
    "        'layer': 2,\n",
    "        'group': 7,\n",
    "        'reading': 1.6\n",
    "    },\n",
    "    {\n",
    "        'layer': 2,\n",
    "        'group': 7,\n",
    "        'reading': 1.0\n",
    "    },\n",
    "    {\n",
    "        'layer': 2,\n",
    "        'group': 8,\n",
    "        'reading': 1.1\n",
    "    },\n",
    "    {\n",
    "        'layer': 2,\n",
    "        'group': 8,\n",
    "        'reading': 1.1\n",
    "    },\n",
    "    {\n",
    "        'layer': 2,\n",
    "        'group': 9,\n",
    "        'reading': 1.0\n",
    "    },\n",
    "    {\n",
    "        'layer': 2,\n",
    "        'group': 9,\n",
    "        'reading': 0.9\n",
    "    },\n",
    "    {\n",
    "        'layer': 2,\n",
    "        'group': 10,\n",
    "        'reading': 0.5\n",
    "    },\n",
    "    {\n",
    "        'layer': 2,\n",
    "        'group': 10,\n",
    "        'reading': 1.1\n",
    "    },\n",
    "    {\n",
    "        'layer': 2,\n",
    "        'group': 11,\n",
    "        'reading': 0.9\n",
    "    },\n",
    "    {\n",
    "        'layer': 2,\n",
    "        'group': 11,\n",
    "        'reading': 1.0\n",
    "    }\n",
    "])\n"
   ]
  },
  {
   "cell_type": "markdown",
   "id": "245c6248-ea07-4f6f-af05-46062df162cf",
   "metadata": {},
   "source": [
    "### create_anemometer_cpt_df"
   ]
  },
  {
   "cell_type": "code",
   "execution_count": 16,
   "id": "f8f7db7e",
   "metadata": {},
   "outputs": [],
   "source": [
    "def create_anemometer_cpt_df(size):\n",
    "    \"\"\"\n",
    "    Generates a dataframe that represents the conditional probility table for \n",
    "    P(anemometer reading value | actual wind speed).\n",
    "    \n",
    "    Assumes that the measured feet per second of the anemometer is produced by \n",
    "    Gaussian centered at the actual feet per second value, with a standard \n",
    "    deviation of 0.1.\n",
    "    \n",
    "    Parameters\n",
    "    \"\"\"\n",
    "    dfs = []\n",
    "    minimum = 0\n",
    "    maximum = 15\n",
    "    for actual_cfs in np.arange(minimum, maximum, 0.1):\n",
    "        cubic_feet_per_second = np.random.normal(actual_cfs, 0.1, size=size)\n",
    "        \n",
    "        df = pd.DataFrame({\n",
    "            'actual_mps': round(actual_cfs, 2),\n",
    "            'measured_mps': [round(cfs, 1) for cfs in cubic_feet_per_second],\n",
    "            'value': 0\n",
    "        })\n",
    "            \n",
    "        dfs.append(df)\n",
    "    \n",
    "    dfs = pd.concat(dfs)\n",
    "    \n",
    "    rates = (\n",
    "        dfs.groupby(['actual_mps', 'measured_mps']).count()[['value']] \\\n",
    "        / dfs.groupby(['actual_mps']).count()[['value']]\n",
    "    ).reset_index()\n",
    "            \n",
    "    valid_values = rates[(rates['measured_mps'] >= 0)]\n",
    "    \n",
    "    normalized = valid_values.set_index(['actual_mps', 'measured_mps'])[['value']] \\\n",
    "        / valid_values.groupby(['actual_mps']).sum()[['value']]\n",
    "    \n",
    "    return normalized.reset_index()"
   ]
  },
  {
   "cell_type": "code",
   "execution_count": 17,
   "id": "98eec350",
   "metadata": {},
   "outputs": [
    {
     "data": {
      "text/html": [
       "<div>\n",
       "<style scoped>\n",
       "    .dataframe tbody tr th:only-of-type {\n",
       "        vertical-align: middle;\n",
       "    }\n",
       "\n",
       "    .dataframe tbody tr th {\n",
       "        vertical-align: top;\n",
       "    }\n",
       "\n",
       "    .dataframe thead th {\n",
       "        text-align: right;\n",
       "    }\n",
       "</style>\n",
       "<table border=\"1\" class=\"dataframe\">\n",
       "  <thead>\n",
       "    <tr style=\"text-align: right;\">\n",
       "      <th></th>\n",
       "      <th>actual_mps</th>\n",
       "      <th>measured_mps</th>\n",
       "      <th>value</th>\n",
       "    </tr>\n",
       "  </thead>\n",
       "  <tbody>\n",
       "    <tr>\n",
       "      <th>0</th>\n",
       "      <td>0.0</td>\n",
       "      <td>0.0</td>\n",
       "      <td>0.561363</td>\n",
       "    </tr>\n",
       "    <tr>\n",
       "      <th>1</th>\n",
       "      <td>0.0</td>\n",
       "      <td>0.1</td>\n",
       "      <td>0.344355</td>\n",
       "    </tr>\n",
       "    <tr>\n",
       "      <th>2</th>\n",
       "      <td>0.0</td>\n",
       "      <td>0.2</td>\n",
       "      <td>0.085042</td>\n",
       "    </tr>\n",
       "    <tr>\n",
       "      <th>3</th>\n",
       "      <td>0.0</td>\n",
       "      <td>0.3</td>\n",
       "      <td>0.008952</td>\n",
       "    </tr>\n",
       "    <tr>\n",
       "      <th>4</th>\n",
       "      <td>0.0</td>\n",
       "      <td>0.4</td>\n",
       "      <td>0.000289</td>\n",
       "    </tr>\n",
       "    <tr>\n",
       "      <th>...</th>\n",
       "      <td>...</td>\n",
       "      <td>...</td>\n",
       "      <td>...</td>\n",
       "    </tr>\n",
       "    <tr>\n",
       "      <th>1314</th>\n",
       "      <td>14.9</td>\n",
       "      <td>14.9</td>\n",
       "      <td>0.384900</td>\n",
       "    </tr>\n",
       "    <tr>\n",
       "      <th>1315</th>\n",
       "      <td>14.9</td>\n",
       "      <td>15.0</td>\n",
       "      <td>0.245700</td>\n",
       "    </tr>\n",
       "    <tr>\n",
       "      <th>1316</th>\n",
       "      <td>14.9</td>\n",
       "      <td>15.1</td>\n",
       "      <td>0.061100</td>\n",
       "    </tr>\n",
       "    <tr>\n",
       "      <th>1317</th>\n",
       "      <td>14.9</td>\n",
       "      <td>15.2</td>\n",
       "      <td>0.006100</td>\n",
       "    </tr>\n",
       "    <tr>\n",
       "      <th>1318</th>\n",
       "      <td>14.9</td>\n",
       "      <td>15.3</td>\n",
       "      <td>0.000300</td>\n",
       "    </tr>\n",
       "  </tbody>\n",
       "</table>\n",
       "<p>1319 rows × 3 columns</p>\n",
       "</div>"
      ],
      "text/plain": [
       "      actual_mps  measured_mps     value\n",
       "0            0.0           0.0  0.561363\n",
       "1            0.0           0.1  0.344355\n",
       "2            0.0           0.2  0.085042\n",
       "3            0.0           0.3  0.008952\n",
       "4            0.0           0.4  0.000289\n",
       "...          ...           ...       ...\n",
       "1314        14.9          14.9  0.384900\n",
       "1315        14.9          15.0  0.245700\n",
       "1316        14.9          15.1  0.061100\n",
       "1317        14.9          15.2  0.006100\n",
       "1318        14.9          15.3  0.000300\n",
       "\n",
       "[1319 rows x 3 columns]"
      ]
     },
     "execution_count": 17,
     "metadata": {},
     "output_type": "execute_result"
    }
   ],
   "source": [
    "anemometer_reading_df = create_anemometer_cpt_df(10000)\n",
    "anemometer_reading_df"
   ]
  },
  {
   "cell_type": "markdown",
   "id": "763cc834-e7f7-467d-92d5-efe6822c726a",
   "metadata": {},
   "source": [
    "### generate_flat_priors"
   ]
  },
  {
   "cell_type": "code",
   "execution_count": 18,
   "id": "d6caaabe",
   "metadata": {},
   "outputs": [],
   "source": [
    "def generate_flat_priors(start, end, step, name, round_to=1):\n",
    "    \"\"\"\n",
    "    Parameters:\n",
    "        start: float\n",
    "            The lower bound\n",
    "        end: float\n",
    "            The upper bound\n",
    "        step: float\n",
    "            The increment that will be taken to go from start to end\n",
    "        round_to: integer\n",
    "            We round the value so that we can compare floats more easily.\n",
    "    \"\"\"\n",
    "    array = np.arange(start, end, step)\n",
    "    \n",
    "    proba = 1.0 / len(array)\n",
    "    \n",
    "    return pd.DataFrame(\n",
    "        [{'value': proba, name: round(i, round_to)} for i in array]\n",
    "    )\n"
   ]
  },
  {
   "cell_type": "code",
   "execution_count": 19,
   "id": "915458ea",
   "metadata": {},
   "outputs": [],
   "source": [
    "priors = generate_flat_priors(0,5,0.1,'actual_mps')"
   ]
  },
  {
   "cell_type": "markdown",
   "id": "286ebcdd-a12b-4204-8f9d-271101337133",
   "metadata": {},
   "source": [
    "### generate_cpts_for_anemometer_readings"
   ]
  },
  {
   "cell_type": "code",
   "execution_count": 20,
   "id": "5f51a7e7",
   "metadata": {},
   "outputs": [],
   "source": [
    "def generate_cpts_for_anemometer_readings(\n",
    "    number_of_readings, \n",
    "    anemometer_reading_df,\n",
    "    given,\n",
    "    outcome\n",
    "):\n",
    "    \"\"\"\n",
    "    Generate conditional probability tables of anemometer readings.\n",
    "    \n",
    "    Parameters:\n",
    "        number_of_readings: integer\n",
    "        anemometer_reading_df: pd.DataFrame\n",
    "        givens: list[str]\n",
    "            The list of variables that are in the conditional.\n",
    "        \n",
    "    Returns: list[CPT]\n",
    "    \"\"\"\n",
    "    cpts = []\n",
    "\n",
    "    for i in range(number_of_readings):\n",
    "        cpt = CPT(\n",
    "            df=anemometer_reading_df.rename(\n",
    "                columns={\n",
    "                    'measured_mps': f'{outcome}_{i}',\n",
    "                    'actual_mps': f'{given}'\n",
    "                }\n",
    "            ),\n",
    "            outcomes=[f'{outcome}_{i}'],\n",
    "            givens=[given]\n",
    "        )\n",
    "        cpts.append(cpt)\n",
    "        \n",
    "    return cpts"
   ]
  },
  {
   "cell_type": "code",
   "execution_count": 21,
   "id": "ee5c02c9",
   "metadata": {},
   "outputs": [],
   "source": [
    "cpts = generate_cpts_for_anemometer_readings(\n",
    "    number_of_readings=2,\n",
    "    anemometer_reading_df=anemometer_reading_df,\n",
    "    given='actual_mps',\n",
    "    outcome='measured_mps'\n",
    ")"
   ]
  },
  {
   "cell_type": "code",
   "execution_count": 22,
   "id": "b3b10dc3",
   "metadata": {},
   "outputs": [
    {
     "data": {
      "text/html": [
       "<div>\n",
       "<style scoped>\n",
       "    .dataframe tbody tr th:only-of-type {\n",
       "        vertical-align: middle;\n",
       "    }\n",
       "\n",
       "    .dataframe tbody tr th {\n",
       "        vertical-align: top;\n",
       "    }\n",
       "\n",
       "    .dataframe thead th {\n",
       "        text-align: right;\n",
       "    }\n",
       "</style>\n",
       "<table border=\"1\" class=\"dataframe\">\n",
       "  <thead>\n",
       "    <tr style=\"text-align: right;\">\n",
       "      <th></th>\n",
       "      <th>value</th>\n",
       "      <th>actual_mps</th>\n",
       "    </tr>\n",
       "  </thead>\n",
       "  <tbody>\n",
       "    <tr>\n",
       "      <th>0</th>\n",
       "      <td>0.02</td>\n",
       "      <td>0.0</td>\n",
       "    </tr>\n",
       "    <tr>\n",
       "      <th>1</th>\n",
       "      <td>0.02</td>\n",
       "      <td>0.1</td>\n",
       "    </tr>\n",
       "    <tr>\n",
       "      <th>2</th>\n",
       "      <td>0.02</td>\n",
       "      <td>0.2</td>\n",
       "    </tr>\n",
       "    <tr>\n",
       "      <th>3</th>\n",
       "      <td>0.02</td>\n",
       "      <td>0.3</td>\n",
       "    </tr>\n",
       "    <tr>\n",
       "      <th>4</th>\n",
       "      <td>0.02</td>\n",
       "      <td>0.4</td>\n",
       "    </tr>\n",
       "    <tr>\n",
       "      <th>5</th>\n",
       "      <td>0.02</td>\n",
       "      <td>0.5</td>\n",
       "    </tr>\n",
       "    <tr>\n",
       "      <th>6</th>\n",
       "      <td>0.02</td>\n",
       "      <td>0.6</td>\n",
       "    </tr>\n",
       "    <tr>\n",
       "      <th>7</th>\n",
       "      <td>0.02</td>\n",
       "      <td>0.7</td>\n",
       "    </tr>\n",
       "    <tr>\n",
       "      <th>8</th>\n",
       "      <td>0.02</td>\n",
       "      <td>0.8</td>\n",
       "    </tr>\n",
       "    <tr>\n",
       "      <th>9</th>\n",
       "      <td>0.02</td>\n",
       "      <td>0.9</td>\n",
       "    </tr>\n",
       "    <tr>\n",
       "      <th>10</th>\n",
       "      <td>0.02</td>\n",
       "      <td>1.0</td>\n",
       "    </tr>\n",
       "    <tr>\n",
       "      <th>11</th>\n",
       "      <td>0.02</td>\n",
       "      <td>1.1</td>\n",
       "    </tr>\n",
       "    <tr>\n",
       "      <th>12</th>\n",
       "      <td>0.02</td>\n",
       "      <td>1.2</td>\n",
       "    </tr>\n",
       "    <tr>\n",
       "      <th>13</th>\n",
       "      <td>0.02</td>\n",
       "      <td>1.3</td>\n",
       "    </tr>\n",
       "    <tr>\n",
       "      <th>14</th>\n",
       "      <td>0.02</td>\n",
       "      <td>1.4</td>\n",
       "    </tr>\n",
       "    <tr>\n",
       "      <th>15</th>\n",
       "      <td>0.02</td>\n",
       "      <td>1.5</td>\n",
       "    </tr>\n",
       "    <tr>\n",
       "      <th>16</th>\n",
       "      <td>0.02</td>\n",
       "      <td>1.6</td>\n",
       "    </tr>\n",
       "    <tr>\n",
       "      <th>17</th>\n",
       "      <td>0.02</td>\n",
       "      <td>1.7</td>\n",
       "    </tr>\n",
       "    <tr>\n",
       "      <th>18</th>\n",
       "      <td>0.02</td>\n",
       "      <td>1.8</td>\n",
       "    </tr>\n",
       "    <tr>\n",
       "      <th>19</th>\n",
       "      <td>0.02</td>\n",
       "      <td>1.9</td>\n",
       "    </tr>\n",
       "    <tr>\n",
       "      <th>20</th>\n",
       "      <td>0.02</td>\n",
       "      <td>2.0</td>\n",
       "    </tr>\n",
       "    <tr>\n",
       "      <th>21</th>\n",
       "      <td>0.02</td>\n",
       "      <td>2.1</td>\n",
       "    </tr>\n",
       "    <tr>\n",
       "      <th>22</th>\n",
       "      <td>0.02</td>\n",
       "      <td>2.2</td>\n",
       "    </tr>\n",
       "    <tr>\n",
       "      <th>23</th>\n",
       "      <td>0.02</td>\n",
       "      <td>2.3</td>\n",
       "    </tr>\n",
       "    <tr>\n",
       "      <th>24</th>\n",
       "      <td>0.02</td>\n",
       "      <td>2.4</td>\n",
       "    </tr>\n",
       "    <tr>\n",
       "      <th>25</th>\n",
       "      <td>0.02</td>\n",
       "      <td>2.5</td>\n",
       "    </tr>\n",
       "    <tr>\n",
       "      <th>26</th>\n",
       "      <td>0.02</td>\n",
       "      <td>2.6</td>\n",
       "    </tr>\n",
       "    <tr>\n",
       "      <th>27</th>\n",
       "      <td>0.02</td>\n",
       "      <td>2.7</td>\n",
       "    </tr>\n",
       "    <tr>\n",
       "      <th>28</th>\n",
       "      <td>0.02</td>\n",
       "      <td>2.8</td>\n",
       "    </tr>\n",
       "    <tr>\n",
       "      <th>29</th>\n",
       "      <td>0.02</td>\n",
       "      <td>2.9</td>\n",
       "    </tr>\n",
       "    <tr>\n",
       "      <th>30</th>\n",
       "      <td>0.02</td>\n",
       "      <td>3.0</td>\n",
       "    </tr>\n",
       "    <tr>\n",
       "      <th>31</th>\n",
       "      <td>0.02</td>\n",
       "      <td>3.1</td>\n",
       "    </tr>\n",
       "    <tr>\n",
       "      <th>32</th>\n",
       "      <td>0.02</td>\n",
       "      <td>3.2</td>\n",
       "    </tr>\n",
       "    <tr>\n",
       "      <th>33</th>\n",
       "      <td>0.02</td>\n",
       "      <td>3.3</td>\n",
       "    </tr>\n",
       "    <tr>\n",
       "      <th>34</th>\n",
       "      <td>0.02</td>\n",
       "      <td>3.4</td>\n",
       "    </tr>\n",
       "    <tr>\n",
       "      <th>35</th>\n",
       "      <td>0.02</td>\n",
       "      <td>3.5</td>\n",
       "    </tr>\n",
       "    <tr>\n",
       "      <th>36</th>\n",
       "      <td>0.02</td>\n",
       "      <td>3.6</td>\n",
       "    </tr>\n",
       "    <tr>\n",
       "      <th>37</th>\n",
       "      <td>0.02</td>\n",
       "      <td>3.7</td>\n",
       "    </tr>\n",
       "    <tr>\n",
       "      <th>38</th>\n",
       "      <td>0.02</td>\n",
       "      <td>3.8</td>\n",
       "    </tr>\n",
       "    <tr>\n",
       "      <th>39</th>\n",
       "      <td>0.02</td>\n",
       "      <td>3.9</td>\n",
       "    </tr>\n",
       "    <tr>\n",
       "      <th>40</th>\n",
       "      <td>0.02</td>\n",
       "      <td>4.0</td>\n",
       "    </tr>\n",
       "    <tr>\n",
       "      <th>41</th>\n",
       "      <td>0.02</td>\n",
       "      <td>4.1</td>\n",
       "    </tr>\n",
       "    <tr>\n",
       "      <th>42</th>\n",
       "      <td>0.02</td>\n",
       "      <td>4.2</td>\n",
       "    </tr>\n",
       "    <tr>\n",
       "      <th>43</th>\n",
       "      <td>0.02</td>\n",
       "      <td>4.3</td>\n",
       "    </tr>\n",
       "    <tr>\n",
       "      <th>44</th>\n",
       "      <td>0.02</td>\n",
       "      <td>4.4</td>\n",
       "    </tr>\n",
       "    <tr>\n",
       "      <th>45</th>\n",
       "      <td>0.02</td>\n",
       "      <td>4.5</td>\n",
       "    </tr>\n",
       "    <tr>\n",
       "      <th>46</th>\n",
       "      <td>0.02</td>\n",
       "      <td>4.6</td>\n",
       "    </tr>\n",
       "    <tr>\n",
       "      <th>47</th>\n",
       "      <td>0.02</td>\n",
       "      <td>4.7</td>\n",
       "    </tr>\n",
       "    <tr>\n",
       "      <th>48</th>\n",
       "      <td>0.02</td>\n",
       "      <td>4.8</td>\n",
       "    </tr>\n",
       "    <tr>\n",
       "      <th>49</th>\n",
       "      <td>0.02</td>\n",
       "      <td>4.9</td>\n",
       "    </tr>\n",
       "  </tbody>\n",
       "</table>\n",
       "</div>"
      ],
      "text/plain": [
       "    value  actual_mps\n",
       "0    0.02         0.0\n",
       "1    0.02         0.1\n",
       "2    0.02         0.2\n",
       "3    0.02         0.3\n",
       "4    0.02         0.4\n",
       "5    0.02         0.5\n",
       "6    0.02         0.6\n",
       "7    0.02         0.7\n",
       "8    0.02         0.8\n",
       "9    0.02         0.9\n",
       "10   0.02         1.0\n",
       "11   0.02         1.1\n",
       "12   0.02         1.2\n",
       "13   0.02         1.3\n",
       "14   0.02         1.4\n",
       "15   0.02         1.5\n",
       "16   0.02         1.6\n",
       "17   0.02         1.7\n",
       "18   0.02         1.8\n",
       "19   0.02         1.9\n",
       "20   0.02         2.0\n",
       "21   0.02         2.1\n",
       "22   0.02         2.2\n",
       "23   0.02         2.3\n",
       "24   0.02         2.4\n",
       "25   0.02         2.5\n",
       "26   0.02         2.6\n",
       "27   0.02         2.7\n",
       "28   0.02         2.8\n",
       "29   0.02         2.9\n",
       "30   0.02         3.0\n",
       "31   0.02         3.1\n",
       "32   0.02         3.2\n",
       "33   0.02         3.3\n",
       "34   0.02         3.4\n",
       "35   0.02         3.5\n",
       "36   0.02         3.6\n",
       "37   0.02         3.7\n",
       "38   0.02         3.8\n",
       "39   0.02         3.9\n",
       "40   0.02         4.0\n",
       "41   0.02         4.1\n",
       "42   0.02         4.2\n",
       "43   0.02         4.3\n",
       "44   0.02         4.4\n",
       "45   0.02         4.5\n",
       "46   0.02         4.6\n",
       "47   0.02         4.7\n",
       "48   0.02         4.8\n",
       "49   0.02         4.9"
      ]
     },
     "execution_count": 22,
     "metadata": {},
     "output_type": "execute_result"
    }
   ],
   "source": [
    "priors"
   ]
  },
  {
   "cell_type": "code",
   "execution_count": 23,
   "id": "4b8c041f",
   "metadata": {},
   "outputs": [],
   "source": [
    "bn = BN(\n",
    "    cpts=cpts,\n",
    "    priors=[\n",
    "        CPT(\n",
    "            df=priors,\n",
    "            outcomes=['actual_mps']\n",
    "        )\n",
    "    ],\n",
    "    graphviz_dag=graphviz.Digraph()\n",
    ")"
   ]
  },
  {
   "cell_type": "code",
   "execution_count": 24,
   "id": "f8d8c650",
   "metadata": {},
   "outputs": [
    {
     "data": {
      "image/svg+xml": [
       "<?xml version=\"1.0\" encoding=\"UTF-8\" standalone=\"no\"?>\n",
       "<!DOCTYPE svg PUBLIC \"-//W3C//DTD SVG 1.1//EN\"\n",
       " \"http://www.w3.org/Graphics/SVG/1.1/DTD/svg11.dtd\">\n",
       "<!-- Generated by graphviz version 2.49.0 (0)\n",
       " -->\n",
       "<!-- Pages: 1 -->\n",
       "<svg width=\"322pt\" height=\"116pt\"\n",
       " viewBox=\"0.00 0.00 322.19 116.00\" xmlns=\"http://www.w3.org/2000/svg\" xmlns:xlink=\"http://www.w3.org/1999/xlink\">\n",
       "<g id=\"graph0\" class=\"graph\" transform=\"scale(1 1) rotate(0) translate(4 112)\">\n",
       "<polygon fill=\"white\" stroke=\"transparent\" points=\"-4,4 -4,-112 318.19,-112 318.19,4 -4,4\"/>\n",
       "<!-- actual_mps -->\n",
       "<g id=\"node1\" class=\"node\">\n",
       "<title>actual_mps</title>\n",
       "<ellipse fill=\"none\" stroke=\"black\" cx=\"157.09\" cy=\"-90\" rx=\"51.99\" ry=\"18\"/>\n",
       "<text text-anchor=\"middle\" x=\"157.09\" y=\"-86.3\" font-family=\"Times,serif\" font-size=\"14.00\">actual_mps</text>\n",
       "</g>\n",
       "<!-- measured_mps_0 -->\n",
       "<g id=\"node2\" class=\"node\">\n",
       "<title>measured_mps_0</title>\n",
       "<ellipse fill=\"none\" stroke=\"black\" cx=\"74.09\" cy=\"-18\" rx=\"74.19\" ry=\"18\"/>\n",
       "<text text-anchor=\"middle\" x=\"74.09\" y=\"-14.3\" font-family=\"Times,serif\" font-size=\"14.00\">measured_mps_0</text>\n",
       "</g>\n",
       "<!-- actual_mps&#45;&gt;measured_mps_0 -->\n",
       "<g id=\"edge1\" class=\"edge\">\n",
       "<title>actual_mps&#45;&gt;measured_mps_0</title>\n",
       "<path fill=\"none\" stroke=\"black\" d=\"M138.26,-73.12C127.46,-64 113.7,-52.4 101.69,-42.28\"/>\n",
       "<polygon fill=\"black\" stroke=\"black\" points=\"103.62,-39.32 93.72,-35.55 99.11,-44.67 103.62,-39.32\"/>\n",
       "</g>\n",
       "<!-- measured_mps_1 -->\n",
       "<g id=\"node3\" class=\"node\">\n",
       "<title>measured_mps_1</title>\n",
       "<ellipse fill=\"none\" stroke=\"black\" cx=\"240.09\" cy=\"-18\" rx=\"74.19\" ry=\"18\"/>\n",
       "<text text-anchor=\"middle\" x=\"240.09\" y=\"-14.3\" font-family=\"Times,serif\" font-size=\"14.00\">measured_mps_1</text>\n",
       "</g>\n",
       "<!-- actual_mps&#45;&gt;measured_mps_1 -->\n",
       "<g id=\"edge2\" class=\"edge\">\n",
       "<title>actual_mps&#45;&gt;measured_mps_1</title>\n",
       "<path fill=\"none\" stroke=\"black\" d=\"M175.93,-73.12C186.73,-64 200.49,-52.4 212.5,-42.28\"/>\n",
       "<polygon fill=\"black\" stroke=\"black\" points=\"215.08,-44.67 220.47,-35.55 210.57,-39.32 215.08,-44.67\"/>\n",
       "</g>\n",
       "</g>\n",
       "</svg>\n"
      ],
      "text/plain": [
       "<graphviz.graphs.Digraph at 0x182d1ed60>"
      ]
     },
     "execution_count": 24,
     "metadata": {},
     "output_type": "execute_result"
    }
   ],
   "source": [
    "bn.graphviz_dag"
   ]
  },
  {
   "cell_type": "code",
   "execution_count": 25,
   "id": "573eb4d2",
   "metadata": {},
   "outputs": [],
   "source": [
    "factor = VE(\n",
    "    network=bn,\n",
    "    query=Query(\n",
    "        outcomes=['actual_mps'],\n",
    "        givens=[\n",
    "            {\n",
    "                'measured_mps_0': 1.0\n",
    "            },\n",
    "            {\n",
    "                'measured_mps_1': 0.9\n",
    "            },\n",
    "        ]\n",
    "    )\n",
    ").compute()"
   ]
  },
  {
   "cell_type": "code",
   "execution_count": 26,
   "id": "4a2903fb",
   "metadata": {},
   "outputs": [
    {
     "data": {
      "text/html": [
       "<div>\n",
       "<style scoped>\n",
       "    .dataframe tbody tr th:only-of-type {\n",
       "        vertical-align: middle;\n",
       "    }\n",
       "\n",
       "    .dataframe tbody tr th {\n",
       "        vertical-align: top;\n",
       "    }\n",
       "\n",
       "    .dataframe thead th {\n",
       "        text-align: right;\n",
       "    }\n",
       "</style>\n",
       "<table border=\"1\" class=\"dataframe\">\n",
       "  <thead>\n",
       "    <tr style=\"text-align: right;\">\n",
       "      <th></th>\n",
       "      <th>measured_mps_0</th>\n",
       "      <th>actual_mps</th>\n",
       "      <th>measured_mps_1</th>\n",
       "      <th>value</th>\n",
       "    </tr>\n",
       "  </thead>\n",
       "  <tbody>\n",
       "    <tr>\n",
       "      <th>0</th>\n",
       "      <td>1.0</td>\n",
       "      <td>0.6</td>\n",
       "      <td>0.9</td>\n",
       "      <td>0.000017</td>\n",
       "    </tr>\n",
       "    <tr>\n",
       "      <th>1</th>\n",
       "      <td>1.0</td>\n",
       "      <td>0.7</td>\n",
       "      <td>0.9</td>\n",
       "      <td>0.001840</td>\n",
       "    </tr>\n",
       "    <tr>\n",
       "      <th>2</th>\n",
       "      <td>1.0</td>\n",
       "      <td>0.8</td>\n",
       "      <td>0.9</td>\n",
       "      <td>0.067060</td>\n",
       "    </tr>\n",
       "    <tr>\n",
       "      <th>3</th>\n",
       "      <td>1.0</td>\n",
       "      <td>0.9</td>\n",
       "      <td>0.9</td>\n",
       "      <td>0.435069</td>\n",
       "    </tr>\n",
       "    <tr>\n",
       "      <th>4</th>\n",
       "      <td>1.0</td>\n",
       "      <td>1.0</td>\n",
       "      <td>0.9</td>\n",
       "      <td>0.424035</td>\n",
       "    </tr>\n",
       "    <tr>\n",
       "      <th>5</th>\n",
       "      <td>1.0</td>\n",
       "      <td>1.1</td>\n",
       "      <td>0.9</td>\n",
       "      <td>0.070159</td>\n",
       "    </tr>\n",
       "    <tr>\n",
       "      <th>6</th>\n",
       "      <td>1.0</td>\n",
       "      <td>1.2</td>\n",
       "      <td>0.9</td>\n",
       "      <td>0.001810</td>\n",
       "    </tr>\n",
       "    <tr>\n",
       "      <th>7</th>\n",
       "      <td>1.0</td>\n",
       "      <td>1.3</td>\n",
       "      <td>0.9</td>\n",
       "      <td>0.000010</td>\n",
       "    </tr>\n",
       "  </tbody>\n",
       "</table>\n",
       "</div>"
      ],
      "text/plain": [
       "   measured_mps_0  actual_mps  measured_mps_1     value\n",
       "0             1.0         0.6             0.9  0.000017\n",
       "1             1.0         0.7             0.9  0.001840\n",
       "2             1.0         0.8             0.9  0.067060\n",
       "3             1.0         0.9             0.9  0.435069\n",
       "4             1.0         1.0             0.9  0.424035\n",
       "5             1.0         1.1             0.9  0.070159\n",
       "6             1.0         1.2             0.9  0.001810\n",
       "7             1.0         1.3             0.9  0.000010"
      ]
     },
     "execution_count": 26,
     "metadata": {},
     "output_type": "execute_result"
    }
   ],
   "source": [
    "factor.get_df()"
   ]
  },
  {
   "cell_type": "code",
   "execution_count": 27,
   "id": "21b7ec54",
   "metadata": {},
   "outputs": [
    {
     "data": {
      "text/plain": [
       "<AxesSubplot:xlabel='actual_mps'>"
      ]
     },
     "execution_count": 27,
     "metadata": {},
     "output_type": "execute_result"
    },
    {
     "data": {
      "image/png": "[encoded data removed]",
      "text/plain": [
       "<Figure size 432x288 with 1 Axes>"
      ]
     },
     "metadata": {
      "needs_background": "light"
     },
     "output_type": "display_data"
    }
   ],
   "source": [
    "factor.get_df()[['actual_mps', 'value']].set_index('actual_mps').plot.bar()"
   ]
  },
  {
   "cell_type": "markdown",
   "id": "cf58e0b1-8b89-4bce-8a0c-03fe4445ea34",
   "metadata": {},
   "source": [
    "### sample_total_air_delivery_rate"
   ]
  },
  {
   "cell_type": "code",
   "execution_count": 28,
   "id": "85cbb122",
   "metadata": {
    "scrolled": true
   },
   "outputs": [],
   "source": [
    "def sample_total_air_delivery_rate(\n",
    "    anemometer_readings,\n",
    "    num_sections_per_layer = 12.0,\n",
    "    num_feet_in_meters = 3.28084,\n",
    "    num_layers = 3,\n",
    "    no_air_flow_middle_diam_inches = 5.5,\n",
    "    with_air_flow_inches = 8.0,\n",
    "    sample_size = 10000\n",
    "):\n",
    "    \"\"\"\n",
    "    Sample total air delivery rate.\n",
    "    \"\"\"\n",
    "    total = np.zeros(sample_size)\n",
    "\n",
    "    for layer in range(num_layers):\n",
    "\n",
    "        sq_ft_section = surface_area_of_layer_in_sq_ft(\n",
    "            layer=layer,\n",
    "            num_layers=num_layers,\n",
    "            no_air_flow_middle_diam_inches=no_air_flow_middle_diam_inches,\n",
    "            with_air_flow_inches=with_air_flow_inches\n",
    "        ) / num_sections_per_layer\n",
    "\n",
    "        for group in range(int(num_sections_per_layer)):\n",
    "            wind_speed_readings_for_layer_group = anemometer_readings[\n",
    "                (anemometer_readings['layer'] == layer) \\\n",
    "                & (anemometer_readings['group'] == group)\n",
    "            ]\n",
    "\n",
    "            reading_0 = wind_speed_readings_for_layer_group.iloc[0]['reading']\n",
    "            reading_1 = wind_speed_readings_for_layer_group.iloc[1]['reading']\n",
    "            query = Query(\n",
    "                outcomes=['actual_mps'],\n",
    "                givens=[\n",
    "                    {\n",
    "                        'measured_mps_0': reading_0\n",
    "                    },\n",
    "                    {\n",
    "                        'measured_mps_1': reading_1\n",
    "                    },\n",
    "                ]\n",
    "            )\n",
    "\n",
    "            factor = VE(\n",
    "                network=bn,\n",
    "                query=query\n",
    "            ).compute()\n",
    "\n",
    "            result = factor.get_df()\n",
    "            actual_windspeed_in_meters_per_second = \\\n",
    "                np.random.choice(\n",
    "                    result['actual_mps'], \n",
    "                    p=result['value'], \n",
    "                    size=sample_size\n",
    "                )\n",
    "\n",
    "            actual_windspeed_in_feet_per_second = \\\n",
    "                actual_windspeed_in_meters_per_second * num_feet_in_meters\n",
    "\n",
    "            mean_windspeed = actual_windspeed_in_feet_per_second.mean()\n",
    "            total = total + actual_windspeed_in_feet_per_second * sq_ft_section\n",
    "            \n",
    "    return pd.Series(total)"
   ]
  },
  {
   "cell_type": "code",
   "execution_count": 29,
   "id": "aa738088",
   "metadata": {},
   "outputs": [
    {
     "data": {
      "text/plain": [
       "<AxesSubplot:title={'center':'Total Air Delivery Rate of CR Microfiber'}, xlabel='Cubic Feet per Second', ylabel='Density'>"
      ]
     },
     "execution_count": 29,
     "metadata": {},
     "output_type": "execute_result"
    },
    {
     "data": {
      "image/png": "[encoded data removed]",
      "text/plain": [
       "<Figure size 432x288 with 1 Axes>"
      ]
     },
     "metadata": {
      "needs_background": "light"
     },
     "output_type": "display_data"
    }
   ],
   "source": [
    "total = sample_total_air_delivery_rate(\n",
    "    anemometer_readings=anemometer_readings\n",
    ")\n",
    "fig, ax = plt.subplots(1,1)\n",
    "ax.set_xlabel('Cubic Feet per Second')\n",
    "pd.Series(total).plot.kde(title='Total Air Delivery Rate of CR Microfiber', ax=ax)"
   ]
  },
  {
   "cell_type": "code",
   "execution_count": 30,
   "id": "a336d1b8",
   "metadata": {},
   "outputs": [
    {
     "data": {
      "text/plain": [
       "1.4416666666666667"
      ]
     },
     "execution_count": 30,
     "metadata": {},
     "output_type": "execute_result"
    }
   ],
   "source": [
    "anemometer_readings['reading'].mean()"
   ]
  },
  {
   "cell_type": "markdown",
   "id": "71f9676f",
   "metadata": {},
   "source": [
    "Lit 3 matches, waited for a few minutes to ensure that the particle counter got a massive jump in readings (i.e. n0_3 jumped to 1800).\n",
    "\n",
    "- Left at 8:01\n",
    "- Turned on fan at 9:01\n",
    "- Switched to Coway at 10:03\n",
    "- Stopped data collection at 10:33"
   ]
  },
  {
   "cell_type": "code",
   "execution_count": 31,
   "id": "f6a7080b",
   "metadata": {},
   "outputs": [
    {
     "name": "stdout",
     "output_type": "stream",
     "text": [
      "/Users/eugaddan/Developer/linx/notebooks/air_cleaning_experiments\n"
     ]
    }
   ],
   "source": [
    "%%bash\n",
    "pwd"
   ]
  },
  {
   "cell_type": "markdown",
   "id": "cdabeb68-5a6f-488e-a2c0-7a541cba9503",
   "metadata": {},
   "source": [
    "## Particle Counter Data"
   ]
  },
  {
   "cell_type": "code",
   "execution_count": 32,
   "id": "986b45f4",
   "metadata": {},
   "outputs": [],
   "source": [
    "particle_counter_data = pd.read_json(\"pms_7003.json\", orient='records', lines=True).set_index('datetime')"
   ]
  },
  {
   "cell_type": "code",
   "execution_count": 33,
   "id": "badb1c48",
   "metadata": {},
   "outputs": [
    {
     "data": {
      "text/html": [
       "<div>\n",
       "<style scoped>\n",
       "    .dataframe tbody tr th:only-of-type {\n",
       "        vertical-align: middle;\n",
       "    }\n",
       "\n",
       "    .dataframe tbody tr th {\n",
       "        vertical-align: top;\n",
       "    }\n",
       "\n",
       "    .dataframe thead th {\n",
       "        text-align: right;\n",
       "    }\n",
       "</style>\n",
       "<table border=\"1\" class=\"dataframe\">\n",
       "  <thead>\n",
       "    <tr style=\"text-align: right;\">\n",
       "      <th></th>\n",
       "      <th>pm1_0cf1</th>\n",
       "      <th>pm2_5cf1</th>\n",
       "      <th>pm10cf1</th>\n",
       "      <th>pm1_0</th>\n",
       "      <th>pm2_5</th>\n",
       "      <th>pm10</th>\n",
       "      <th>n0_3</th>\n",
       "      <th>n0_5</th>\n",
       "      <th>n1_0</th>\n",
       "      <th>n2_5</th>\n",
       "      <th>n5_0</th>\n",
       "      <th>n10</th>\n",
       "      <th>sensor_num</th>\n",
       "    </tr>\n",
       "    <tr>\n",
       "      <th>datetime</th>\n",
       "      <th></th>\n",
       "      <th></th>\n",
       "      <th></th>\n",
       "      <th></th>\n",
       "      <th></th>\n",
       "      <th></th>\n",
       "      <th></th>\n",
       "      <th></th>\n",
       "      <th></th>\n",
       "      <th></th>\n",
       "      <th></th>\n",
       "      <th></th>\n",
       "      <th></th>\n",
       "    </tr>\n",
       "  </thead>\n",
       "  <tbody>\n",
       "    <tr>\n",
       "      <th>2021-12-18 19:53:27.899489</th>\n",
       "      <td>0</td>\n",
       "      <td>0</td>\n",
       "      <td>0</td>\n",
       "      <td>0</td>\n",
       "      <td>0</td>\n",
       "      <td>0</td>\n",
       "      <td>3</td>\n",
       "      <td>1</td>\n",
       "      <td>1</td>\n",
       "      <td>1</td>\n",
       "      <td>0</td>\n",
       "      <td>0</td>\n",
       "      <td>0</td>\n",
       "    </tr>\n",
       "    <tr>\n",
       "      <th>2021-12-18 19:53:28.817320</th>\n",
       "      <td>0</td>\n",
       "      <td>0</td>\n",
       "      <td>0</td>\n",
       "      <td>0</td>\n",
       "      <td>0</td>\n",
       "      <td>0</td>\n",
       "      <td>3</td>\n",
       "      <td>1</td>\n",
       "      <td>1</td>\n",
       "      <td>1</td>\n",
       "      <td>0</td>\n",
       "      <td>0</td>\n",
       "      <td>0</td>\n",
       "    </tr>\n",
       "    <tr>\n",
       "      <th>2021-12-18 19:53:29.655135</th>\n",
       "      <td>0</td>\n",
       "      <td>0</td>\n",
       "      <td>0</td>\n",
       "      <td>0</td>\n",
       "      <td>0</td>\n",
       "      <td>0</td>\n",
       "      <td>3</td>\n",
       "      <td>1</td>\n",
       "      <td>1</td>\n",
       "      <td>1</td>\n",
       "      <td>0</td>\n",
       "      <td>0</td>\n",
       "      <td>0</td>\n",
       "    </tr>\n",
       "    <tr>\n",
       "      <th>2021-12-18 19:53:30.573125</th>\n",
       "      <td>0</td>\n",
       "      <td>0</td>\n",
       "      <td>0</td>\n",
       "      <td>0</td>\n",
       "      <td>0</td>\n",
       "      <td>0</td>\n",
       "      <td>6</td>\n",
       "      <td>2</td>\n",
       "      <td>1</td>\n",
       "      <td>1</td>\n",
       "      <td>0</td>\n",
       "      <td>0</td>\n",
       "      <td>0</td>\n",
       "    </tr>\n",
       "    <tr>\n",
       "      <th>2021-12-18 19:53:31.410849</th>\n",
       "      <td>0</td>\n",
       "      <td>0</td>\n",
       "      <td>0</td>\n",
       "      <td>0</td>\n",
       "      <td>0</td>\n",
       "      <td>0</td>\n",
       "      <td>6</td>\n",
       "      <td>2</td>\n",
       "      <td>1</td>\n",
       "      <td>1</td>\n",
       "      <td>0</td>\n",
       "      <td>0</td>\n",
       "      <td>0</td>\n",
       "    </tr>\n",
       "    <tr>\n",
       "      <th>...</th>\n",
       "      <td>...</td>\n",
       "      <td>...</td>\n",
       "      <td>...</td>\n",
       "      <td>...</td>\n",
       "      <td>...</td>\n",
       "      <td>...</td>\n",
       "      <td>...</td>\n",
       "      <td>...</td>\n",
       "      <td>...</td>\n",
       "      <td>...</td>\n",
       "      <td>...</td>\n",
       "      <td>...</td>\n",
       "      <td>...</td>\n",
       "    </tr>\n",
       "    <tr>\n",
       "      <th>2021-12-18 22:33:46.151964</th>\n",
       "      <td>0</td>\n",
       "      <td>0</td>\n",
       "      <td>0</td>\n",
       "      <td>0</td>\n",
       "      <td>0</td>\n",
       "      <td>0</td>\n",
       "      <td>0</td>\n",
       "      <td>0</td>\n",
       "      <td>0</td>\n",
       "      <td>0</td>\n",
       "      <td>0</td>\n",
       "      <td>0</td>\n",
       "      <td>0</td>\n",
       "    </tr>\n",
       "    <tr>\n",
       "      <th>2021-12-18 22:33:47.005828</th>\n",
       "      <td>0</td>\n",
       "      <td>0</td>\n",
       "      <td>0</td>\n",
       "      <td>0</td>\n",
       "      <td>0</td>\n",
       "      <td>0</td>\n",
       "      <td>0</td>\n",
       "      <td>0</td>\n",
       "      <td>0</td>\n",
       "      <td>0</td>\n",
       "      <td>0</td>\n",
       "      <td>0</td>\n",
       "      <td>0</td>\n",
       "    </tr>\n",
       "    <tr>\n",
       "      <th>2021-12-18 22:33:47.923702</th>\n",
       "      <td>0</td>\n",
       "      <td>0</td>\n",
       "      <td>0</td>\n",
       "      <td>0</td>\n",
       "      <td>0</td>\n",
       "      <td>0</td>\n",
       "      <td>0</td>\n",
       "      <td>0</td>\n",
       "      <td>0</td>\n",
       "      <td>0</td>\n",
       "      <td>0</td>\n",
       "      <td>0</td>\n",
       "      <td>0</td>\n",
       "    </tr>\n",
       "    <tr>\n",
       "      <th>2021-12-18 22:33:48.777555</th>\n",
       "      <td>0</td>\n",
       "      <td>0</td>\n",
       "      <td>0</td>\n",
       "      <td>0</td>\n",
       "      <td>0</td>\n",
       "      <td>0</td>\n",
       "      <td>0</td>\n",
       "      <td>0</td>\n",
       "      <td>0</td>\n",
       "      <td>0</td>\n",
       "      <td>0</td>\n",
       "      <td>0</td>\n",
       "      <td>0</td>\n",
       "    </tr>\n",
       "    <tr>\n",
       "      <th>2021-12-18 22:33:49.695432</th>\n",
       "      <td>0</td>\n",
       "      <td>0</td>\n",
       "      <td>0</td>\n",
       "      <td>0</td>\n",
       "      <td>0</td>\n",
       "      <td>0</td>\n",
       "      <td>0</td>\n",
       "      <td>0</td>\n",
       "      <td>0</td>\n",
       "      <td>0</td>\n",
       "      <td>0</td>\n",
       "      <td>0</td>\n",
       "      <td>0</td>\n",
       "    </tr>\n",
       "  </tbody>\n",
       "</table>\n",
       "<p>10800 rows × 13 columns</p>\n",
       "</div>"
      ],
      "text/plain": [
       "                            pm1_0cf1  pm2_5cf1  pm10cf1  pm1_0  pm2_5  pm10  \\\n",
       "datetime                                                                      \n",
       "2021-12-18 19:53:27.899489         0         0        0      0      0     0   \n",
       "2021-12-18 19:53:28.817320         0         0        0      0      0     0   \n",
       "2021-12-18 19:53:29.655135         0         0        0      0      0     0   \n",
       "2021-12-18 19:53:30.573125         0         0        0      0      0     0   \n",
       "2021-12-18 19:53:31.410849         0         0        0      0      0     0   \n",
       "...                              ...       ...      ...    ...    ...   ...   \n",
       "2021-12-18 22:33:46.151964         0         0        0      0      0     0   \n",
       "2021-12-18 22:33:47.005828         0         0        0      0      0     0   \n",
       "2021-12-18 22:33:47.923702         0         0        0      0      0     0   \n",
       "2021-12-18 22:33:48.777555         0         0        0      0      0     0   \n",
       "2021-12-18 22:33:49.695432         0         0        0      0      0     0   \n",
       "\n",
       "                            n0_3  n0_5  n1_0  n2_5  n5_0  n10  sensor_num  \n",
       "datetime                                                                   \n",
       "2021-12-18 19:53:27.899489     3     1     1     1     0    0           0  \n",
       "2021-12-18 19:53:28.817320     3     1     1     1     0    0           0  \n",
       "2021-12-18 19:53:29.655135     3     1     1     1     0    0           0  \n",
       "2021-12-18 19:53:30.573125     6     2     1     1     0    0           0  \n",
       "2021-12-18 19:53:31.410849     6     2     1     1     0    0           0  \n",
       "...                          ...   ...   ...   ...   ...  ...         ...  \n",
       "2021-12-18 22:33:46.151964     0     0     0     0     0    0           0  \n",
       "2021-12-18 22:33:47.005828     0     0     0     0     0    0           0  \n",
       "2021-12-18 22:33:47.923702     0     0     0     0     0    0           0  \n",
       "2021-12-18 22:33:48.777555     0     0     0     0     0    0           0  \n",
       "2021-12-18 22:33:49.695432     0     0     0     0     0    0           0  \n",
       "\n",
       "[10800 rows x 13 columns]"
      ]
     },
     "execution_count": 33,
     "metadata": {},
     "output_type": "execute_result"
    }
   ],
   "source": [
    "particle_counter_data"
   ]
  },
  {
   "cell_type": "code",
   "execution_count": 34,
   "id": "16e9ddea",
   "metadata": {},
   "outputs": [
    {
     "data": {
      "text/plain": [
       "<AxesSubplot:xlabel='datetime'>"
      ]
     },
     "execution_count": 34,
     "metadata": {},
     "output_type": "execute_result"
    },
    {
     "data": {
      "image/png": "[encoded data removed]",
      "text/plain": [
       "<Figure size 432x288 with 1 Axes>"
      ]
     },
     "metadata": {
      "needs_background": "light"
     },
     "output_type": "display_data"
    }
   ],
   "source": [
    "particle_counter_data['n0_3'].plot()"
   ]
  },
  {
   "cell_type": "code",
   "execution_count": 35,
   "id": "83ec4e83",
   "metadata": {},
   "outputs": [
    {
     "data": {
      "text/plain": [
       "<AxesSubplot:xlabel='datetime'>"
      ]
     },
     "execution_count": 35,
     "metadata": {},
     "output_type": "execute_result"
    },
    {
     "data": {
      "image/png": "[encoded data removed]",
      "text/plain": [
       "<Figure size 432x288 with 1 Axes>"
      ]
     },
     "metadata": {
      "needs_background": "light"
     },
     "output_type": "display_data"
    }
   ],
   "source": [
    "particle_counter_data['n0_5'].plot()"
   ]
  },
  {
   "cell_type": "code",
   "execution_count": 36,
   "id": "4fcb6ec4",
   "metadata": {},
   "outputs": [
    {
     "data": {
      "text/plain": [
       "<AxesSubplot:xlabel='datetime'>"
      ]
     },
     "execution_count": 36,
     "metadata": {},
     "output_type": "execute_result"
    },
    {
     "data": {
      "image/png": "[encoded data removed]",
      "text/plain": [
       "<Figure size 432x288 with 1 Axes>"
      ]
     },
     "metadata": {
      "needs_background": "light"
     },
     "output_type": "display_data"
    }
   ],
   "source": [
    "particle_counter_data['n1_0'].plot()"
   ]
  },
  {
   "cell_type": "code",
   "execution_count": 37,
   "id": "d4bd5ab1",
   "metadata": {},
   "outputs": [
    {
     "data": {
      "text/plain": [
       "<AxesSubplot:xlabel='datetime'>"
      ]
     },
     "execution_count": 37,
     "metadata": {},
     "output_type": "execute_result"
    },
    {
     "data": {
      "image/png": "[encoded data removed]",
      "text/plain": [
       "<Figure size 432x288 with 1 Axes>"
      ]
     },
     "metadata": {
      "needs_background": "light"
     },
     "output_type": "display_data"
    }
   ],
   "source": [
    "particle_counter_data['n2_5'].plot()"
   ]
  },
  {
   "cell_type": "code",
   "execution_count": null,
   "id": "14f1e021",
   "metadata": {},
   "outputs": [],
   "source": []
  },
  {
   "cell_type": "code",
   "execution_count": 38,
   "id": "e7c396f6",
   "metadata": {},
   "outputs": [
    {
     "data": {
      "text/plain": [
       "<matplotlib.lines.Line2D at 0x185f24e50>"
      ]
     },
     "execution_count": 38,
     "metadata": {},
     "output_type": "execute_result"
    },
    {
     "data": {
      "image/png": "[encoded data removed]",
      "text/plain": [
       "<Figure size 432x288 with 1 Axes>"
      ]
     },
     "metadata": {
      "needs_background": "light"
     },
     "output_type": "display_data"
    }
   ],
   "source": [
    "fig, ax = plt.subplots()\n",
    "particle_counter_data['pm1_0'].plot(ax=ax)\n",
    "ax.axvline(\"2021-12-18 21:01\", color='r')\n",
    "ax.axvline(\"2021-12-18 22:03\", color='g')\n",
    "ax.axvline(\"2021-12-18 22:33\", color='b')"
   ]
  },
  {
   "cell_type": "code",
   "execution_count": 39,
   "id": "54fb82d2",
   "metadata": {},
   "outputs": [],
   "source": [
    "particle_reset = particle_counter_data.reset_index()"
   ]
  },
  {
   "cell_type": "code",
   "execution_count": 40,
   "id": "958651a1",
   "metadata": {},
   "outputs": [],
   "source": [
    "def time_at(time_str, df):\n",
    "    time_str_plus_one_second = pd.to_datetime(time_str) + pd.Timedelta('1 second')\n",
    "    \n",
    "    return (df['datetime'] >= time_str) & \\\n",
    "        (df['datetime'] < time_str_plus_one_second)\n",
    "    "
   ]
  },
  {
   "cell_type": "code",
   "execution_count": 41,
   "id": "43b868e9",
   "metadata": {},
   "outputs": [
    {
     "data": {
      "text/plain": [
       "Timestamp('2021-12-18 21:01:01')"
      ]
     },
     "execution_count": 41,
     "metadata": {},
     "output_type": "execute_result"
    }
   ],
   "source": [
    "pd.to_datetime('2021-12-18 21:01:00') + pd.Timedelta('1 second')"
   ]
  },
  {
   "cell_type": "code",
   "execution_count": 42,
   "id": "7899b98d",
   "metadata": {},
   "outputs": [
    {
     "data": {
      "text/html": [
       "<div>\n",
       "<style scoped>\n",
       "    .dataframe tbody tr th:only-of-type {\n",
       "        vertical-align: middle;\n",
       "    }\n",
       "\n",
       "    .dataframe tbody tr th {\n",
       "        vertical-align: top;\n",
       "    }\n",
       "\n",
       "    .dataframe thead th {\n",
       "        text-align: right;\n",
       "    }\n",
       "</style>\n",
       "<table border=\"1\" class=\"dataframe\">\n",
       "  <thead>\n",
       "    <tr style=\"text-align: right;\">\n",
       "      <th></th>\n",
       "      <th>datetime</th>\n",
       "      <th>pm1_0cf1</th>\n",
       "      <th>pm2_5cf1</th>\n",
       "      <th>pm10cf1</th>\n",
       "      <th>pm1_0</th>\n",
       "      <th>pm2_5</th>\n",
       "      <th>pm10</th>\n",
       "      <th>n0_3</th>\n",
       "      <th>n0_5</th>\n",
       "      <th>n1_0</th>\n",
       "      <th>n2_5</th>\n",
       "      <th>n5_0</th>\n",
       "      <th>n10</th>\n",
       "      <th>sensor_num</th>\n",
       "    </tr>\n",
       "  </thead>\n",
       "  <tbody>\n",
       "    <tr>\n",
       "      <th>4737</th>\n",
       "      <td>2021-12-18 21:04:00.179341</td>\n",
       "      <td>47</td>\n",
       "      <td>75</td>\n",
       "      <td>79</td>\n",
       "      <td>37</td>\n",
       "      <td>59</td>\n",
       "      <td>71</td>\n",
       "      <td>5457</td>\n",
       "      <td>1804</td>\n",
       "      <td>426</td>\n",
       "      <td>31</td>\n",
       "      <td>5</td>\n",
       "      <td>2</td>\n",
       "      <td>0</td>\n",
       "    </tr>\n",
       "  </tbody>\n",
       "</table>\n",
       "</div>"
      ],
      "text/plain": [
       "                       datetime  pm1_0cf1  pm2_5cf1  pm10cf1  pm1_0  pm2_5  \\\n",
       "4737 2021-12-18 21:04:00.179341        47        75       79     37     59   \n",
       "\n",
       "      pm10  n0_3  n0_5  n1_0  n2_5  n5_0  n10  sensor_num  \n",
       "4737    71  5457  1804   426    31     5    2           0  "
      ]
     },
     "execution_count": 42,
     "metadata": {},
     "output_type": "execute_result"
    }
   ],
   "source": [
    "particle_reset[\n",
    "    time_at('2021-12-18 21:04:00', df=particle_reset)\n",
    "]"
   ]
  },
  {
   "cell_type": "code",
   "execution_count": 43,
   "id": "9b191597",
   "metadata": {},
   "outputs": [
    {
     "data": {
      "text/html": [
       "<div>\n",
       "<style scoped>\n",
       "    .dataframe tbody tr th:only-of-type {\n",
       "        vertical-align: middle;\n",
       "    }\n",
       "\n",
       "    .dataframe tbody tr th {\n",
       "        vertical-align: top;\n",
       "    }\n",
       "\n",
       "    .dataframe thead th {\n",
       "        text-align: right;\n",
       "    }\n",
       "</style>\n",
       "<table border=\"1\" class=\"dataframe\">\n",
       "  <thead>\n",
       "    <tr style=\"text-align: right;\">\n",
       "      <th></th>\n",
       "      <th>datetime</th>\n",
       "      <th>pm1_0cf1</th>\n",
       "      <th>pm2_5cf1</th>\n",
       "      <th>pm10cf1</th>\n",
       "      <th>pm1_0</th>\n",
       "      <th>pm2_5</th>\n",
       "      <th>pm10</th>\n",
       "      <th>n0_3</th>\n",
       "      <th>n0_5</th>\n",
       "      <th>n1_0</th>\n",
       "      <th>n2_5</th>\n",
       "      <th>n5_0</th>\n",
       "      <th>n10</th>\n",
       "      <th>sensor_num</th>\n",
       "    </tr>\n",
       "  </thead>\n",
       "  <tbody>\n",
       "    <tr>\n",
       "      <th>4537</th>\n",
       "      <td>2021-12-18 21:01:00.717187</td>\n",
       "      <td>52</td>\n",
       "      <td>84</td>\n",
       "      <td>87</td>\n",
       "      <td>40</td>\n",
       "      <td>63</td>\n",
       "      <td>76</td>\n",
       "      <td>6219</td>\n",
       "      <td>1969</td>\n",
       "      <td>478</td>\n",
       "      <td>40</td>\n",
       "      <td>3</td>\n",
       "      <td>1</td>\n",
       "      <td>0</td>\n",
       "    </tr>\n",
       "    <tr>\n",
       "      <th>4538</th>\n",
       "      <td>2021-12-18 21:01:01.619060</td>\n",
       "      <td>52</td>\n",
       "      <td>86</td>\n",
       "      <td>90</td>\n",
       "      <td>40</td>\n",
       "      <td>63</td>\n",
       "      <td>78</td>\n",
       "      <td>6234</td>\n",
       "      <td>1969</td>\n",
       "      <td>516</td>\n",
       "      <td>46</td>\n",
       "      <td>4</td>\n",
       "      <td>2</td>\n",
       "      <td>0</td>\n",
       "    </tr>\n",
       "    <tr>\n",
       "      <th>4539</th>\n",
       "      <td>2021-12-18 21:01:02.537044</td>\n",
       "      <td>52</td>\n",
       "      <td>84</td>\n",
       "      <td>90</td>\n",
       "      <td>40</td>\n",
       "      <td>63</td>\n",
       "      <td>78</td>\n",
       "      <td>6195</td>\n",
       "      <td>1957</td>\n",
       "      <td>527</td>\n",
       "      <td>42</td>\n",
       "      <td>4</td>\n",
       "      <td>2</td>\n",
       "      <td>0</td>\n",
       "    </tr>\n",
       "    <tr>\n",
       "      <th>4540</th>\n",
       "      <td>2021-12-18 21:01:03.438805</td>\n",
       "      <td>53</td>\n",
       "      <td>86</td>\n",
       "      <td>88</td>\n",
       "      <td>40</td>\n",
       "      <td>63</td>\n",
       "      <td>76</td>\n",
       "      <td>6354</td>\n",
       "      <td>1984</td>\n",
       "      <td>516</td>\n",
       "      <td>38</td>\n",
       "      <td>3</td>\n",
       "      <td>2</td>\n",
       "      <td>0</td>\n",
       "    </tr>\n",
       "    <tr>\n",
       "      <th>4541</th>\n",
       "      <td>2021-12-18 21:01:04.340676</td>\n",
       "      <td>55</td>\n",
       "      <td>86</td>\n",
       "      <td>88</td>\n",
       "      <td>41</td>\n",
       "      <td>63</td>\n",
       "      <td>76</td>\n",
       "      <td>6426</td>\n",
       "      <td>2009</td>\n",
       "      <td>514</td>\n",
       "      <td>34</td>\n",
       "      <td>3</td>\n",
       "      <td>2</td>\n",
       "      <td>0</td>\n",
       "    </tr>\n",
       "    <tr>\n",
       "      <th>...</th>\n",
       "      <td>...</td>\n",
       "      <td>...</td>\n",
       "      <td>...</td>\n",
       "      <td>...</td>\n",
       "      <td>...</td>\n",
       "      <td>...</td>\n",
       "      <td>...</td>\n",
       "      <td>...</td>\n",
       "      <td>...</td>\n",
       "      <td>...</td>\n",
       "      <td>...</td>\n",
       "      <td>...</td>\n",
       "      <td>...</td>\n",
       "      <td>...</td>\n",
       "    </tr>\n",
       "    <tr>\n",
       "      <th>10795</th>\n",
       "      <td>2021-12-18 22:33:46.151964</td>\n",
       "      <td>0</td>\n",
       "      <td>0</td>\n",
       "      <td>0</td>\n",
       "      <td>0</td>\n",
       "      <td>0</td>\n",
       "      <td>0</td>\n",
       "      <td>0</td>\n",
       "      <td>0</td>\n",
       "      <td>0</td>\n",
       "      <td>0</td>\n",
       "      <td>0</td>\n",
       "      <td>0</td>\n",
       "      <td>0</td>\n",
       "    </tr>\n",
       "    <tr>\n",
       "      <th>10796</th>\n",
       "      <td>2021-12-18 22:33:47.005828</td>\n",
       "      <td>0</td>\n",
       "      <td>0</td>\n",
       "      <td>0</td>\n",
       "      <td>0</td>\n",
       "      <td>0</td>\n",
       "      <td>0</td>\n",
       "      <td>0</td>\n",
       "      <td>0</td>\n",
       "      <td>0</td>\n",
       "      <td>0</td>\n",
       "      <td>0</td>\n",
       "      <td>0</td>\n",
       "      <td>0</td>\n",
       "    </tr>\n",
       "    <tr>\n",
       "      <th>10797</th>\n",
       "      <td>2021-12-18 22:33:47.923702</td>\n",
       "      <td>0</td>\n",
       "      <td>0</td>\n",
       "      <td>0</td>\n",
       "      <td>0</td>\n",
       "      <td>0</td>\n",
       "      <td>0</td>\n",
       "      <td>0</td>\n",
       "      <td>0</td>\n",
       "      <td>0</td>\n",
       "      <td>0</td>\n",
       "      <td>0</td>\n",
       "      <td>0</td>\n",
       "      <td>0</td>\n",
       "    </tr>\n",
       "    <tr>\n",
       "      <th>10798</th>\n",
       "      <td>2021-12-18 22:33:48.777555</td>\n",
       "      <td>0</td>\n",
       "      <td>0</td>\n",
       "      <td>0</td>\n",
       "      <td>0</td>\n",
       "      <td>0</td>\n",
       "      <td>0</td>\n",
       "      <td>0</td>\n",
       "      <td>0</td>\n",
       "      <td>0</td>\n",
       "      <td>0</td>\n",
       "      <td>0</td>\n",
       "      <td>0</td>\n",
       "      <td>0</td>\n",
       "    </tr>\n",
       "    <tr>\n",
       "      <th>10799</th>\n",
       "      <td>2021-12-18 22:33:49.695432</td>\n",
       "      <td>0</td>\n",
       "      <td>0</td>\n",
       "      <td>0</td>\n",
       "      <td>0</td>\n",
       "      <td>0</td>\n",
       "      <td>0</td>\n",
       "      <td>0</td>\n",
       "      <td>0</td>\n",
       "      <td>0</td>\n",
       "      <td>0</td>\n",
       "      <td>0</td>\n",
       "      <td>0</td>\n",
       "      <td>0</td>\n",
       "    </tr>\n",
       "  </tbody>\n",
       "</table>\n",
       "<p>6263 rows × 14 columns</p>\n",
       "</div>"
      ],
      "text/plain": [
       "                        datetime  pm1_0cf1  pm2_5cf1  pm10cf1  pm1_0  pm2_5  \\\n",
       "4537  2021-12-18 21:01:00.717187        52        84       87     40     63   \n",
       "4538  2021-12-18 21:01:01.619060        52        86       90     40     63   \n",
       "4539  2021-12-18 21:01:02.537044        52        84       90     40     63   \n",
       "4540  2021-12-18 21:01:03.438805        53        86       88     40     63   \n",
       "4541  2021-12-18 21:01:04.340676        55        86       88     41     63   \n",
       "...                          ...       ...       ...      ...    ...    ...   \n",
       "10795 2021-12-18 22:33:46.151964         0         0        0      0      0   \n",
       "10796 2021-12-18 22:33:47.005828         0         0        0      0      0   \n",
       "10797 2021-12-18 22:33:47.923702         0         0        0      0      0   \n",
       "10798 2021-12-18 22:33:48.777555         0         0        0      0      0   \n",
       "10799 2021-12-18 22:33:49.695432         0         0        0      0      0   \n",
       "\n",
       "       pm10  n0_3  n0_5  n1_0  n2_5  n5_0  n10  sensor_num  \n",
       "4537     76  6219  1969   478    40     3    1           0  \n",
       "4538     78  6234  1969   516    46     4    2           0  \n",
       "4539     78  6195  1957   527    42     4    2           0  \n",
       "4540     76  6354  1984   516    38     3    2           0  \n",
       "4541     76  6426  2009   514    34     3    2           0  \n",
       "...     ...   ...   ...   ...   ...   ...  ...         ...  \n",
       "10795     0     0     0     0     0     0    0           0  \n",
       "10796     0     0     0     0     0     0    0           0  \n",
       "10797     0     0     0     0     0     0    0           0  \n",
       "10798     0     0     0     0     0     0    0           0  \n",
       "10799     0     0     0     0     0     0    0           0  \n",
       "\n",
       "[6263 rows x 14 columns]"
      ]
     },
     "execution_count": 43,
     "metadata": {},
     "output_type": "execute_result"
    }
   ],
   "source": [
    "particle_reset[particle_reset['datetime'] > '2021-12-18 21:01']"
   ]
  },
  {
   "cell_type": "code",
   "execution_count": 44,
   "id": "b0e4efae",
   "metadata": {},
   "outputs": [
    {
     "data": {
      "text/plain": [
       "datetime\n",
       "2021-12-18 19:53:27.899489    0\n",
       "2021-12-18 19:53:28.817320    0\n",
       "2021-12-18 19:53:29.655135    0\n",
       "2021-12-18 19:53:30.573125    0\n",
       "2021-12-18 19:53:31.410849    0\n",
       "                             ..\n",
       "2021-12-18 22:33:46.151964    0\n",
       "2021-12-18 22:33:47.005828    0\n",
       "2021-12-18 22:33:47.923702    0\n",
       "2021-12-18 22:33:48.777555    0\n",
       "2021-12-18 22:33:49.695432    0\n",
       "Name: pm1_0, Length: 10800, dtype: int64"
      ]
     },
     "execution_count": 44,
     "metadata": {},
     "output_type": "execute_result"
    }
   ],
   "source": [
    "particle_counter_data['pm1_0']"
   ]
  },
  {
   "cell_type": "code",
   "execution_count": 45,
   "id": "17c1a31a",
   "metadata": {},
   "outputs": [
    {
     "data": {
      "text/plain": [
       "189.47368421052633"
      ]
     },
     "execution_count": 45,
     "metadata": {},
     "output_type": "execute_result"
    }
   ],
   "source": [
    "720/3.8"
   ]
  },
  {
   "cell_type": "code",
   "execution_count": 46,
   "id": "e423c43b",
   "metadata": {},
   "outputs": [
    {
     "data": {
      "text/plain": [
       "-0.07569058622018243"
      ]
     },
     "execution_count": 46,
     "metadata": {},
     "output_type": "execute_result"
    }
   ],
   "source": [
    "1.0 - np.exp((720.0 / (3.8 * 3600)) * np.log(4)) "
   ]
  },
  {
   "cell_type": "code",
   "execution_count": 47,
   "id": "a5c583c5",
   "metadata": {},
   "outputs": [
    {
     "data": {
      "text/plain": [
       "1.083480390254976"
      ]
     },
     "execution_count": 47,
     "metadata": {},
     "output_type": "execute_result"
    }
   ],
   "source": [
    " ((720.0 / 180) * np.log(1.0/9)) / np.log(0.0003)"
   ]
  },
  {
   "cell_type": "code",
   "execution_count": 48,
   "id": "28512175",
   "metadata": {},
   "outputs": [
    {
     "data": {
      "text/plain": [
       "0.6170071333491278"
      ]
     },
     "execution_count": 48,
     "metadata": {},
     "output_type": "execute_result"
    }
   ],
   "source": [
    "1 - np.exp(1215.0 / (233.0 * 30.0) * np.log(1-0.996))"
   ]
  },
  {
   "cell_type": "code",
   "execution_count": 49,
   "id": "9ac56060",
   "metadata": {},
   "outputs": [
    {
     "data": {
      "text/plain": [
       "0.07602513137100067"
      ]
     },
     "execution_count": 49,
     "metadata": {},
     "output_type": "execute_result"
    }
   ],
   "source": [
    "(720.0 / (3600.0 * 3.8)) * np.log(1.0/4) / np.log(1-0.617)"
   ]
  },
  {
   "cell_type": "code",
   "execution_count": 50,
   "id": "5579f4b6",
   "metadata": {},
   "outputs": [
    {
     "data": {
      "text/plain": [
       "0.36791758646063283"
      ]
     },
     "execution_count": 50,
     "metadata": {},
     "output_type": "execute_result"
    }
   ],
   "source": [
    "1.0 / 2.718"
   ]
  },
  {
   "cell_type": "code",
   "execution_count": 51,
   "id": "59c9bcf3",
   "metadata": {},
   "outputs": [
    {
     "data": {
      "text/plain": [
       "1.8751412236067268e-165"
      ]
     },
     "execution_count": 51,
     "metadata": {},
     "output_type": "execute_result"
    }
   ],
   "source": [
    "0.9**3600"
   ]
  },
  {
   "cell_type": "code",
   "execution_count": 52,
   "id": "255c41b7",
   "metadata": {},
   "outputs": [
    {
     "data": {
      "text/plain": [
       "1.8751412236327937e-165"
      ]
     },
     "execution_count": 52,
     "metadata": {},
     "output_type": "execute_result"
    }
   ],
   "source": [
    "np.exp(sum([np.log(0.9) for i in range(3600)]))"
   ]
  },
  {
   "cell_type": "markdown",
   "id": "ff096b80-c41b-403a-a3ea-0fa0ba090ed3",
   "metadata": {},
   "source": [
    "### pm_actual"
   ]
  },
  {
   "cell_type": "code",
   "execution_count": 53,
   "id": "c080ea10",
   "metadata": {},
   "outputs": [],
   "source": [
    "def pm_actual(\n",
    "    last_value,\n",
    "    filtration_eff,\n",
    "    decay,\n",
    "    air_delivery_rate,\n",
    "    room_volume,\n",
    "):\n",
    "    power = filtration_eff * air_delivery_rate / room_volume \n",
    "    return last_value * (decay) ** power"
   ]
  },
  {
   "cell_type": "markdown",
   "id": "c01b92b2-afc4-4cfa-a2df-ae97616f0420",
   "metadata": {},
   "source": [
    "### apply_recursive_pm"
   ]
  },
  {
   "cell_type": "code",
   "execution_count": 54,
   "id": "e23b4c92",
   "metadata": {},
   "outputs": [],
   "source": [
    "def apply_recursive_pm(\n",
    "    start_pm=100,\n",
    "    filtration_eff=0.07,\n",
    "    decay=0.383,\n",
    "    air_delivery_rate=3.7,\n",
    "    room_volume=720\n",
    "):\n",
    "\n",
    "    collection = [start_pm]\n",
    "\n",
    "    for i in range(3599):\n",
    "\n",
    "        new_value = pm_actual(\n",
    "            last_value=collection[i],\n",
    "            filtration_eff=filtration_eff,\n",
    "            decay=decay,\n",
    "            air_delivery_rate=air_delivery_rate,\n",
    "            room_volume=room_volume,\n",
    "        )\n",
    "\n",
    "        collection.append(new_value)\n",
    "    \n",
    "    return pd.Series(collection)"
   ]
  },
  {
   "cell_type": "code",
   "execution_count": 55,
   "id": "69230995",
   "metadata": {},
   "outputs": [],
   "source": [
    "collection = apply_recursive_pm(\n",
    "    start_pm=40,\n",
    "    filtration_eff=0.08,\n",
    "    decay=0.383,\n",
    "    air_delivery_rate=3.7,\n",
    "    room_volume=720\n",
    ")"
   ]
  },
  {
   "cell_type": "code",
   "execution_count": 56,
   "id": "9f557b5a",
   "metadata": {},
   "outputs": [],
   "source": [
    "pm_readings = particle_counter_data.reset_index()\n"
   ]
  },
  {
   "cell_type": "code",
   "execution_count": 57,
   "id": "2ca0e46c",
   "metadata": {},
   "outputs": [],
   "source": [
    "microfiber = pm_readings[\n",
    "    (pm_readings['datetime'] > '2021-12-18 21:01') & \n",
    "    (pm_readings['datetime'] <= '2021-12-18 22:01')\n",
    "]"
   ]
  },
  {
   "cell_type": "code",
   "execution_count": 58,
   "id": "7af787d8",
   "metadata": {},
   "outputs": [
    {
     "data": {
      "text/plain": [
       "4537    21\n",
       "4538    21\n",
       "4539    21\n",
       "4540    21\n",
       "4541    21\n",
       "        ..\n",
       "8567    22\n",
       "8568    22\n",
       "8569    22\n",
       "8570    22\n",
       "8571    22\n",
       "Name: datetime, Length: 4035, dtype: int64"
      ]
     },
     "execution_count": 58,
     "metadata": {},
     "output_type": "execute_result"
    }
   ],
   "source": [
    "microfiber['datetime'].dt.hour"
   ]
  },
  {
   "cell_type": "markdown",
   "id": "5adad221-7a39-4502-8228-c25c2dc3b69e",
   "metadata": {},
   "source": [
    "### Produce simulated data using priors (prior predictive distribution)"
   ]
  },
  {
   "cell_type": "code",
   "execution_count": 59,
   "id": "a24ae4d8",
   "metadata": {},
   "outputs": [
    {
     "name": "stderr",
     "output_type": "stream",
     "text": [
      "/Users/eugaddan/miniconda3/envs/linx_dev_env/lib/python3.9/site-packages/pandas/core/indexing.py:1667: SettingWithCopyWarning: \n",
      "A value is trying to be set on a copy of a slice from a DataFrame.\n",
      "Try using .loc[row_indexer,col_indexer] = value instead\n",
      "\n",
      "See the caveats in the documentation: https://pandas.pydata.org/pandas-docs/stable/user_guide/indexing.html#returning-a-view-versus-a-copy\n",
      "  self.obj[key] = value\n"
     ]
    }
   ],
   "source": [
    "microfiber.loc[:, 'rank'] = microfiber.groupby(\n",
    "    [\n",
    "        microfiber['datetime'].dt.hour,\n",
    "        microfiber['datetime'].dt.minute,\n",
    "        microfiber['datetime'].dt.second\n",
    "    ]\n",
    ")['datetime'].transform('rank').copy()"
   ]
  },
  {
   "cell_type": "code",
   "execution_count": 60,
   "id": "896730c2",
   "metadata": {},
   "outputs": [],
   "source": [
    "only_one_reading = microfiber[microfiber['rank'] == 1].reset_index()"
   ]
  },
  {
   "cell_type": "code",
   "execution_count": 61,
   "id": "e6cc0727",
   "metadata": {},
   "outputs": [
    {
     "data": {
      "text/plain": [
       "<AxesSubplot:>"
      ]
     },
     "execution_count": 61,
     "metadata": {},
     "output_type": "execute_result"
    },
    {
     "data": {
      "image/png": "[encoded data removed]",
      "text/plain": [
       "<Figure size 432x288 with 1 Axes>"
      ]
     },
     "metadata": {
      "needs_background": "light"
     },
     "output_type": "display_data"
    }
   ],
   "source": [
    "only_one_reading['pm1_0'].plot()"
   ]
  },
  {
   "cell_type": "code",
   "execution_count": 62,
   "id": "6e451148",
   "metadata": {},
   "outputs": [
    {
     "data": {
      "text/plain": [
       "<AxesSubplot:>"
      ]
     },
     "execution_count": 62,
     "metadata": {},
     "output_type": "execute_result"
    },
    {
     "data": {
      "image/png": "[encoded data removed]",
      "text/plain": [
       "<Figure size 432x288 with 1 Axes>"
      ]
     },
     "metadata": {
      "needs_background": "light"
     },
     "output_type": "display_data"
    }
   ],
   "source": [
    "fig, ax = plt.subplots()\n",
    "collection.plot(ax=ax)\n",
    "only_one_reading['pm1_0'].plot(ax=ax, color='r')\n",
    "\n"
   ]
  },
  {
   "cell_type": "code",
   "execution_count": 63,
   "id": "8245330c",
   "metadata": {},
   "outputs": [
    {
     "data": {
      "text/plain": [
       "<AxesSubplot:xlabel='datetime'>"
      ]
     },
     "execution_count": 63,
     "metadata": {},
     "output_type": "execute_result"
    },
    {
     "data": {
      "image/png": "[encoded data removed]",
      "text/plain": [
       "<Figure size 432x288 with 1 Axes>"
      ]
     },
     "metadata": {
      "needs_background": "light"
     },
     "output_type": "display_data"
    }
   ],
   "source": [
    "particle_counter_data['pm1_0'].plot()"
   ]
  },
  {
   "cell_type": "code",
   "execution_count": 64,
   "id": "97da28ff",
   "metadata": {},
   "outputs": [
    {
     "data": {
      "text/plain": [
       "<AxesSubplot:xlabel='datetime'>"
      ]
     },
     "execution_count": 64,
     "metadata": {},
     "output_type": "execute_result"
    },
    {
     "data": {
      "image/png": "[encoded data removed]",
      "text/plain": [
       "<Figure size 432x288 with 1 Axes>"
      ]
     },
     "metadata": {
      "needs_background": "light"
     },
     "output_type": "display_data"
    }
   ],
   "source": [
    "particle_counter_data['pm2_5'].plot()"
   ]
  },
  {
   "cell_type": "code",
   "execution_count": 65,
   "id": "7eccfa50",
   "metadata": {},
   "outputs": [
    {
     "data": {
      "text/plain": [
       "<AxesSubplot:xlabel='datetime'>"
      ]
     },
     "execution_count": 65,
     "metadata": {},
     "output_type": "execute_result"
    },
    {
     "data": {
      "image/png": "[encoded data removed]",
      "text/plain": [
       "<Figure size 432x288 with 1 Axes>"
      ]
     },
     "metadata": {
      "needs_background": "light"
     },
     "output_type": "display_data"
    }
   ],
   "source": [
    "particle_counter_data['pm10'].plot()"
   ]
  },
  {
   "cell_type": "code",
   "execution_count": 66,
   "id": "7d42b9b4",
   "metadata": {},
   "outputs": [
    {
     "data": {
      "text/plain": [
       "<AxesSubplot:xlabel='datetime'>"
      ]
     },
     "execution_count": 66,
     "metadata": {},
     "output_type": "execute_result"
    },
    {
     "data": {
      "image/png": "[encoded data removed]",
      "text/plain": [
       "<Figure size 432x288 with 1 Axes>"
      ]
     },
     "metadata": {
      "needs_background": "light"
     },
     "output_type": "display_data"
    }
   ],
   "source": [
    "particle_counter_data['n5_0'].plot()"
   ]
  },
  {
   "cell_type": "code",
   "execution_count": 67,
   "id": "48ae85b5",
   "metadata": {},
   "outputs": [
    {
     "data": {
      "text/plain": [
       "<AxesSubplot:xlabel='datetime'>"
      ]
     },
     "execution_count": 67,
     "metadata": {},
     "output_type": "execute_result"
    },
    {
     "data": {
      "image/png": "[encoded data removed]",
      "text/plain": [
       "<Figure size 432x288 with 1 Axes>"
      ]
     },
     "metadata": {
      "needs_background": "light"
     },
     "output_type": "display_data"
    }
   ],
   "source": [
    "particle_counter_data['n2_5'].plot()"
   ]
  },
  {
   "cell_type": "code",
   "execution_count": 68,
   "id": "99a1eaa5",
   "metadata": {},
   "outputs": [],
   "source": [
    "total_area = np.pi * ((5.5+8)/(2* 12))**2\n",
    "no_airflow_area = np.pi * (5.5/(12 * 2))**2\n",
    "\n",
    "avg_mps = anemometer_readings['reading'].mean()\n",
    "avg_fps = avg_mps * 3.28\n",
    "airflow_estimate = (total_area - no_airflow_area) * avg_fps"
   ]
  },
  {
   "cell_type": "code",
   "execution_count": 69,
   "id": "a77be759",
   "metadata": {},
   "outputs": [
    {
     "data": {
      "text/plain": [
       "(3.8297710237678957, 4.010655219682763)"
      ]
     },
     "execution_count": 69,
     "metadata": {},
     "output_type": "execute_result"
    }
   ],
   "source": [
    "se = anemometer_readings['reading'].std() / np.sqrt(anemometer_readings.shape[0])\n",
    "(airflow_estimate - se, airflow_estimate + se)"
   ]
  },
  {
   "cell_type": "code",
   "execution_count": 70,
   "id": "5a3f43f0",
   "metadata": {},
   "outputs": [
    {
     "data": {
      "text/plain": [
       "0.8290313946973065"
      ]
     },
     "execution_count": 70,
     "metadata": {},
     "output_type": "execute_result"
    }
   ],
   "source": [
    "total_area - no_airflow_area"
   ]
  },
  {
   "cell_type": "markdown",
   "id": "ca9371f3",
   "metadata": {},
   "source": [
    "## Calculate Air Delivery Rate of Coway AP-1512HH"
   ]
  },
  {
   "cell_type": "code",
   "execution_count": 71,
   "id": "eb6f15c6",
   "metadata": {},
   "outputs": [],
   "source": [
    "def cubic_feet_per_second(fs_of_layers, surface_areas_of_layers):\n",
    "    \"\"\"\n",
    "    Parameters:\n",
    "        fs_of_layers: np.array[float]\n",
    "            Rate of airflow of each layer (Feet per second)\n",
    "        surface_areas_of_layers: np.array[float]\n",
    "            Surface area of each layer (Square feet)\n",
    "            \n",
    "    Returns: float\n",
    "    \"\"\"\n",
    "    \n",
    "    return (fs_of_layers * surface_areas_of_layers).sum()"
   ]
  },
  {
   "cell_type": "code",
   "execution_count": 72,
   "id": "52ceae93",
   "metadata": {},
   "outputs": [
    {
     "data": {
      "text/plain": [
       "1.2"
      ]
     },
     "execution_count": 72,
     "metadata": {},
     "output_type": "execute_result"
    }
   ],
   "source": [
    "round(1.2345,1)"
   ]
  },
  {
   "cell_type": "code",
   "execution_count": 73,
   "id": "9340afb7",
   "metadata": {},
   "outputs": [],
   "source": [
    "# def create_airflow_rate_table():\n",
    "#     collection = []\n",
    "          \n",
    "#     surface_areas_of_layers = [\n",
    "#         surface_area_of_layer_in_sq_ft(i) for i in range(5)\n",
    "#     ]\n",
    "    \n",
    "    \n",
    "#     for layer_0_fs in np.arange(0, 15, 0.1):\n",
    "#         layer_0_fs = round(layer_0_fs, 2)\n",
    "        \n",
    "#         for layer_1_fs in np.arange(0, 15, 0.1):\n",
    "#             layer_1_fs = round(layer_1_fs, 2)\n",
    "            \n",
    "#             for layer_2_fs in np.arange(0, 15, 0.1):\n",
    "#                 layer_2_fs = round(layer_2_fs, 2)\n",
    "                \n",
    "#                 for layer_3_fs in np.arange(0, 15, 0.1):\n",
    "#                     layer_3_fs = round(layer_3_fs, 2)\n",
    "                    \n",
    "#                     for layer_4_fs in np.arange(0, 15, 0.1):\n",
    "#                         layer_4_fs = round(layer_4_fs, 2)\n",
    "                        \n",
    "#                         fs_of_layers = np.array([\n",
    "#                             layer_0_fs,\n",
    "#                             layer_1_fs,\n",
    "#                             layer_2_fs,\n",
    "#                             layer_3_fs,\n",
    "#                             layer_4_fs\n",
    "#                         ])\n",
    "                        \n",
    "#                         cfs = cubic_feet_per_second(\n",
    "#                             fs_of_layers, \n",
    "#                             surface_areas_of_layers\n",
    "#                         )\n",
    "\n",
    "#                         for layer, fs in enumerate(fs_of_layers):\n",
    "#                             dictionary['flayer {layer} feet per second'] = fs\n",
    "                            \n",
    "#                         dictionary['cubic feet per second'] = round(cfs, 1)\n",
    "#                         dictionary['value'] = 1\n",
    "                        \n",
    "#                         collection.append(dictionary)\n",
    "                        \n",
    "#                         for i in np.arange(0, 15, 0.1):\n",
    "                        \n",
    "                        \n",
    "\n",
    "#     cfs = cubic_feet_per_second(\n",
    "#         fs_of_layers, \n",
    "#         surface_areas_of_layers\n",
    "#     )\n",
    "    \n",
    "#     dictionary['airflow'] = cfs"
   ]
  },
  {
   "cell_type": "code",
   "execution_count": 74,
   "id": "b4a694f1",
   "metadata": {},
   "outputs": [],
   "source": [
    "def least_significant_digit_power(num_string):\n",
    "    if '.' in num_string:\n",
    "        # There's a decimal point. Figure out how many digits are to the right\n",
    "        # of the decimal point and negate that.\n",
    "        return len(num_string.partition('.')[2])\n",
    "    else:\n",
    "        # No decimal point. Count trailing zeros.\n",
    "        return len(num_string) - len(num_string.rstrip('0'))"
   ]
  },
  {
   "cell_type": "code",
   "execution_count": 75,
   "id": "5efdfbd0",
   "metadata": {},
   "outputs": [
    {
     "data": {
      "text/plain": [
       "6"
      ]
     },
     "execution_count": 75,
     "metadata": {},
     "output_type": "execute_result"
    }
   ],
   "source": [
    "least_significant_digit_power(\"0.123456\")"
   ]
  },
  {
   "cell_type": "markdown",
   "id": "f7ea1068-f907-41a5-ac4a-0163d312367a",
   "metadata": {},
   "source": [
    "### accuracy"
   ]
  },
  {
   "cell_type": "code",
   "execution_count": 76,
   "id": "3c74a731",
   "metadata": {},
   "outputs": [],
   "source": [
    "def accuracy(mps):\n",
    "    \"\"\"\n",
    "    Parameters:\n",
    "        Reading in meters per second (m/s)\n",
    "    \"\"\"\n",
    "    \n",
    "    # m / s * 3.28084 ft / m\n",
    "    #mps = reading * 3.28084\n",
    "    val_1 = 0.03 * mps\n",
    "    val_2 = mps - int(mps)\n",
    "    # 20 ft/min * 1 min / 60 sec = 0.33 ft / sec\n",
    "    val_3 = 0.33\n",
    "    \n",
    "    return max(val_1, val_2, val_3)\n",
    "    \n",
    "    "
   ]
  },
  {
   "cell_type": "code",
   "execution_count": 77,
   "id": "33c8aca6",
   "metadata": {},
   "outputs": [
    {
     "data": {
      "text/plain": [
       "<AxesSubplot:>"
      ]
     },
     "execution_count": 77,
     "metadata": {},
     "output_type": "execute_result"
    },
    {
     "data": {
      "image/png": "[encoded data removed]",
      "text/plain": [
       "<Figure size 432x288 with 1 Axes>"
      ]
     },
     "metadata": {
      "needs_background": "light"
     },
     "output_type": "display_data"
    }
   ],
   "source": [
    "pd.Series(np.random.normal(10, 0.1, size=10000)).hist(bins=100)"
   ]
  },
  {
   "cell_type": "markdown",
   "id": "3d5c7c33-a065-4a3b-af68-c98a4553bdf1",
   "metadata": {},
   "source": [
    "### meters_to_feet"
   ]
  },
  {
   "cell_type": "code",
   "execution_count": 78,
   "id": "aa6d3b13",
   "metadata": {},
   "outputs": [],
   "source": [
    "def meters_to_feet(meters):\n",
    "    return meters * 3.280 # feet per meter"
   ]
  },
  {
   "cell_type": "markdown",
   "id": "66c9ee24-aec7-440c-bbfc-625c7652bde0",
   "metadata": {},
   "source": [
    "### inches_to_feet"
   ]
  },
  {
   "cell_type": "code",
   "execution_count": 79,
   "id": "e65cdb30",
   "metadata": {},
   "outputs": [],
   "source": [
    "def inches_to_feet(inches):\n",
    "    return inches / 12.0"
   ]
  },
  {
   "cell_type": "markdown",
   "id": "a2cb8fe9-b15b-4a17-a44a-7f311266a0f3",
   "metadata": {},
   "source": [
    "### coway_mps"
   ]
  },
  {
   "cell_type": "code",
   "execution_count": 80,
   "id": "4c5f0b58",
   "metadata": {},
   "outputs": [],
   "source": [
    "coway_mps = pd.DataFrame(\n",
    "    [\n",
    "        {'x': 0, 'y': 0, \"measured_mps\": 10.5},\n",
    "        {'x': 0, 'y': 1, \"measured_mps\": 10.4},\n",
    "        {'x': 0, 'y': 2, \"measured_mps\": 8.4},\n",
    "        {'x': 1, 'y': 0, \"measured_mps\": 9.8},\n",
    "        {'x': 1, 'y': 1, \"measured_mps\": 11.8},\n",
    "        {'x': 1, 'y': 2, \"measured_mps\": 10.1},\n",
    "        {'x': 2, 'y': 0, \"measured_mps\": 8.6},\n",
    "        {'x': 2, 'y': 1, \"measured_mps\": 9.8},\n",
    "        {'x': 2, 'y': 2, \"measured_mps\": 8.6},\n",
    "        {'x': 3, 'y': 0, \"measured_mps\": 8.6},\n",
    "        {'x': 3, 'y': 1, \"measured_mps\": 10.1},\n",
    "        {'x': 3, 'y': 2, \"measured_mps\": 8.6},\n",
    "    ]\n",
    ")\n"
   ]
  },
  {
   "cell_type": "markdown",
   "id": "2f9b8124-7e00-4b84-8a22-9e4c654e7103",
   "metadata": {},
   "source": [
    "### compute_cfps_rectangular_air_cleaner"
   ]
  },
  {
   "cell_type": "code",
   "execution_count": 81,
   "id": "714d2144-be0b-423f-b7f9-d4a5d4e5175a",
   "metadata": {},
   "outputs": [],
   "source": [
    "\n",
    "\n",
    "def compute_cfps_rectangular_air_cleaner(\n",
    "    num_sub_sections,\n",
    "    mps,\n",
    "    width_in=4.75,\n",
    "    height_in=3.75,\n",
    "    num_sims=10000\n",
    "):\n",
    "    \"\"\"\n",
    "    Parameters:\n",
    "        num_sub_sections: integer\n",
    "            Number of sub-sections in the rectangular area.\n",
    "        mps: float\n",
    "            Flow rate in meters per second.\n",
    "        total_area: float\n",
    "            Total area in square inches.\n",
    "        num_sims: integer\n",
    "            Number of simulations\n",
    "    \"\"\"\n",
    "    total = np.zeros(num_sims)\n",
    "    sub_area = inches_to_feet(width_in) * inches_to_feet(height_in) / num_sub_sections\n",
    "\n",
    "    for i, row in mps.iterrows():\n",
    "        total += np.random.normal(\n",
    "            meters_to_feet(row['measured_mps']),\n",
    "            0.1,\n",
    "            size=num_sims\n",
    "        ) * sub_area\n",
    "\n",
    "    return pd.Series(total)\n"
   ]
  },
  {
   "cell_type": "code",
   "execution_count": 82,
   "id": "d9f63477",
   "metadata": {},
   "outputs": [],
   "source": [
    "coway_cfps = compute_cfps_rectangular_air_cleaner(\n",
    "    num_sub_sections = coway_mps.shape[0],\n",
    "    mps=coway_mps,\n",
    "    width_in=4.75,\n",
    "    height_in=3.75,\n",
    ")"
   ]
  },
  {
   "cell_type": "code",
   "execution_count": 83,
   "id": "70fd5d17",
   "metadata": {},
   "outputs": [
    {
     "data": {
      "text/plain": [
       "Text(0.5, 0, 'Cubic Feet per Second')"
      ]
     },
     "execution_count": 83,
     "metadata": {},
     "output_type": "execute_result"
    },
    {
     "data": {
      "image/png": "[encoded data removed]",
      "text/plain": [
       "<Figure size 432x288 with 1 Axes>"
      ]
     },
     "metadata": {
      "needs_background": "light"
     },
     "output_type": "display_data"
    }
   ],
   "source": [
    "fig, ax = plt.subplots()\n",
    "coway_cfps.plot.kde(\n",
    "    ax=ax\n",
    ")\n",
    "ax.set_title(\"Coway AP-1512HH Air Delivery Rate\")\n",
    "ax.set_xlabel(\"Cubic Feet per Second\")"
   ]
  },
  {
   "cell_type": "markdown",
   "id": "cd3631d1",
   "metadata": {},
   "source": [
    "This aligns with the manufacturer's claim that this is good for 360 sq. ft (to get 4 ACH):"
   ]
  },
  {
   "cell_type": "code",
   "execution_count": 84,
   "id": "c19a7000",
   "metadata": {},
   "outputs": [
    {
     "data": {
      "text/plain": [
       "Text(0.5, 0, 'Cubic Feet per Hour')"
      ]
     },
     "execution_count": 84,
     "metadata": {},
     "output_type": "execute_result"
    },
    {
     "data": {
      "image/png": "[encoded data removed]",
      "text/plain": [
       "<Figure size 432x288 with 1 Axes>"
      ]
     },
     "metadata": {
      "needs_background": "light"
     },
     "output_type": "display_data"
    }
   ],
   "source": [
    "fig, ax = plt.subplots()\n",
    "(coway_cfps * 3600).plot.kde(title='Coway AP-1512HH Air Delivery Rate per Hour', ax=ax)\n",
    "ax.set_xlabel(\"Cubic Feet per Hour\")"
   ]
  },
  {
   "cell_type": "code",
   "execution_count": 85,
   "id": "0dc5f78d",
   "metadata": {},
   "outputs": [],
   "source": [
    "cfps = pd.DataFrame({'cfps': coway_cfps.round(3)})"
   ]
  },
  {
   "cell_type": "code",
   "execution_count": 86,
   "id": "f89e4b9c",
   "metadata": {},
   "outputs": [],
   "source": [
    "cfps['value'] = 0"
   ]
  },
  {
   "cell_type": "code",
   "execution_count": 87,
   "id": "acbea115",
   "metadata": {},
   "outputs": [],
   "source": [
    "def normalize(df, x='cfps'):\n",
    "    return df.groupby(x).count() / df.groupby(x).count().sum()"
   ]
  },
  {
   "cell_type": "code",
   "execution_count": 88,
   "id": "28c90184",
   "metadata": {},
   "outputs": [
    {
     "data": {
      "text/html": [
       "<div>\n",
       "<style scoped>\n",
       "    .dataframe tbody tr th:only-of-type {\n",
       "        vertical-align: middle;\n",
       "    }\n",
       "\n",
       "    .dataframe tbody tr th {\n",
       "        vertical-align: top;\n",
       "    }\n",
       "\n",
       "    .dataframe thead th {\n",
       "        text-align: right;\n",
       "    }\n",
       "</style>\n",
       "<table border=\"1\" class=\"dataframe\">\n",
       "  <thead>\n",
       "    <tr style=\"text-align: right;\">\n",
       "      <th></th>\n",
       "      <th>value</th>\n",
       "    </tr>\n",
       "    <tr>\n",
       "      <th>AP-1512HH cfps</th>\n",
       "      <th></th>\n",
       "    </tr>\n",
       "  </thead>\n",
       "  <tbody>\n",
       "    <tr>\n",
       "      <th>3.883</th>\n",
       "      <td>0.0001</td>\n",
       "    </tr>\n",
       "    <tr>\n",
       "      <th>3.884</th>\n",
       "      <td>0.0001</td>\n",
       "    </tr>\n",
       "    <tr>\n",
       "      <th>3.885</th>\n",
       "      <td>0.0002</td>\n",
       "    </tr>\n",
       "    <tr>\n",
       "      <th>3.886</th>\n",
       "      <td>0.0002</td>\n",
       "    </tr>\n",
       "    <tr>\n",
       "      <th>3.887</th>\n",
       "      <td>0.0005</td>\n",
       "    </tr>\n",
       "    <tr>\n",
       "      <th>3.888</th>\n",
       "      <td>0.0022</td>\n",
       "    </tr>\n",
       "    <tr>\n",
       "      <th>3.889</th>\n",
       "      <td>0.0029</td>\n",
       "    </tr>\n",
       "    <tr>\n",
       "      <th>3.890</th>\n",
       "      <td>0.0073</td>\n",
       "    </tr>\n",
       "    <tr>\n",
       "      <th>3.891</th>\n",
       "      <td>0.0145</td>\n",
       "    </tr>\n",
       "    <tr>\n",
       "      <th>3.892</th>\n",
       "      <td>0.0225</td>\n",
       "    </tr>\n",
       "    <tr>\n",
       "      <th>3.893</th>\n",
       "      <td>0.0368</td>\n",
       "    </tr>\n",
       "    <tr>\n",
       "      <th>3.894</th>\n",
       "      <td>0.0535</td>\n",
       "    </tr>\n",
       "    <tr>\n",
       "      <th>3.895</th>\n",
       "      <td>0.0708</td>\n",
       "    </tr>\n",
       "    <tr>\n",
       "      <th>3.896</th>\n",
       "      <td>0.0859</td>\n",
       "    </tr>\n",
       "    <tr>\n",
       "      <th>3.897</th>\n",
       "      <td>0.1018</td>\n",
       "    </tr>\n",
       "    <tr>\n",
       "      <th>3.898</th>\n",
       "      <td>0.1131</td>\n",
       "    </tr>\n",
       "    <tr>\n",
       "      <th>3.899</th>\n",
       "      <td>0.1060</td>\n",
       "    </tr>\n",
       "    <tr>\n",
       "      <th>3.900</th>\n",
       "      <td>0.0994</td>\n",
       "    </tr>\n",
       "    <tr>\n",
       "      <th>3.901</th>\n",
       "      <td>0.0891</td>\n",
       "    </tr>\n",
       "    <tr>\n",
       "      <th>3.902</th>\n",
       "      <td>0.0685</td>\n",
       "    </tr>\n",
       "    <tr>\n",
       "      <th>3.903</th>\n",
       "      <td>0.0474</td>\n",
       "    </tr>\n",
       "    <tr>\n",
       "      <th>3.904</th>\n",
       "      <td>0.0336</td>\n",
       "    </tr>\n",
       "    <tr>\n",
       "      <th>3.905</th>\n",
       "      <td>0.0196</td>\n",
       "    </tr>\n",
       "    <tr>\n",
       "      <th>3.906</th>\n",
       "      <td>0.0128</td>\n",
       "    </tr>\n",
       "    <tr>\n",
       "      <th>3.907</th>\n",
       "      <td>0.0055</td>\n",
       "    </tr>\n",
       "    <tr>\n",
       "      <th>3.908</th>\n",
       "      <td>0.0031</td>\n",
       "    </tr>\n",
       "    <tr>\n",
       "      <th>3.909</th>\n",
       "      <td>0.0013</td>\n",
       "    </tr>\n",
       "    <tr>\n",
       "      <th>3.910</th>\n",
       "      <td>0.0010</td>\n",
       "    </tr>\n",
       "    <tr>\n",
       "      <th>3.911</th>\n",
       "      <td>0.0002</td>\n",
       "    </tr>\n",
       "    <tr>\n",
       "      <th>3.912</th>\n",
       "      <td>0.0001</td>\n",
       "    </tr>\n",
       "  </tbody>\n",
       "</table>\n",
       "</div>"
      ],
      "text/plain": [
       "                 value\n",
       "AP-1512HH cfps        \n",
       "3.883           0.0001\n",
       "3.884           0.0001\n",
       "3.885           0.0002\n",
       "3.886           0.0002\n",
       "3.887           0.0005\n",
       "3.888           0.0022\n",
       "3.889           0.0029\n",
       "3.890           0.0073\n",
       "3.891           0.0145\n",
       "3.892           0.0225\n",
       "3.893           0.0368\n",
       "3.894           0.0535\n",
       "3.895           0.0708\n",
       "3.896           0.0859\n",
       "3.897           0.1018\n",
       "3.898           0.1131\n",
       "3.899           0.1060\n",
       "3.900           0.0994\n",
       "3.901           0.0891\n",
       "3.902           0.0685\n",
       "3.903           0.0474\n",
       "3.904           0.0336\n",
       "3.905           0.0196\n",
       "3.906           0.0128\n",
       "3.907           0.0055\n",
       "3.908           0.0031\n",
       "3.909           0.0013\n",
       "3.910           0.0010\n",
       "3.911           0.0002\n",
       "3.912           0.0001"
      ]
     },
     "execution_count": 88,
     "metadata": {},
     "output_type": "execute_result"
    }
   ],
   "source": [
    "coway_cfps_normalized = normalize(cfps.rename(columns={'cfps': 'AP-1512HH cfps'}), x='AP-1512HH cfps')\n",
    "coway_cfps_normalized"
   ]
  },
  {
   "cell_type": "code",
   "execution_count": 89,
   "id": "42a8d0b3",
   "metadata": {},
   "outputs": [
    {
     "data": {
      "text/plain": [
       "ConditionalProbabilityTable(\n",
       "\tgivens: [],\n",
       "\toutcomes: ['AP-1512HH cfps']\n",
       "\tdf:\n",
       "\t\n",
       "                 value\n",
       "AP-1512HH cfps        \n",
       "3.883           0.0001\n",
       "3.884           0.0001\n",
       "3.885           0.0002\n",
       "3.886           0.0002\n",
       "3.887           0.0005\n",
       "3.888           0.0022\n",
       "3.889           0.0029\n",
       "3.890           0.0073\n",
       "3.891           0.0145\n",
       "3.892           0.0225\n",
       "3.893           0.0368\n",
       "3.894           0.0535\n",
       "3.895           0.0708\n",
       "3.896           0.0859\n",
       "3.897           0.1018\n",
       "3.898           0.1131\n",
       "3.899           0.1060\n",
       "3.900           0.0994\n",
       "3.901           0.0891\n",
       "3.902           0.0685\n",
       "3.903           0.0474\n",
       "3.904           0.0336\n",
       "3.905           0.0196\n",
       "3.906           0.0128\n",
       "3.907           0.0055\n",
       "3.908           0.0031\n",
       "3.909           0.0013\n",
       "3.910           0.0010\n",
       "3.911           0.0002\n",
       "3.912           0.0001)"
      ]
     },
     "execution_count": 89,
     "metadata": {},
     "output_type": "execute_result"
    }
   ],
   "source": [
    "CPT(coway_cfps_normalized, outcomes=['AP-1512HH cfps'])"
   ]
  },
  {
   "cell_type": "code",
   "execution_count": 90,
   "id": "8afc97a8",
   "metadata": {},
   "outputs": [
    {
     "data": {
      "text/plain": [
       "0        6.0\n",
       "1       16.0\n",
       "2        8.0\n",
       "3       12.0\n",
       "4        6.0\n",
       "        ... \n",
       "9995    13.0\n",
       "9996     6.0\n",
       "9997    13.0\n",
       "9998    12.0\n",
       "9999     8.0\n",
       "Length: 10000, dtype: float64"
      ]
     },
     "execution_count": 90,
     "metadata": {},
     "output_type": "execute_result"
    }
   ],
   "source": [
    "pd.Series(np.random.normal(10, 4, size=10000)).round()"
   ]
  },
  {
   "cell_type": "markdown",
   "id": "9bcba93f",
   "metadata": {},
   "source": [
    "TODO:\n",
    "\n",
    "- generate conditional probability tables for actual -> measurement.\n",
    "- Loop through from 0 to 100.\n",
    "    - generate data\n",
    "    - normalize\n",
    "- handle case when generated data is below 0. Renormalize."
   ]
  },
  {
   "cell_type": "markdown",
   "id": "47bf49c3-bd5f-4218-8b88-01a7e8497341",
   "metadata": {},
   "source": [
    "### generate_df_for_actual_pm_to_measured_pm"
   ]
  },
  {
   "cell_type": "code",
   "execution_count": null,
   "id": "d0f63f63-63e6-49f4-8d4d-dd763c40f421",
   "metadata": {},
   "outputs": [],
   "source": []
  },
  {
   "cell_type": "code",
   "execution_count": 91,
   "id": "5d123089",
   "metadata": {},
   "outputs": [],
   "source": [
    "def generate_df_for_actual_pm_to_measured_pm(\n",
    "    actual_upper_limit=100, \n",
    "    std=4,\n",
    "    num_sims=10000\n",
    "):\n",
    "    \"\"\"\n",
    "    Parameters:\n",
    "        actual_upper_limit: integer\n",
    "            The highest number of particles to generate.\n",
    "            \n",
    "        std: numeric\n",
    "            Standard deviation to use for generating measured_pm\n",
    "            \n",
    "        num_sims: integer\n",
    "            The number of simulations.\n",
    "    \"\"\"\n",
    "    concatables = []\n",
    "    \n",
    "    for u in range(actual_upper_limit):\n",
    "        \n",
    "        df = pd.DataFrame({\n",
    "            'measured_pm': np.random.normal(u, std, size=num_sims)\n",
    "        })\n",
    "        df['actual_pm'] = u\n",
    "        \n",
    "        concatables.append(df)\n",
    "        \n",
    "    concat_df = pd.concat(concatables)\n",
    "    \n",
    "    concat_df['measured_pm'] = concat_df['measured_pm'].round()\n",
    "    \n",
    "    no_neg_df = concat_df[concat_df['measured_pm'] >= 0]\n",
    "    no_neg_df['value'] = 0\n",
    "    \n",
    "    return no_neg_df.groupby(['actual_pm', 'measured_pm'])[['value']].count() / \\\n",
    "        no_neg_df.groupby(['actual_pm'])[['value']].count()"
   ]
  },
  {
   "cell_type": "code",
   "execution_count": 92,
   "id": "9d8f6aa9",
   "metadata": {},
   "outputs": [
    {
     "name": "stderr",
     "output_type": "stream",
     "text": [
      "/var/folders/c3/b8f8shqn6sq34qlk8wt9rcqh0000gn/T/ipykernel_12958/951850254.py:33: SettingWithCopyWarning: \n",
      "A value is trying to be set on a copy of a slice from a DataFrame.\n",
      "Try using .loc[row_indexer,col_indexer] = value instead\n",
      "\n",
      "See the caveats in the documentation: https://pandas.pydata.org/pandas-docs/stable/user_guide/indexing.html#returning-a-view-versus-a-copy\n",
      "  no_neg_df['value'] = 0\n"
     ]
    }
   ],
   "source": [
    "measurement_df = generate_df_for_actual_pm_to_measured_pm()"
   ]
  },
  {
   "cell_type": "code",
   "execution_count": 93,
   "id": "94822941-7a03-4e8b-bc46-6301023d161c",
   "metadata": {},
   "outputs": [],
   "source": [
    "def pm_actual_simplified(\n",
    "    last_value,\n",
    "    clean_air_delivery_rate,\n",
    "    decay,\n",
    "    room_volume,\n",
    "):\n",
    "    return clean_air_delivery_rate / room_volume \n",
    "    return last_value * (decay) ** power"
   ]
  },
  {
   "cell_type": "code",
   "execution_count": 94,
   "id": "fbb85bbb-6ea3-42dd-8c58-bcf4b67a910d",
   "metadata": {},
   "outputs": [],
   "source": [
    "def generate_cadr_df(\n",
    "    adr_cfps_range=np.arange(0,12,0.1),\n",
    "    filtration_eff_range=np.arange(0,1,0.01)\n",
    "):\n",
    "    collection = []\n",
    "    \n",
    "    df_1 = pd.DataFrame(\n",
    "        {\n",
    "            'adr_cfps': adr_cfps_range,\n",
    "            'join_col': 1\n",
    "        }\n",
    "    )\n",
    "    \n",
    "    df_2 = pd.DataFrame(\n",
    "        {\n",
    "            'filtration_eff': filtration_eff_range,\n",
    "            'join_col': 1\n",
    "        }\n",
    "    )\n",
    "    \n",
    "    merged = df_1.merge(df_2, on='join_col')\n",
    "    \n",
    "    merged['cadr_cfps'] = (merged['adr_cfps'] * merged['filtration_eff']).round(1)\n",
    "    merged['value'] = 1.0\n",
    "    \n",
    "    return merged.drop(columns=['join_col'])"
   ]
  },
  {
   "cell_type": "code",
   "execution_count": 95,
   "id": "dfeb546c-7732-4d53-97a1-698785449266",
   "metadata": {},
   "outputs": [],
   "source": [
    "cadr_df = generate_cadr_df()"
   ]
  },
  {
   "cell_type": "code",
   "execution_count": 96,
   "id": "66031b00-2ca1-474d-acf1-921ec33e0082",
   "metadata": {},
   "outputs": [
    {
     "data": {
      "text/html": [
       "<div>\n",
       "<style scoped>\n",
       "    .dataframe tbody tr th:only-of-type {\n",
       "        vertical-align: middle;\n",
       "    }\n",
       "\n",
       "    .dataframe tbody tr th {\n",
       "        vertical-align: top;\n",
       "    }\n",
       "\n",
       "    .dataframe thead th {\n",
       "        text-align: right;\n",
       "    }\n",
       "</style>\n",
       "<table border=\"1\" class=\"dataframe\">\n",
       "  <thead>\n",
       "    <tr style=\"text-align: right;\">\n",
       "      <th></th>\n",
       "      <th>adr_cfps</th>\n",
       "      <th>filtration_eff</th>\n",
       "      <th>cadr_cfps</th>\n",
       "      <th>value</th>\n",
       "    </tr>\n",
       "  </thead>\n",
       "  <tbody>\n",
       "    <tr>\n",
       "      <th>0</th>\n",
       "      <td>0.0</td>\n",
       "      <td>0.00</td>\n",
       "      <td>0.0</td>\n",
       "      <td>1.0</td>\n",
       "    </tr>\n",
       "    <tr>\n",
       "      <th>1</th>\n",
       "      <td>0.0</td>\n",
       "      <td>0.01</td>\n",
       "      <td>0.0</td>\n",
       "      <td>1.0</td>\n",
       "    </tr>\n",
       "    <tr>\n",
       "      <th>2</th>\n",
       "      <td>0.0</td>\n",
       "      <td>0.02</td>\n",
       "      <td>0.0</td>\n",
       "      <td>1.0</td>\n",
       "    </tr>\n",
       "    <tr>\n",
       "      <th>3</th>\n",
       "      <td>0.0</td>\n",
       "      <td>0.03</td>\n",
       "      <td>0.0</td>\n",
       "      <td>1.0</td>\n",
       "    </tr>\n",
       "    <tr>\n",
       "      <th>4</th>\n",
       "      <td>0.0</td>\n",
       "      <td>0.04</td>\n",
       "      <td>0.0</td>\n",
       "      <td>1.0</td>\n",
       "    </tr>\n",
       "    <tr>\n",
       "      <th>...</th>\n",
       "      <td>...</td>\n",
       "      <td>...</td>\n",
       "      <td>...</td>\n",
       "      <td>...</td>\n",
       "    </tr>\n",
       "    <tr>\n",
       "      <th>11995</th>\n",
       "      <td>11.9</td>\n",
       "      <td>0.95</td>\n",
       "      <td>11.3</td>\n",
       "      <td>1.0</td>\n",
       "    </tr>\n",
       "    <tr>\n",
       "      <th>11996</th>\n",
       "      <td>11.9</td>\n",
       "      <td>0.96</td>\n",
       "      <td>11.4</td>\n",
       "      <td>1.0</td>\n",
       "    </tr>\n",
       "    <tr>\n",
       "      <th>11997</th>\n",
       "      <td>11.9</td>\n",
       "      <td>0.97</td>\n",
       "      <td>11.5</td>\n",
       "      <td>1.0</td>\n",
       "    </tr>\n",
       "    <tr>\n",
       "      <th>11998</th>\n",
       "      <td>11.9</td>\n",
       "      <td>0.98</td>\n",
       "      <td>11.7</td>\n",
       "      <td>1.0</td>\n",
       "    </tr>\n",
       "    <tr>\n",
       "      <th>11999</th>\n",
       "      <td>11.9</td>\n",
       "      <td>0.99</td>\n",
       "      <td>11.8</td>\n",
       "      <td>1.0</td>\n",
       "    </tr>\n",
       "  </tbody>\n",
       "</table>\n",
       "<p>12000 rows × 4 columns</p>\n",
       "</div>"
      ],
      "text/plain": [
       "       adr_cfps  filtration_eff  cadr_cfps  value\n",
       "0           0.0            0.00        0.0    1.0\n",
       "1           0.0            0.01        0.0    1.0\n",
       "2           0.0            0.02        0.0    1.0\n",
       "3           0.0            0.03        0.0    1.0\n",
       "4           0.0            0.04        0.0    1.0\n",
       "...         ...             ...        ...    ...\n",
       "11995      11.9            0.95       11.3    1.0\n",
       "11996      11.9            0.96       11.4    1.0\n",
       "11997      11.9            0.97       11.5    1.0\n",
       "11998      11.9            0.98       11.7    1.0\n",
       "11999      11.9            0.99       11.8    1.0\n",
       "\n",
       "[12000 rows x 4 columns]"
      ]
     },
     "execution_count": 96,
     "metadata": {},
     "output_type": "execute_result"
    }
   ],
   "source": [
    "cadr_df"
   ]
  },
  {
   "cell_type": "code",
   "execution_count": 97,
   "id": "6869b2ae-9522-4c18-8f7e-79bf1f5efc5b",
   "metadata": {},
   "outputs": [],
   "source": [
    "def generate_power_df(\n",
    "    cadr_cfps_range=np.arange(0,12,0.1),\n",
    "    room_volume=list(range(690, 726))\n",
    "):\n",
    "    collection = []\n",
    "    \n",
    "    df_1 = pd.DataFrame(\n",
    "        {\n",
    "            'cadr_cfps': cadr_cfps_range,\n",
    "            'join_col': 1\n",
    "        }\n",
    "    )\n",
    "    \n",
    "    df_2 = pd.DataFrame(\n",
    "        {\n",
    "            'room_vol': room_volume,\n",
    "            'join_col': 1\n",
    "        }\n",
    "    )\n",
    "    \n",
    "    merged = df_1.merge(df_2, on='join_col')\n",
    "    \n",
    "    merged['power'] = (merged['cadr_cfps'] / merged['room_vol']).round(3)\n",
    "    merged['value'] = 1.0\n",
    "    \n",
    "    return merged.drop(columns=['join_col'])"
   ]
  },
  {
   "cell_type": "code",
   "execution_count": 98,
   "id": "59ff7352-527e-4e79-8368-90a430f5469e",
   "metadata": {},
   "outputs": [
    {
     "data": {
      "text/html": [
       "<div>\n",
       "<style scoped>\n",
       "    .dataframe tbody tr th:only-of-type {\n",
       "        vertical-align: middle;\n",
       "    }\n",
       "\n",
       "    .dataframe tbody tr th {\n",
       "        vertical-align: top;\n",
       "    }\n",
       "\n",
       "    .dataframe thead th {\n",
       "        text-align: right;\n",
       "    }\n",
       "</style>\n",
       "<table border=\"1\" class=\"dataframe\">\n",
       "  <thead>\n",
       "    <tr style=\"text-align: right;\">\n",
       "      <th></th>\n",
       "      <th>cadr_cfps</th>\n",
       "      <th>room_vol</th>\n",
       "      <th>power</th>\n",
       "      <th>value</th>\n",
       "    </tr>\n",
       "  </thead>\n",
       "  <tbody>\n",
       "    <tr>\n",
       "      <th>0</th>\n",
       "      <td>0.0</td>\n",
       "      <td>690</td>\n",
       "      <td>0.000</td>\n",
       "      <td>1.0</td>\n",
       "    </tr>\n",
       "    <tr>\n",
       "      <th>1</th>\n",
       "      <td>0.0</td>\n",
       "      <td>691</td>\n",
       "      <td>0.000</td>\n",
       "      <td>1.0</td>\n",
       "    </tr>\n",
       "    <tr>\n",
       "      <th>2</th>\n",
       "      <td>0.0</td>\n",
       "      <td>692</td>\n",
       "      <td>0.000</td>\n",
       "      <td>1.0</td>\n",
       "    </tr>\n",
       "    <tr>\n",
       "      <th>3</th>\n",
       "      <td>0.0</td>\n",
       "      <td>693</td>\n",
       "      <td>0.000</td>\n",
       "      <td>1.0</td>\n",
       "    </tr>\n",
       "    <tr>\n",
       "      <th>4</th>\n",
       "      <td>0.0</td>\n",
       "      <td>694</td>\n",
       "      <td>0.000</td>\n",
       "      <td>1.0</td>\n",
       "    </tr>\n",
       "    <tr>\n",
       "      <th>...</th>\n",
       "      <td>...</td>\n",
       "      <td>...</td>\n",
       "      <td>...</td>\n",
       "      <td>...</td>\n",
       "    </tr>\n",
       "    <tr>\n",
       "      <th>4315</th>\n",
       "      <td>11.9</td>\n",
       "      <td>721</td>\n",
       "      <td>0.017</td>\n",
       "      <td>1.0</td>\n",
       "    </tr>\n",
       "    <tr>\n",
       "      <th>4316</th>\n",
       "      <td>11.9</td>\n",
       "      <td>722</td>\n",
       "      <td>0.016</td>\n",
       "      <td>1.0</td>\n",
       "    </tr>\n",
       "    <tr>\n",
       "      <th>4317</th>\n",
       "      <td>11.9</td>\n",
       "      <td>723</td>\n",
       "      <td>0.016</td>\n",
       "      <td>1.0</td>\n",
       "    </tr>\n",
       "    <tr>\n",
       "      <th>4318</th>\n",
       "      <td>11.9</td>\n",
       "      <td>724</td>\n",
       "      <td>0.016</td>\n",
       "      <td>1.0</td>\n",
       "    </tr>\n",
       "    <tr>\n",
       "      <th>4319</th>\n",
       "      <td>11.9</td>\n",
       "      <td>725</td>\n",
       "      <td>0.016</td>\n",
       "      <td>1.0</td>\n",
       "    </tr>\n",
       "  </tbody>\n",
       "</table>\n",
       "<p>4320 rows × 4 columns</p>\n",
       "</div>"
      ],
      "text/plain": [
       "      cadr_cfps  room_vol  power  value\n",
       "0           0.0       690  0.000    1.0\n",
       "1           0.0       691  0.000    1.0\n",
       "2           0.0       692  0.000    1.0\n",
       "3           0.0       693  0.000    1.0\n",
       "4           0.0       694  0.000    1.0\n",
       "...         ...       ...    ...    ...\n",
       "4315       11.9       721  0.017    1.0\n",
       "4316       11.9       722  0.016    1.0\n",
       "4317       11.9       723  0.016    1.0\n",
       "4318       11.9       724  0.016    1.0\n",
       "4319       11.9       725  0.016    1.0\n",
       "\n",
       "[4320 rows x 4 columns]"
      ]
     },
     "execution_count": 98,
     "metadata": {},
     "output_type": "execute_result"
    }
   ],
   "source": [
    "power_df = generate_power_df()\n",
    "power_df"
   ]
  },
  {
   "cell_type": "code",
   "execution_count": 99,
   "id": "dd41291d-4839-41bb-9734-0580f6e59418",
   "metadata": {},
   "outputs": [],
   "source": [
    "def pm_actual_simplified(\n",
    "    last_value,\n",
    "    clean_air_delivery_rate,\n",
    "    decay,\n",
    "    room_volume,\n",
    "):\n",
    "    power = clean_air_delivery_rate / room_volume \n",
    "    return last_value * (decay) ** power"
   ]
  },
  {
   "cell_type": "code",
   "execution_count": 100,
   "id": "9bceb5ca-520f-4495-8c62-013e5c8ddcfa",
   "metadata": {},
   "outputs": [
    {
     "data": {
      "text/plain": [
       "<AxesSubplot:ylabel='Frequency'>"
      ]
     },
     "execution_count": 100,
     "metadata": {},
     "output_type": "execute_result"
    },
    {
     "data": {
      "image/png": "[encoded data removed]",
      "text/plain": [
       "<Figure size 432x288 with 1 Axes>"
      ]
     },
     "metadata": {
      "needs_background": "light"
     },
     "output_type": "display_data"
    }
   ],
   "source": [
    "power_df['power'].plot.hist()"
   ]
  },
  {
   "cell_type": "code",
   "execution_count": 101,
   "id": "b352d2d2-0026-4a98-9383-625d161fe08b",
   "metadata": {},
   "outputs": [
    {
     "data": {
      "text/plain": [
       "0.995405417351527"
      ]
     },
     "execution_count": 101,
     "metadata": {},
     "output_type": "execute_result"
    }
   ],
   "source": [
    "0.01 ** 0.001"
   ]
  },
  {
   "cell_type": "code",
   "execution_count": 102,
   "id": "0fed925e-ce10-4476-bb71-df703da861f6",
   "metadata": {},
   "outputs": [],
   "source": [
    "def join_two_df(\n",
    "    column_1,\n",
    "    column_1_values,\n",
    "    column_2,\n",
    "    column_2_values,\n",
    "    column_outcome,\n",
    "    func\n",
    "):\n",
    "    \n",
    "    df_1 = pd.DataFrame(\n",
    "        {\n",
    "            column_1: column_1_values,\n",
    "            'join_col': 1\n",
    "        }\n",
    "    )\n",
    "    \n",
    "    df_2 = pd.DataFrame(\n",
    "        {\n",
    "            column_2: column_2_values,\n",
    "            'join_col': 1\n",
    "        }\n",
    "    )\n",
    "    \n",
    "    merged = df_1.merge(df_2, on='join_col')\n",
    "    \n",
    "    merged[column_outcome] = func(merged)\n",
    "    merged['value'] = 1.0\n",
    "    \n",
    "    return merged.drop(columns=['join_col'])"
   ]
  },
  {
   "cell_type": "code",
   "execution_count": 106,
   "id": "0d773906-85b1-4e44-8e72-b5448d34e8d7",
   "metadata": {},
   "outputs": [],
   "source": [
    "decay_power_multiplier_df = join_two_df(\n",
    "    column_1='decay',\n",
    "    column_1_values=np.arange(0, 1, 0.01),\n",
    "    column_2='power',\n",
    "    column_2_values=np.arange(0, 0.02, 0.001),\n",
    "    column_outcome='decay_power_multiplier',\n",
    "    func=lambda df: (df['decay'] ** df['power']).round(3)\n",
    ")"
   ]
  },
  {
   "cell_type": "code",
   "execution_count": 107,
   "id": "510d242a-29ff-4de8-8c14-16bed029bee5",
   "metadata": {},
   "outputs": [
    {
     "data": {
      "text/html": [
       "<div>\n",
       "<style scoped>\n",
       "    .dataframe tbody tr th:only-of-type {\n",
       "        vertical-align: middle;\n",
       "    }\n",
       "\n",
       "    .dataframe tbody tr th {\n",
       "        vertical-align: top;\n",
       "    }\n",
       "\n",
       "    .dataframe thead th {\n",
       "        text-align: right;\n",
       "    }\n",
       "</style>\n",
       "<table border=\"1\" class=\"dataframe\">\n",
       "  <thead>\n",
       "    <tr style=\"text-align: right;\">\n",
       "      <th></th>\n",
       "      <th>decay</th>\n",
       "      <th>power</th>\n",
       "      <th>decay_power_multiplier</th>\n",
       "      <th>value</th>\n",
       "    </tr>\n",
       "  </thead>\n",
       "  <tbody>\n",
       "    <tr>\n",
       "      <th>1000</th>\n",
       "      <td>0.5</td>\n",
       "      <td>0.000</td>\n",
       "      <td>1.000</td>\n",
       "      <td>1.0</td>\n",
       "    </tr>\n",
       "    <tr>\n",
       "      <th>1001</th>\n",
       "      <td>0.5</td>\n",
       "      <td>0.001</td>\n",
       "      <td>0.999</td>\n",
       "      <td>1.0</td>\n",
       "    </tr>\n",
       "    <tr>\n",
       "      <th>1002</th>\n",
       "      <td>0.5</td>\n",
       "      <td>0.002</td>\n",
       "      <td>0.999</td>\n",
       "      <td>1.0</td>\n",
       "    </tr>\n",
       "    <tr>\n",
       "      <th>1003</th>\n",
       "      <td>0.5</td>\n",
       "      <td>0.003</td>\n",
       "      <td>0.998</td>\n",
       "      <td>1.0</td>\n",
       "    </tr>\n",
       "    <tr>\n",
       "      <th>1004</th>\n",
       "      <td>0.5</td>\n",
       "      <td>0.004</td>\n",
       "      <td>0.997</td>\n",
       "      <td>1.0</td>\n",
       "    </tr>\n",
       "    <tr>\n",
       "      <th>1005</th>\n",
       "      <td>0.5</td>\n",
       "      <td>0.005</td>\n",
       "      <td>0.997</td>\n",
       "      <td>1.0</td>\n",
       "    </tr>\n",
       "    <tr>\n",
       "      <th>1006</th>\n",
       "      <td>0.5</td>\n",
       "      <td>0.006</td>\n",
       "      <td>0.996</td>\n",
       "      <td>1.0</td>\n",
       "    </tr>\n",
       "    <tr>\n",
       "      <th>1007</th>\n",
       "      <td>0.5</td>\n",
       "      <td>0.007</td>\n",
       "      <td>0.995</td>\n",
       "      <td>1.0</td>\n",
       "    </tr>\n",
       "    <tr>\n",
       "      <th>1008</th>\n",
       "      <td>0.5</td>\n",
       "      <td>0.008</td>\n",
       "      <td>0.994</td>\n",
       "      <td>1.0</td>\n",
       "    </tr>\n",
       "    <tr>\n",
       "      <th>1009</th>\n",
       "      <td>0.5</td>\n",
       "      <td>0.009</td>\n",
       "      <td>0.994</td>\n",
       "      <td>1.0</td>\n",
       "    </tr>\n",
       "    <tr>\n",
       "      <th>1010</th>\n",
       "      <td>0.5</td>\n",
       "      <td>0.010</td>\n",
       "      <td>0.993</td>\n",
       "      <td>1.0</td>\n",
       "    </tr>\n",
       "    <tr>\n",
       "      <th>1011</th>\n",
       "      <td>0.5</td>\n",
       "      <td>0.011</td>\n",
       "      <td>0.992</td>\n",
       "      <td>1.0</td>\n",
       "    </tr>\n",
       "    <tr>\n",
       "      <th>1012</th>\n",
       "      <td>0.5</td>\n",
       "      <td>0.012</td>\n",
       "      <td>0.992</td>\n",
       "      <td>1.0</td>\n",
       "    </tr>\n",
       "    <tr>\n",
       "      <th>1013</th>\n",
       "      <td>0.5</td>\n",
       "      <td>0.013</td>\n",
       "      <td>0.991</td>\n",
       "      <td>1.0</td>\n",
       "    </tr>\n",
       "    <tr>\n",
       "      <th>1014</th>\n",
       "      <td>0.5</td>\n",
       "      <td>0.014</td>\n",
       "      <td>0.990</td>\n",
       "      <td>1.0</td>\n",
       "    </tr>\n",
       "    <tr>\n",
       "      <th>1015</th>\n",
       "      <td>0.5</td>\n",
       "      <td>0.015</td>\n",
       "      <td>0.990</td>\n",
       "      <td>1.0</td>\n",
       "    </tr>\n",
       "    <tr>\n",
       "      <th>1016</th>\n",
       "      <td>0.5</td>\n",
       "      <td>0.016</td>\n",
       "      <td>0.989</td>\n",
       "      <td>1.0</td>\n",
       "    </tr>\n",
       "    <tr>\n",
       "      <th>1017</th>\n",
       "      <td>0.5</td>\n",
       "      <td>0.017</td>\n",
       "      <td>0.988</td>\n",
       "      <td>1.0</td>\n",
       "    </tr>\n",
       "    <tr>\n",
       "      <th>1018</th>\n",
       "      <td>0.5</td>\n",
       "      <td>0.018</td>\n",
       "      <td>0.988</td>\n",
       "      <td>1.0</td>\n",
       "    </tr>\n",
       "    <tr>\n",
       "      <th>1019</th>\n",
       "      <td>0.5</td>\n",
       "      <td>0.019</td>\n",
       "      <td>0.987</td>\n",
       "      <td>1.0</td>\n",
       "    </tr>\n",
       "  </tbody>\n",
       "</table>\n",
       "</div>"
      ],
      "text/plain": [
       "      decay  power  decay_power_multiplier  value\n",
       "1000    0.5  0.000                   1.000    1.0\n",
       "1001    0.5  0.001                   0.999    1.0\n",
       "1002    0.5  0.002                   0.999    1.0\n",
       "1003    0.5  0.003                   0.998    1.0\n",
       "1004    0.5  0.004                   0.997    1.0\n",
       "1005    0.5  0.005                   0.997    1.0\n",
       "1006    0.5  0.006                   0.996    1.0\n",
       "1007    0.5  0.007                   0.995    1.0\n",
       "1008    0.5  0.008                   0.994    1.0\n",
       "1009    0.5  0.009                   0.994    1.0\n",
       "1010    0.5  0.010                   0.993    1.0\n",
       "1011    0.5  0.011                   0.992    1.0\n",
       "1012    0.5  0.012                   0.992    1.0\n",
       "1013    0.5  0.013                   0.991    1.0\n",
       "1014    0.5  0.014                   0.990    1.0\n",
       "1015    0.5  0.015                   0.990    1.0\n",
       "1016    0.5  0.016                   0.989    1.0\n",
       "1017    0.5  0.017                   0.988    1.0\n",
       "1018    0.5  0.018                   0.988    1.0\n",
       "1019    0.5  0.019                   0.987    1.0"
      ]
     },
     "execution_count": 107,
     "metadata": {},
     "output_type": "execute_result"
    }
   ],
   "source": [
    "decay_power_multiplier_df[decay_power_multiplier_df['decay'] == 0.50]"
   ]
  },
  {
   "cell_type": "code",
   "execution_count": 110,
   "id": "864aefd4-f6d5-4c87-8c1a-e19eb1dff094",
   "metadata": {},
   "outputs": [],
   "source": [
    "actual_pm_df = join_two_df(\n",
    "    column_1='decay_power_multiplier',\n",
    "    column_1_values=np.arange(0, 1, 0.001),\n",
    "    column_2='actual_pm_t-1',\n",
    "    column_2_values=list(range(0, 101)),\n",
    "    column_outcome='actual_pm_t',\n",
    "    func=lambda df: (df['actual_pm_t-1'] * df['decay_power_multiplier']).round().astype('int16')\n",
    ")"
   ]
  },
  {
   "cell_type": "code",
   "execution_count": 111,
   "id": "fe351694-1f74-4ef5-b3b0-0304dbf7ca29",
   "metadata": {},
   "outputs": [
    {
     "data": {
      "text/html": [
       "<div>\n",
       "<style scoped>\n",
       "    .dataframe tbody tr th:only-of-type {\n",
       "        vertical-align: middle;\n",
       "    }\n",
       "\n",
       "    .dataframe tbody tr th {\n",
       "        vertical-align: top;\n",
       "    }\n",
       "\n",
       "    .dataframe thead th {\n",
       "        text-align: right;\n",
       "    }\n",
       "</style>\n",
       "<table border=\"1\" class=\"dataframe\">\n",
       "  <thead>\n",
       "    <tr style=\"text-align: right;\">\n",
       "      <th></th>\n",
       "      <th>decay_power_multiplier</th>\n",
       "      <th>actual_pm_t-1</th>\n",
       "      <th>actual_pm_t</th>\n",
       "      <th>value</th>\n",
       "    </tr>\n",
       "  </thead>\n",
       "  <tbody>\n",
       "    <tr>\n",
       "      <th>0</th>\n",
       "      <td>0.000</td>\n",
       "      <td>0</td>\n",
       "      <td>0</td>\n",
       "      <td>1.0</td>\n",
       "    </tr>\n",
       "    <tr>\n",
       "      <th>1</th>\n",
       "      <td>0.000</td>\n",
       "      <td>1</td>\n",
       "      <td>0</td>\n",
       "      <td>1.0</td>\n",
       "    </tr>\n",
       "    <tr>\n",
       "      <th>2</th>\n",
       "      <td>0.000</td>\n",
       "      <td>2</td>\n",
       "      <td>0</td>\n",
       "      <td>1.0</td>\n",
       "    </tr>\n",
       "    <tr>\n",
       "      <th>3</th>\n",
       "      <td>0.000</td>\n",
       "      <td>3</td>\n",
       "      <td>0</td>\n",
       "      <td>1.0</td>\n",
       "    </tr>\n",
       "    <tr>\n",
       "      <th>4</th>\n",
       "      <td>0.000</td>\n",
       "      <td>4</td>\n",
       "      <td>0</td>\n",
       "      <td>1.0</td>\n",
       "    </tr>\n",
       "    <tr>\n",
       "      <th>...</th>\n",
       "      <td>...</td>\n",
       "      <td>...</td>\n",
       "      <td>...</td>\n",
       "      <td>...</td>\n",
       "    </tr>\n",
       "    <tr>\n",
       "      <th>100995</th>\n",
       "      <td>0.999</td>\n",
       "      <td>96</td>\n",
       "      <td>96</td>\n",
       "      <td>1.0</td>\n",
       "    </tr>\n",
       "    <tr>\n",
       "      <th>100996</th>\n",
       "      <td>0.999</td>\n",
       "      <td>97</td>\n",
       "      <td>97</td>\n",
       "      <td>1.0</td>\n",
       "    </tr>\n",
       "    <tr>\n",
       "      <th>100997</th>\n",
       "      <td>0.999</td>\n",
       "      <td>98</td>\n",
       "      <td>98</td>\n",
       "      <td>1.0</td>\n",
       "    </tr>\n",
       "    <tr>\n",
       "      <th>100998</th>\n",
       "      <td>0.999</td>\n",
       "      <td>99</td>\n",
       "      <td>99</td>\n",
       "      <td>1.0</td>\n",
       "    </tr>\n",
       "    <tr>\n",
       "      <th>100999</th>\n",
       "      <td>0.999</td>\n",
       "      <td>100</td>\n",
       "      <td>100</td>\n",
       "      <td>1.0</td>\n",
       "    </tr>\n",
       "  </tbody>\n",
       "</table>\n",
       "<p>101000 rows × 4 columns</p>\n",
       "</div>"
      ],
      "text/plain": [
       "        decay_power_multiplier  actual_pm_t-1  actual_pm_t  value\n",
       "0                        0.000              0            0    1.0\n",
       "1                        0.000              1            0    1.0\n",
       "2                        0.000              2            0    1.0\n",
       "3                        0.000              3            0    1.0\n",
       "4                        0.000              4            0    1.0\n",
       "...                        ...            ...          ...    ...\n",
       "100995                   0.999             96           96    1.0\n",
       "100996                   0.999             97           97    1.0\n",
       "100997                   0.999             98           98    1.0\n",
       "100998                   0.999             99           99    1.0\n",
       "100999                   0.999            100          100    1.0\n",
       "\n",
       "[101000 rows x 4 columns]"
      ]
     },
     "execution_count": 111,
     "metadata": {},
     "output_type": "execute_result"
    }
   ],
   "source": [
    "actual_pm_df"
   ]
  },
  {
   "cell_type": "code",
   "execution_count": 111,
   "id": "49d88dec",
   "metadata": {},
   "outputs": [],
   "source": [
    "def generate_actual_pm_df(\n",
    "    cadr_cfps_range=np.arange(0,12,0.1),\n",
    "    actual_pm_prev_range=range(101),\n",
    "    room_vol_range=range(690,726),\n",
    "    decay_range=np.arange(0,1,0.01),\n",
    "    filtration_eff_range=np.arange(0,1,0.01)\n",
    "):\n",
    "    \"\"\"\n",
    "    cfs: cubic feet per second\n",
    "    volume:\n",
    "    \"\"\"\n",
    "    \n",
    "    collection = []\n",
    "    \n",
    "    for cadr_cfps in cadr_cfps_range:\n",
    "        for actual_pm_prev in actual_pm_prev_range:\n",
    "            for room_vol in room_vol_range:\n",
    "                for decay in decay_range:\n",
    "                        dec = round(decay, 2)\n",
    "                        cadr_cfps = round(cadr_cfps, 2)\n",
    "                        \n",
    "                        actual_pm = pm_actual_simplified(\n",
    "                            last_value=actual_pm_prev,\n",
    "                            decay=dec,\n",
    "                            room_volume=room_vol,\n",
    "                            clean_air_delivery_rate=cadr_cfps\n",
    "                        )\n",
    "                            \n",
    "                        collection.append({\n",
    "                            'actual_pm_t-1': actual_pm_prev,\n",
    "                            'actual_pm_t': round(actual_pm),\n",
    "                            'cadr_cfps': cadr_cfps,\n",
    "                            'decay': dec,\n",
    "                            'value': 1.0\n",
    "                        })\n",
    "                            \n",
    "    return pd.DataFrame(collection)\n",
    "                            \n",
    "                            \n",
    "    "
   ]
  },
  {
   "cell_type": "code",
   "execution_count": 112,
   "id": "20a86fe2-f51e-464e-ad9e-c08e2f444319",
   "metadata": {},
   "outputs": [
    {
     "ename": "KeyboardInterrupt",
     "evalue": "",
     "output_type": "error",
     "traceback": [
      "\u001b[0;31m---------------------------------------------------------------------------\u001b[0m",
      "\u001b[0;31mKeyboardInterrupt\u001b[0m                         Traceback (most recent call last)",
      "\u001b[0;32m/var/folders/c3/b8f8shqn6sq34qlk8wt9rcqh0000gn/T/ipykernel_7562/3292873237.py\u001b[0m in \u001b[0;36m<module>\u001b[0;34m\u001b[0m\n\u001b[0;32m----> 1\u001b[0;31m \u001b[0mactual_pm_df\u001b[0m \u001b[0;34m=\u001b[0m \u001b[0mgenerate_actual_pm_df\u001b[0m\u001b[0;34m(\u001b[0m\u001b[0;34m)\u001b[0m\u001b[0;34m\u001b[0m\u001b[0;34m\u001b[0m\u001b[0m\n\u001b[0m",
      "\u001b[0;32m/var/folders/c3/b8f8shqn6sq34qlk8wt9rcqh0000gn/T/ipykernel_7562/4026179593.py\u001b[0m in \u001b[0;36mgenerate_actual_pm_df\u001b[0;34m(cadr_cfps_range, actual_pm_prev_range, room_vol_range, decay_range, filtration_eff_range)\u001b[0m\n\u001b[1;32m     29\u001b[0m                         collection.append({\n\u001b[1;32m     30\u001b[0m                             \u001b[0;34m'actual_pm_t-1'\u001b[0m\u001b[0;34m:\u001b[0m \u001b[0mactual_pm_prev\u001b[0m\u001b[0;34m,\u001b[0m\u001b[0;34m\u001b[0m\u001b[0;34m\u001b[0m\u001b[0m\n\u001b[0;32m---> 31\u001b[0;31m                             \u001b[0;34m'actual_pm_t'\u001b[0m\u001b[0;34m:\u001b[0m \u001b[0mround\u001b[0m\u001b[0;34m(\u001b[0m\u001b[0mactual_pm\u001b[0m\u001b[0;34m)\u001b[0m\u001b[0;34m,\u001b[0m\u001b[0;34m\u001b[0m\u001b[0;34m\u001b[0m\u001b[0m\n\u001b[0m\u001b[1;32m     32\u001b[0m                             \u001b[0;34m'cadr_cfps'\u001b[0m\u001b[0;34m:\u001b[0m \u001b[0mcadr_cfps\u001b[0m\u001b[0;34m,\u001b[0m\u001b[0;34m\u001b[0m\u001b[0;34m\u001b[0m\u001b[0m\n\u001b[1;32m     33\u001b[0m                             \u001b[0;34m'decay'\u001b[0m\u001b[0;34m:\u001b[0m \u001b[0mdec\u001b[0m\u001b[0;34m,\u001b[0m\u001b[0;34m\u001b[0m\u001b[0;34m\u001b[0m\u001b[0m\n",
      "\u001b[0;31mKeyboardInterrupt\u001b[0m: "
     ]
    }
   ],
   "source": [
    "actual_pm_df = generate_actual_pm_df()"
   ]
  },
  {
   "cell_type": "code",
   "execution_count": 233,
   "id": "d65e3e9c",
   "metadata": {},
   "outputs": [
    {
     "data": {
      "text/plain": [
       "<AxesSubplot:ylabel='Density'>"
      ]
     },
     "execution_count": 233,
     "metadata": {},
     "output_type": "execute_result"
    },
    {
     "data": {
      "image/png": "[encoded data removed]",
      "text/plain": [
       "<Figure size 432x288 with 1 Axes>"
      ]
     },
     "metadata": {
      "needs_background": "light"
     },
     "output_type": "display_data"
    }
   ],
   "source": [
    "pd.Series(np.random.normal(10, 4, size=10000)).plot.kde()"
   ]
  },
  {
   "cell_type": "code",
   "execution_count": null,
   "id": "ff3674b2",
   "metadata": {},
   "outputs": [],
   "source": [
    "def measurement_df()"
   ]
  }
 ],
 "metadata": {
  "kernelspec": {
   "display_name": "Python 3 (ipykernel)",
   "language": "python",
   "name": "python3"
  },
  "language_info": {
   "codemirror_mode": {
    "name": "ipython",
    "version": 3
   },
   "file_extension": ".py",
   "mimetype": "text/x-python",
   "name": "python",
   "nbconvert_exporter": "python",
   "pygments_lexer": "ipython3",
   "version": "3.9.5"
  },
  "toc": {
   "base_numbering": 1,
   "nav_menu": {},
   "number_sections": true,
   "sideBar": true,
   "skip_h1_title": false,
   "title_cell": "Table of Contents",
   "title_sidebar": "Contents",
   "toc_cell": false,
   "toc_position": {},
   "toc_section_display": true,
   "toc_window_display": false
  }
 },
 "nbformat": 4,
 "nbformat_minor": 5
}
