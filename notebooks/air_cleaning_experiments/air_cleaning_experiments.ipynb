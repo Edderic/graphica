{
 "cells": [
  {
   "cell_type": "markdown",
   "id": "b54cc9a4",
   "metadata": {},
   "source": [
    "## Introduction"
   ]
  },
  {
   "cell_type": "markdown",
   "id": "15c1c156",
   "metadata": {},
   "source": [
    "COVID-19, along with many respiratory viruses, is airborne [[1](https://www.science.org/doi/10.1126/science.abd9149)]. That means that they don't suddenly fall into the ground when emitted by an infectious person. They float in the air, and stay there for a long period of time, like smoke. The airborne nature of the virus has led to indoor air quality experts Richard Corsi & Jim Rosenthal to share their design of a simple Do-It-Yourself (DIY) air cleaner. The design involves taping a 20-inch-by-20-inch box fan to a box of air filters, which are called Corsi-Rosenthal (CR) boxes [[Clean Air Crew](https://cleanaircrew.org/boxfanfilterfaq/)]. A [UC Davis](https://energy.ucdavis.edu/wp-content/uploads/Case-Study_DIY-Portable-Air-Cleaners-083121.pdf) study shows that CR boxes are as effective in cleaning the air, while being a third of the cost of commercial air cleaners.\n",
    "\n",
    "In 2020, some researchers studied the effectiveness of different cloth fabrics on filtration efficiency for masks [[[Konda](https://pubs.acs.org/doi/10.1021/acsnano.0c03252)], [[Hao](https://www.sciencedirect.com/science/article/pii/S1438463920305289?via%3Dihub)], [[Yang](https://docs.google.com/spreadsheets/d/17aJQn-zmhBWO9vlgfWQLAuRUNrxrUnE8Ftm2wUHlddI/edit#gid=0)]]. In Yang's research, they found that one layer of Rubbermaid microfiber has a filtration efficiency of about 46%, assuming an average inhalation rate of 60 liters per minute."
   ]
  },
  {
   "cell_type": "markdown",
   "id": "7e99ba2c",
   "metadata": {},
   "source": [
    "## An equation for PM removal over time"
   ]
  },
  {
   "cell_type": "markdown",
   "id": "38035204",
   "metadata": {},
   "source": [
    "Let $A$ represent the actual PM level, $t$ be the time in seconds, $d$ be the decaying factor (a fraction between 0 and 1), $c$ be the cubic feet per second output, and $v$ be the volume of the room (in cubic feet):\n",
    "\n",
    "$$\n",
    "\\begin{equation}\n",
    "\\begin{aligned}\n",
    "  A_{t+1} &= A_{t} \\cdot (1-d)^{\\frac{c}{v}}\n",
    "\\end{aligned}\n",
    "\\end{equation}\n",
    "$$\n"
   ]
  },
  {
   "cell_type": "markdown",
   "id": "78c664b4",
   "metadata": {},
   "source": [
    "$d$ can be broken into two parts. If the air cleaner is turned on, the\n",
    "filtration efficiency of the filter, along with natural decay.\n",
    "\n",
    "$$\n",
    "\\begin{equation}\n",
    "\\begin{aligned}\n",
    "d(\\text{air cleaner := on}) = d_{\\text{filtration efficiency}} + d_{\\text{natural}}\n",
    "\\end{aligned}\n",
    "\\end{equation}\n",
    "$$\n",
    "\n",
    "If the air cleaner is turned off, then the filtration efficiency of the filter does not apply, so\n",
    "$d$ gets set to the natural decay:\n",
    "\n",
    "$$\n",
    "\\begin{equation}\n",
    "\\begin{aligned}\n",
    "d(\\text{air cleaner := off}) = d_{\\text{natural}}\n",
    "\\end{aligned}\n",
    "\\end{equation}\n",
    "$$\n",
    "\n",
    "Thus, we can infer the filtration efficiency by running an experiment with the air cleaner on and with the air cleaner off. We could then subtract $d(\\text{air cleaner := off})$ from  $d(\\text{air cleaner := on})$ to get $d_{\\text{filtration efficiency}}$.\n",
    "\n",
    "\n",
    "\n",
    "$$\n",
    "\\begin{equation}\n",
    "\\begin{aligned}\n",
    "d(\\text{air cleaner := on}) - d(\\text{air cleaner := off}) &= d_{\\text{filtration efficiency}} + d_{\\text{natural}} - d_{\\text{natural}}\\\\\n",
    "&= d_{\\text{filtration efficiency}}\n",
    "\\end{aligned}\n",
    "\\end{equation}\n",
    "$$\n"
   ]
  },
  {
   "cell_type": "markdown",
   "id": "1b497848",
   "metadata": {},
   "source": [
    "## Estimating the flow rate of the air cleaner"
   ]
  },
  {
   "cell_type": "code",
   "execution_count": 3,
   "id": "5ca22105",
   "metadata": {},
   "outputs": [],
   "source": [
    "import pandas as pd\n",
    "import numpy as np\n",
    "import graphviz\n",
    "import matplotlib.pyplot as plt\n",
    "\n",
    "from linx.ds import BayesianNetwork as BN, \\\n",
    "    ConditionalProbabilityTable as CPT, \\\n",
    "    Query\n",
    "from linx.infer import VariableElimination as VE"
   ]
  },
  {
   "cell_type": "code",
   "execution_count": 4,
   "id": "d61638b3",
   "metadata": {},
   "outputs": [],
   "source": [
    "def miles_per_hour_to_feet_per_second(mph):\n",
    "    \"\"\"\n",
    "    Miles per hour * 5280 feet / mile * 3600 sec / hour\n",
    "    \"\"\"\n",
    "    return mph * 5280.0 / 3600"
   ]
  },
  {
   "cell_type": "raw",
   "id": "8477fd2a",
   "metadata": {},
   "source": [
    "To estimate the flow rate of said air cleaner, I used a Kestrel 1000, a wind-speed measurement device. We can get flow rate by getting the wind speed, and then multiplying that with the surface area of the fan."
   ]
  },
  {
   "cell_type": "code",
   "execution_count": 5,
   "id": "c8126236",
   "metadata": {},
   "outputs": [],
   "source": [
    "def circle_area(diameter):\n",
    "    \"\"\"\n",
    "    Returns area of circle\n",
    "    \"\"\"\n",
    "    radius = diameter / 2\n",
    "    return np.pi * radius ** 2"
   ]
  },
  {
   "cell_type": "code",
   "execution_count": 6,
   "id": "a1b24680",
   "metadata": {},
   "outputs": [
    {
     "data": {
      "text/plain": [
       "2.933333333333333"
      ]
     },
     "execution_count": 6,
     "metadata": {},
     "output_type": "execute_result"
    }
   ],
   "source": [
    "miles_per_hour_to_feet_per_second(2)"
   ]
  },
  {
   "cell_type": "code",
   "execution_count": 7,
   "id": "b71eca88",
   "metadata": {},
   "outputs": [],
   "source": [
    "def surface_area_of_layer_in_sq_ft(\n",
    "    layer,  \n",
    "    num_layers,\n",
    "    no_air_flow_middle_diam_inches, \n",
    "    with_air_flow_inches\n",
    "):\n",
    "    \"\"\"\n",
    "    Assuming 5 layers.\n",
    "    \n",
    "    1st layer is layer 0.\n",
    "    \n",
    "    Parameters:\n",
    "        layer: integer\n",
    "        \n",
    "        num_layers: integer\n",
    "            The number of circular layers.\n",
    "            \n",
    "        no_air_flow_middle_diam_inches: float\n",
    "            This is the area of the circle that has no airflow, due to the design of \n",
    "            the box fan (i.e. some circle with a box fan logo). Measured in inches.\n",
    "        \n",
    "        with_air_flow_inches: float\n",
    "            When added to no_air_flow_middle_diam_inches, we get a diameter, whose \n",
    "            circumference corresponds to the circle in which air is coming out of.\n",
    "            \n",
    "        \n",
    "    Returns: float\n",
    "        square-feet\n",
    "    \"\"\"\n",
    "    num_inches_in_a_foot = 12\n",
    "    \n",
    "    if layer < 0 or layer > num_layers - 1:\n",
    "        raise ValueError(f\"Layer {layer} cannot be less than 0 or greater than 2.\")\n",
    "        \n",
    "    engulfing_circle_area = circle_area(\n",
    "        (\n",
    "            no_air_flow_middle_diam_inches + (layer + 1) * with_air_flow_inches / num_layers\n",
    "        ) / num_inches_in_a_foot\n",
    "    )\n",
    "    \n",
    "    engulfed_circle_area = circle_area(\n",
    "        (\n",
    "            no_air_flow_middle_diam_inches + layer * with_air_flow_inches / num_layers\n",
    "        ) / num_inches_in_a_foot\n",
    "    )\n",
    "    \n",
    "    return (engulfing_circle_area - engulfed_circle_area)"
   ]
  },
  {
   "cell_type": "code",
   "execution_count": 8,
   "id": "6c470a52",
   "metadata": {
    "scrolled": true
   },
   "outputs": [
    {
     "data": {
      "text/plain": [
       "0.1987736092549097"
      ]
     },
     "execution_count": 8,
     "metadata": {},
     "output_type": "execute_result"
    }
   ],
   "source": [
    "surface_area_of_layer_in_sq_ft(\n",
    "    layer=0,\n",
    "    num_layers=3,\n",
    "    no_air_flow_middle_diam_inches=5.5,\n",
    "    with_air_flow_inches=8.0\n",
    ")"
   ]
  },
  {
   "cell_type": "code",
   "execution_count": 9,
   "id": "98048c23",
   "metadata": {
    "scrolled": true
   },
   "outputs": [
    {
     "data": {
      "text/plain": [
       "0.1987736092549097"
      ]
     },
     "execution_count": 9,
     "metadata": {},
     "output_type": "execute_result"
    }
   ],
   "source": [
    "np.pi * ((8.0 * 1/3 + 5.5) / (12 * 2))**2 - (np.pi * (5.5 / (2 * 12)) ** 2)"
   ]
  },
  {
   "cell_type": "code",
   "execution_count": 10,
   "id": "1d794690",
   "metadata": {
    "scrolled": true
   },
   "outputs": [
    {
     "data": {
      "text/plain": [
       "0.27634379823243543"
      ]
     },
     "execution_count": 10,
     "metadata": {},
     "output_type": "execute_result"
    }
   ],
   "source": [
    "surface_area_of_layer_in_sq_ft(\n",
    "    layer=1,\n",
    "    num_layers=3,\n",
    "    no_air_flow_middle_diam_inches=5.5,\n",
    "    with_air_flow_inches=8.0\n",
    ")"
   ]
  },
  {
   "cell_type": "code",
   "execution_count": 11,
   "id": "beb0b37b",
   "metadata": {
    "scrolled": false
   },
   "outputs": [
    {
     "data": {
      "text/plain": [
       "0.27634379823243543"
      ]
     },
     "execution_count": 11,
     "metadata": {},
     "output_type": "execute_result"
    }
   ],
   "source": [
    "np.pi * ((8.0 * 2/3 + 5.5) / (12 * 2))**2 - np.pi * ((8.0 * 1/3 + 5.5) / (12 * 2))**2"
   ]
  },
  {
   "cell_type": "code",
   "execution_count": 12,
   "id": "53b0a26f",
   "metadata": {
    "scrolled": true
   },
   "outputs": [
    {
     "data": {
      "text/plain": [
       "0.35391398720996137"
      ]
     },
     "execution_count": 12,
     "metadata": {},
     "output_type": "execute_result"
    }
   ],
   "source": [
    "surface_area_of_layer_in_sq_ft(\n",
    "    layer=2,\n",
    "    num_layers=3,\n",
    "    no_air_flow_middle_diam_inches=5.5,\n",
    "    with_air_flow_inches=8.0\n",
    ")"
   ]
  },
  {
   "cell_type": "code",
   "execution_count": 13,
   "id": "ba1e8b34",
   "metadata": {
    "scrolled": false
   },
   "outputs": [
    {
     "data": {
      "text/plain": [
       "0.35391398720996137"
      ]
     },
     "execution_count": 13,
     "metadata": {},
     "output_type": "execute_result"
    }
   ],
   "source": [
    "np.pi * ((8.0 + 5.5) / (12 * 2))**2 - np.pi * ((8.0 * 2/3 + 5.5) / (12 * 2))**2"
   ]
  },
  {
   "cell_type": "code",
   "execution_count": 14,
   "id": "e530d7de",
   "metadata": {},
   "outputs": [],
   "source": [
    "airflow_areas = [\n",
    "    surface_area_of_layer_in_sq_ft(\n",
    "        layer=layer,\n",
    "        num_layers=3,\n",
    "        no_air_flow_middle_diam_inches=5.5,\n",
    "        with_air_flow_inches=8.0\n",
    "    )\n",
    "    for layer in range(3)\n",
    "]"
   ]
  },
  {
   "cell_type": "code",
   "execution_count": 15,
   "id": "acec8e7b",
   "metadata": {},
   "outputs": [
    {
     "data": {
      "text/plain": [
       "0.8290313946973065"
      ]
     },
     "execution_count": 15,
     "metadata": {},
     "output_type": "execute_result"
    }
   ],
   "source": [
    "sum(airflow_areas)"
   ]
  },
  {
   "cell_type": "code",
   "execution_count": 16,
   "id": "80e7e529",
   "metadata": {},
   "outputs": [
    {
     "data": {
      "text/plain": [
       "0.02302864985270295"
      ]
     },
     "execution_count": 16,
     "metadata": {},
     "output_type": "execute_result"
    }
   ],
   "source": [
    "num_divisions = 12.0\n",
    "surface_area_of_layer_in_sq_ft(\n",
    "    layer=1,\n",
    "    num_layers=3,\n",
    "    no_air_flow_middle_diam_inches=5.5,\n",
    "    with_air_flow_inches=8.0\n",
    ") / num_divisions"
   ]
  },
  {
   "cell_type": "code",
   "execution_count": 17,
   "id": "807f578e",
   "metadata": {},
   "outputs": [],
   "source": [
    "anemometer_readings = pd.DataFrame([\n",
    "    {\n",
    "        'layer': 0,\n",
    "        'group': 0,\n",
    "        'reading': 0.4\n",
    "    },\n",
    "    {\n",
    "        'layer': 0,\n",
    "        'group': 0,\n",
    "        'reading': 0.5\n",
    "    },\n",
    "    {\n",
    "        'layer': 0,\n",
    "        'group': 1,\n",
    "        'reading': 1.2\n",
    "    },\n",
    "    {\n",
    "        'layer': 0,\n",
    "        'group': 1,\n",
    "        'reading': 1.6\n",
    "    },\n",
    "    {\n",
    "        'layer': 0,\n",
    "        'group': 2,\n",
    "        'reading': 1.1\n",
    "    },\n",
    "    {\n",
    "        'layer': 0,\n",
    "        'group': 2,\n",
    "        'reading': 1.1\n",
    "    },\n",
    "    {\n",
    "        'layer': 0,\n",
    "        'group': 3,\n",
    "        'reading': 1.3\n",
    "    },\n",
    "    {\n",
    "        'layer': 0,\n",
    "        'group': 3,\n",
    "        'reading': 1.2\n",
    "    },\n",
    "    {\n",
    "        'layer': 0,\n",
    "        'group': 4,\n",
    "        'reading': 0.3\n",
    "    },\n",
    "    {\n",
    "        'layer': 0,\n",
    "        'group': 4,\n",
    "        'reading': 0.9\n",
    "    },\n",
    "    {\n",
    "        'layer': 0,\n",
    "        'group': 5,\n",
    "        'reading': 0.3\n",
    "    },\n",
    "    {\n",
    "        'layer': 0,\n",
    "        'group': 5,\n",
    "        'reading': 0.5\n",
    "    },\n",
    "    {\n",
    "        'layer': 0,\n",
    "        'group': 6,\n",
    "        'reading': 0.3\n",
    "    },\n",
    "    {\n",
    "        'layer': 0,\n",
    "        'group': 6,\n",
    "        'reading': 0.5\n",
    "    },\n",
    "    {\n",
    "        'layer': 0,\n",
    "        'group': 7,\n",
    "        'reading': 0.5\n",
    "    },\n",
    "    {\n",
    "        'layer': 0,\n",
    "        'group': 7,\n",
    "        'reading': 0.4\n",
    "    },\n",
    "    {\n",
    "        'layer': 0,\n",
    "        'group': 8,\n",
    "        'reading': 1.3\n",
    "    },\n",
    "    {\n",
    "        'layer': 0,\n",
    "        'group': 8,\n",
    "        'reading': 1.3\n",
    "    },\n",
    "    {\n",
    "        'layer': 0,\n",
    "        'group': 9,\n",
    "        'reading': 1.5\n",
    "    },\n",
    "    {\n",
    "        'layer': 0,\n",
    "        'group': 9,\n",
    "        'reading': 1.3\n",
    "    },\n",
    "    {\n",
    "        'layer': 0,\n",
    "        'group': 10,\n",
    "        'reading': 1.2\n",
    "    },\n",
    "    {\n",
    "        'layer': 0,\n",
    "        'group': 10,\n",
    "        'reading': 1.7\n",
    "    },\n",
    "    {\n",
    "        'layer': 0,\n",
    "        'group': 11,\n",
    "        'reading': 1.6\n",
    "    },\n",
    "    {\n",
    "        'layer': 0,\n",
    "        'group': 11,\n",
    "        'reading': 1.0\n",
    "    },\n",
    "\n",
    "    {\n",
    "        'layer': 1,\n",
    "        'group': 0,\n",
    "        'reading': 2.8\n",
    "    },\n",
    "    {\n",
    "        'layer': 1,\n",
    "        'group': 0,\n",
    "        'reading': 2.1\n",
    "    },\n",
    "    {\n",
    "        'layer': 1,\n",
    "        'group': 1,\n",
    "        'reading': 2.7\n",
    "    },\n",
    "    {\n",
    "        'layer': 1,\n",
    "        'group': 1,\n",
    "        'reading': 2.1\n",
    "    },\n",
    "    {\n",
    "        'layer': 1,\n",
    "        'group': 2,\n",
    "        'reading': 2.0\n",
    "    },\n",
    "    {\n",
    "        'layer': 1,\n",
    "        'group': 2,\n",
    "        'reading': 2.2\n",
    "    },\n",
    "    {\n",
    "        'layer': 1,\n",
    "        'group': 3,\n",
    "        'reading': 3.0\n",
    "    },\n",
    "    {\n",
    "        'layer': 1,\n",
    "        'group': 3,\n",
    "        'reading': 3.1\n",
    "    },\n",
    "    {\n",
    "        'layer': 1,\n",
    "        'group': 4,\n",
    "        'reading': 2.4\n",
    "    },\n",
    "    {\n",
    "        'layer': 1,\n",
    "        'group': 4,\n",
    "        'reading': 2.4\n",
    "    },\n",
    "    {\n",
    "        'layer': 1,\n",
    "        'group': 5,\n",
    "        'reading': 2.5\n",
    "    },\n",
    "    {\n",
    "        'layer': 1,\n",
    "        'group': 5,\n",
    "        'reading': 2.5\n",
    "    },\n",
    "    {\n",
    "        'layer': 1,\n",
    "        'group': 6,\n",
    "        'reading': 1.6\n",
    "    },\n",
    "    {\n",
    "        'layer': 1,\n",
    "        'group': 6,\n",
    "        'reading': 2.2\n",
    "    },\n",
    "    {\n",
    "        'layer': 1,\n",
    "        'group': 7,\n",
    "        'reading': 2.5\n",
    "    },\n",
    "    {\n",
    "        'layer': 1,\n",
    "        'group': 7,\n",
    "        'reading': 2.3\n",
    "    },\n",
    "    {\n",
    "        'layer': 1,\n",
    "        'group': 8,\n",
    "        'reading': 2.4\n",
    "    },\n",
    "    {\n",
    "        'layer': 1,\n",
    "        'group': 8,\n",
    "        'reading': 2.5\n",
    "    },\n",
    "    {\n",
    "        'layer': 1,\n",
    "        'group': 9,\n",
    "        'reading': 2.4\n",
    "    },\n",
    "    {\n",
    "        'layer': 1,\n",
    "        'group': 9,\n",
    "        'reading': 2.0\n",
    "    },\n",
    "    {\n",
    "        'layer': 1,\n",
    "        'group': 10,\n",
    "        'reading': 2.0\n",
    "    },\n",
    "    {\n",
    "        'layer': 1,\n",
    "        'group': 10,\n",
    "        'reading': 2.6\n",
    "    },\n",
    "    {\n",
    "        'layer': 1,\n",
    "        'group': 11,\n",
    "        'reading': 2.4\n",
    "    },\n",
    "    {\n",
    "        'layer': 1,\n",
    "        'group': 11,\n",
    "        'reading': 2.4\n",
    "    },\n",
    "\n",
    "    {\n",
    "        'layer': 2,\n",
    "        'group': 0,\n",
    "        'reading': 1.2\n",
    "    },\n",
    "    {\n",
    "        'layer': 2,\n",
    "        'group': 0,\n",
    "        'reading': 1.0\n",
    "    },\n",
    "    {\n",
    "        'layer': 2,\n",
    "        'group': 1,\n",
    "        'reading': 1.1\n",
    "    },\n",
    "    {\n",
    "        'layer': 2,\n",
    "        'group': 1,\n",
    "        'reading': 1.0\n",
    "    },\n",
    "    {\n",
    "        'layer': 2,\n",
    "        'group': 2,\n",
    "        'reading': 1.2\n",
    "    },\n",
    "    {\n",
    "        'layer': 2,\n",
    "        'group': 2,\n",
    "        'reading': 0.6\n",
    "    },\n",
    "    {\n",
    "        'layer': 2,\n",
    "        'group': 3,\n",
    "        'reading': 1.2\n",
    "    },\n",
    "    {\n",
    "        'layer': 2,\n",
    "        'group': 3,\n",
    "        'reading': 1.2\n",
    "    },\n",
    "    {\n",
    "        'layer': 2,\n",
    "        'group': 4,\n",
    "        'reading': 1.7\n",
    "    },\n",
    "    {\n",
    "        'layer': 2,\n",
    "        'group': 4,\n",
    "        'reading': 1.2\n",
    "    },\n",
    "    {\n",
    "        'layer': 2,\n",
    "        'group': 5,\n",
    "        'reading': 0.6\n",
    "    },\n",
    "    {\n",
    "        'layer': 2,\n",
    "        'group': 5,\n",
    "        'reading': 0.7\n",
    "    },\n",
    "    {\n",
    "        'layer': 2,\n",
    "        'group': 6,\n",
    "        'reading': 0.4\n",
    "    },\n",
    "    {\n",
    "        'layer': 2,\n",
    "        'group': 6,\n",
    "        'reading': 0.4\n",
    "    },\n",
    "    {\n",
    "        'layer': 2,\n",
    "        'group': 7,\n",
    "        'reading': 1.6\n",
    "    },\n",
    "    {\n",
    "        'layer': 2,\n",
    "        'group': 7,\n",
    "        'reading': 1.0\n",
    "    },\n",
    "    {\n",
    "        'layer': 2,\n",
    "        'group': 8,\n",
    "        'reading': 1.1\n",
    "    },\n",
    "    {\n",
    "        'layer': 2,\n",
    "        'group': 8,\n",
    "        'reading': 1.1\n",
    "    },\n",
    "    {\n",
    "        'layer': 2,\n",
    "        'group': 9,\n",
    "        'reading': 1.0\n",
    "    },\n",
    "    {\n",
    "        'layer': 2,\n",
    "        'group': 9,\n",
    "        'reading': 0.9\n",
    "    },\n",
    "    {\n",
    "        'layer': 2,\n",
    "        'group': 10,\n",
    "        'reading': 0.5\n",
    "    },\n",
    "    {\n",
    "        'layer': 2,\n",
    "        'group': 10,\n",
    "        'reading': 1.1\n",
    "    },\n",
    "    {\n",
    "        'layer': 2,\n",
    "        'group': 11,\n",
    "        'reading': 0.9\n",
    "    },\n",
    "    {\n",
    "        'layer': 2,\n",
    "        'group': 11,\n",
    "        'reading': 1.0\n",
    "    }\n",
    "])\n"
   ]
  },
  {
   "cell_type": "code",
   "execution_count": 18,
   "id": "f8f7db7e",
   "metadata": {},
   "outputs": [],
   "source": [
    "def create_anemometer_cpt_df(size):\n",
    "    \"\"\"\n",
    "    Generates a dataframe that represents the conditional probility table for \n",
    "    P(anemometer reading value | actual wind speed).\n",
    "    \n",
    "    Assumes that the measured feet per second of the anemometer is produced by \n",
    "    Gaussian centered at the actual feet per second value, with a standard \n",
    "    deviation of 0.1.\n",
    "    \n",
    "    Parameters\n",
    "    \"\"\"\n",
    "    dfs = []\n",
    "    minimum = 0\n",
    "    maximum = 15\n",
    "    for actual_cfs in np.arange(minimum, maximum, 0.1):\n",
    "        cubic_feet_per_second = np.random.normal(actual_cfs, 0.1, size=size)\n",
    "        \n",
    "        df = pd.DataFrame({\n",
    "            'actual_mps': round(actual_cfs, 2),\n",
    "            'measured_mps': [round(cfs, 1) for cfs in cubic_feet_per_second],\n",
    "            'value': 0\n",
    "        })\n",
    "            \n",
    "        dfs.append(df)\n",
    "    \n",
    "    dfs = pd.concat(dfs)\n",
    "    \n",
    "    rates = (\n",
    "        dfs.groupby(['actual_mps', 'measured_mps']).count()[['value']] \\\n",
    "        / dfs.groupby(['actual_mps']).count()[['value']]\n",
    "    ).reset_index()\n",
    "            \n",
    "    valid_values = rates[(rates['measured_mps'] >= 0)]\n",
    "    \n",
    "    normalized = valid_values.set_index(['actual_mps', 'measured_mps'])[['value']] \\\n",
    "        / valid_values.groupby(['actual_mps']).sum()[['value']]\n",
    "    \n",
    "    return normalized.reset_index()"
   ]
  },
  {
   "cell_type": "code",
   "execution_count": 19,
   "id": "98eec350",
   "metadata": {},
   "outputs": [
    {
     "data": {
      "text/html": [
       "<div>\n",
       "<style scoped>\n",
       "    .dataframe tbody tr th:only-of-type {\n",
       "        vertical-align: middle;\n",
       "    }\n",
       "\n",
       "    .dataframe tbody tr th {\n",
       "        vertical-align: top;\n",
       "    }\n",
       "\n",
       "    .dataframe thead th {\n",
       "        text-align: right;\n",
       "    }\n",
       "</style>\n",
       "<table border=\"1\" class=\"dataframe\">\n",
       "  <thead>\n",
       "    <tr style=\"text-align: right;\">\n",
       "      <th></th>\n",
       "      <th>actual_mps</th>\n",
       "      <th>measured_mps</th>\n",
       "      <th>value</th>\n",
       "    </tr>\n",
       "  </thead>\n",
       "  <tbody>\n",
       "    <tr>\n",
       "      <th>0</th>\n",
       "      <td>0.0</td>\n",
       "      <td>0.0</td>\n",
       "      <td>0.562955</td>\n",
       "    </tr>\n",
       "    <tr>\n",
       "      <th>1</th>\n",
       "      <td>0.0</td>\n",
       "      <td>0.1</td>\n",
       "      <td>0.340863</td>\n",
       "    </tr>\n",
       "    <tr>\n",
       "      <th>2</th>\n",
       "      <td>0.0</td>\n",
       "      <td>0.2</td>\n",
       "      <td>0.086126</td>\n",
       "    </tr>\n",
       "    <tr>\n",
       "      <th>3</th>\n",
       "      <td>0.0</td>\n",
       "      <td>0.3</td>\n",
       "      <td>0.009472</td>\n",
       "    </tr>\n",
       "    <tr>\n",
       "      <th>4</th>\n",
       "      <td>0.0</td>\n",
       "      <td>0.4</td>\n",
       "      <td>0.000583</td>\n",
       "    </tr>\n",
       "    <tr>\n",
       "      <th>...</th>\n",
       "      <td>...</td>\n",
       "      <td>...</td>\n",
       "      <td>...</td>\n",
       "    </tr>\n",
       "    <tr>\n",
       "      <th>1305</th>\n",
       "      <td>14.9</td>\n",
       "      <td>14.9</td>\n",
       "      <td>0.385000</td>\n",
       "    </tr>\n",
       "    <tr>\n",
       "      <th>1306</th>\n",
       "      <td>14.9</td>\n",
       "      <td>15.0</td>\n",
       "      <td>0.241500</td>\n",
       "    </tr>\n",
       "    <tr>\n",
       "      <th>1307</th>\n",
       "      <td>14.9</td>\n",
       "      <td>15.1</td>\n",
       "      <td>0.063000</td>\n",
       "    </tr>\n",
       "    <tr>\n",
       "      <th>1308</th>\n",
       "      <td>14.9</td>\n",
       "      <td>15.2</td>\n",
       "      <td>0.006100</td>\n",
       "    </tr>\n",
       "    <tr>\n",
       "      <th>1309</th>\n",
       "      <td>14.9</td>\n",
       "      <td>15.3</td>\n",
       "      <td>0.000400</td>\n",
       "    </tr>\n",
       "  </tbody>\n",
       "</table>\n",
       "<p>1310 rows × 3 columns</p>\n",
       "</div>"
      ],
      "text/plain": [
       "      actual_mps  measured_mps     value\n",
       "0            0.0           0.0  0.562955\n",
       "1            0.0           0.1  0.340863\n",
       "2            0.0           0.2  0.086126\n",
       "3            0.0           0.3  0.009472\n",
       "4            0.0           0.4  0.000583\n",
       "...          ...           ...       ...\n",
       "1305        14.9          14.9  0.385000\n",
       "1306        14.9          15.0  0.241500\n",
       "1307        14.9          15.1  0.063000\n",
       "1308        14.9          15.2  0.006100\n",
       "1309        14.9          15.3  0.000400\n",
       "\n",
       "[1310 rows x 3 columns]"
      ]
     },
     "execution_count": 19,
     "metadata": {},
     "output_type": "execute_result"
    }
   ],
   "source": [
    "anemometer_reading_df = create_anemometer_cpt_df(10000)\n",
    "anemometer_reading_df"
   ]
  },
  {
   "cell_type": "code",
   "execution_count": 20,
   "id": "d6caaabe",
   "metadata": {},
   "outputs": [],
   "source": [
    "def generate_flat_priors(start, end, step, name, round_to=1):\n",
    "    \"\"\"\n",
    "    Parameters:\n",
    "        start: float\n",
    "            The lower bound\n",
    "        end: float\n",
    "            The upper bound\n",
    "        step: float\n",
    "            The increment that will be taken to go from start to end\n",
    "        round_to: integer\n",
    "            We round the value so that we can compare floats more easily.\n",
    "    \"\"\"\n",
    "    array = np.arange(start, end, step)\n",
    "    \n",
    "    proba = 1.0 / len(array)\n",
    "    \n",
    "    return pd.DataFrame(\n",
    "        [{'value': proba, name: round(i, round_to)} for i in array]\n",
    "    )\n"
   ]
  },
  {
   "cell_type": "code",
   "execution_count": 21,
   "id": "915458ea",
   "metadata": {},
   "outputs": [],
   "source": [
    "priors = generate_flat_priors(0,5,0.1,'actual_mps')"
   ]
  },
  {
   "cell_type": "code",
   "execution_count": 22,
   "id": "5f51a7e7",
   "metadata": {},
   "outputs": [],
   "source": [
    "def generate_cpts_for_anemometer_readings(\n",
    "    number_of_readings, \n",
    "    anemometer_reading_df,\n",
    "    given,\n",
    "    outcome\n",
    "):\n",
    "    \"\"\"\n",
    "    Generate conditional probability tables of anemometer readings.\n",
    "    \n",
    "    Parameters:\n",
    "        number_of_readings: integer\n",
    "        anemometer_reading_df: pd.DataFrame\n",
    "        givens: list[str]\n",
    "            The list of variables that are in the conditional.\n",
    "        \n",
    "    Returns: list[CPT]\n",
    "    \"\"\"\n",
    "    cpts = []\n",
    "\n",
    "    for i in range(number_of_readings):\n",
    "        cpt = CPT(\n",
    "            df=anemometer_reading_df.rename(\n",
    "                columns={\n",
    "                    'measured_mps': f'{outcome}_{i}',\n",
    "                    'actual_mps': f'{given}'\n",
    "                }\n",
    "            ),\n",
    "            outcomes=[f'{outcome}_{i}'],\n",
    "            givens=[given]\n",
    "        )\n",
    "        cpts.append(cpt)\n",
    "        \n",
    "    return cpts"
   ]
  },
  {
   "cell_type": "code",
   "execution_count": 23,
   "id": "ee5c02c9",
   "metadata": {},
   "outputs": [],
   "source": [
    "cpts = generate_cpts_for_anemometer_readings(\n",
    "    number_of_readings=2,\n",
    "    anemometer_reading_df=anemometer_reading_df,\n",
    "    given='actual_mps',\n",
    "    outcome='measured_mps'\n",
    ")"
   ]
  },
  {
   "cell_type": "code",
   "execution_count": 24,
   "id": "b3b10dc3",
   "metadata": {},
   "outputs": [
    {
     "data": {
      "text/html": [
       "<div>\n",
       "<style scoped>\n",
       "    .dataframe tbody tr th:only-of-type {\n",
       "        vertical-align: middle;\n",
       "    }\n",
       "\n",
       "    .dataframe tbody tr th {\n",
       "        vertical-align: top;\n",
       "    }\n",
       "\n",
       "    .dataframe thead th {\n",
       "        text-align: right;\n",
       "    }\n",
       "</style>\n",
       "<table border=\"1\" class=\"dataframe\">\n",
       "  <thead>\n",
       "    <tr style=\"text-align: right;\">\n",
       "      <th></th>\n",
       "      <th>value</th>\n",
       "      <th>actual_mps</th>\n",
       "    </tr>\n",
       "  </thead>\n",
       "  <tbody>\n",
       "    <tr>\n",
       "      <th>0</th>\n",
       "      <td>0.02</td>\n",
       "      <td>0.0</td>\n",
       "    </tr>\n",
       "    <tr>\n",
       "      <th>1</th>\n",
       "      <td>0.02</td>\n",
       "      <td>0.1</td>\n",
       "    </tr>\n",
       "    <tr>\n",
       "      <th>2</th>\n",
       "      <td>0.02</td>\n",
       "      <td>0.2</td>\n",
       "    </tr>\n",
       "    <tr>\n",
       "      <th>3</th>\n",
       "      <td>0.02</td>\n",
       "      <td>0.3</td>\n",
       "    </tr>\n",
       "    <tr>\n",
       "      <th>4</th>\n",
       "      <td>0.02</td>\n",
       "      <td>0.4</td>\n",
       "    </tr>\n",
       "    <tr>\n",
       "      <th>5</th>\n",
       "      <td>0.02</td>\n",
       "      <td>0.5</td>\n",
       "    </tr>\n",
       "    <tr>\n",
       "      <th>6</th>\n",
       "      <td>0.02</td>\n",
       "      <td>0.6</td>\n",
       "    </tr>\n",
       "    <tr>\n",
       "      <th>7</th>\n",
       "      <td>0.02</td>\n",
       "      <td>0.7</td>\n",
       "    </tr>\n",
       "    <tr>\n",
       "      <th>8</th>\n",
       "      <td>0.02</td>\n",
       "      <td>0.8</td>\n",
       "    </tr>\n",
       "    <tr>\n",
       "      <th>9</th>\n",
       "      <td>0.02</td>\n",
       "      <td>0.9</td>\n",
       "    </tr>\n",
       "    <tr>\n",
       "      <th>10</th>\n",
       "      <td>0.02</td>\n",
       "      <td>1.0</td>\n",
       "    </tr>\n",
       "    <tr>\n",
       "      <th>11</th>\n",
       "      <td>0.02</td>\n",
       "      <td>1.1</td>\n",
       "    </tr>\n",
       "    <tr>\n",
       "      <th>12</th>\n",
       "      <td>0.02</td>\n",
       "      <td>1.2</td>\n",
       "    </tr>\n",
       "    <tr>\n",
       "      <th>13</th>\n",
       "      <td>0.02</td>\n",
       "      <td>1.3</td>\n",
       "    </tr>\n",
       "    <tr>\n",
       "      <th>14</th>\n",
       "      <td>0.02</td>\n",
       "      <td>1.4</td>\n",
       "    </tr>\n",
       "    <tr>\n",
       "      <th>15</th>\n",
       "      <td>0.02</td>\n",
       "      <td>1.5</td>\n",
       "    </tr>\n",
       "    <tr>\n",
       "      <th>16</th>\n",
       "      <td>0.02</td>\n",
       "      <td>1.6</td>\n",
       "    </tr>\n",
       "    <tr>\n",
       "      <th>17</th>\n",
       "      <td>0.02</td>\n",
       "      <td>1.7</td>\n",
       "    </tr>\n",
       "    <tr>\n",
       "      <th>18</th>\n",
       "      <td>0.02</td>\n",
       "      <td>1.8</td>\n",
       "    </tr>\n",
       "    <tr>\n",
       "      <th>19</th>\n",
       "      <td>0.02</td>\n",
       "      <td>1.9</td>\n",
       "    </tr>\n",
       "    <tr>\n",
       "      <th>20</th>\n",
       "      <td>0.02</td>\n",
       "      <td>2.0</td>\n",
       "    </tr>\n",
       "    <tr>\n",
       "      <th>21</th>\n",
       "      <td>0.02</td>\n",
       "      <td>2.1</td>\n",
       "    </tr>\n",
       "    <tr>\n",
       "      <th>22</th>\n",
       "      <td>0.02</td>\n",
       "      <td>2.2</td>\n",
       "    </tr>\n",
       "    <tr>\n",
       "      <th>23</th>\n",
       "      <td>0.02</td>\n",
       "      <td>2.3</td>\n",
       "    </tr>\n",
       "    <tr>\n",
       "      <th>24</th>\n",
       "      <td>0.02</td>\n",
       "      <td>2.4</td>\n",
       "    </tr>\n",
       "    <tr>\n",
       "      <th>25</th>\n",
       "      <td>0.02</td>\n",
       "      <td>2.5</td>\n",
       "    </tr>\n",
       "    <tr>\n",
       "      <th>26</th>\n",
       "      <td>0.02</td>\n",
       "      <td>2.6</td>\n",
       "    </tr>\n",
       "    <tr>\n",
       "      <th>27</th>\n",
       "      <td>0.02</td>\n",
       "      <td>2.7</td>\n",
       "    </tr>\n",
       "    <tr>\n",
       "      <th>28</th>\n",
       "      <td>0.02</td>\n",
       "      <td>2.8</td>\n",
       "    </tr>\n",
       "    <tr>\n",
       "      <th>29</th>\n",
       "      <td>0.02</td>\n",
       "      <td>2.9</td>\n",
       "    </tr>\n",
       "    <tr>\n",
       "      <th>30</th>\n",
       "      <td>0.02</td>\n",
       "      <td>3.0</td>\n",
       "    </tr>\n",
       "    <tr>\n",
       "      <th>31</th>\n",
       "      <td>0.02</td>\n",
       "      <td>3.1</td>\n",
       "    </tr>\n",
       "    <tr>\n",
       "      <th>32</th>\n",
       "      <td>0.02</td>\n",
       "      <td>3.2</td>\n",
       "    </tr>\n",
       "    <tr>\n",
       "      <th>33</th>\n",
       "      <td>0.02</td>\n",
       "      <td>3.3</td>\n",
       "    </tr>\n",
       "    <tr>\n",
       "      <th>34</th>\n",
       "      <td>0.02</td>\n",
       "      <td>3.4</td>\n",
       "    </tr>\n",
       "    <tr>\n",
       "      <th>35</th>\n",
       "      <td>0.02</td>\n",
       "      <td>3.5</td>\n",
       "    </tr>\n",
       "    <tr>\n",
       "      <th>36</th>\n",
       "      <td>0.02</td>\n",
       "      <td>3.6</td>\n",
       "    </tr>\n",
       "    <tr>\n",
       "      <th>37</th>\n",
       "      <td>0.02</td>\n",
       "      <td>3.7</td>\n",
       "    </tr>\n",
       "    <tr>\n",
       "      <th>38</th>\n",
       "      <td>0.02</td>\n",
       "      <td>3.8</td>\n",
       "    </tr>\n",
       "    <tr>\n",
       "      <th>39</th>\n",
       "      <td>0.02</td>\n",
       "      <td>3.9</td>\n",
       "    </tr>\n",
       "    <tr>\n",
       "      <th>40</th>\n",
       "      <td>0.02</td>\n",
       "      <td>4.0</td>\n",
       "    </tr>\n",
       "    <tr>\n",
       "      <th>41</th>\n",
       "      <td>0.02</td>\n",
       "      <td>4.1</td>\n",
       "    </tr>\n",
       "    <tr>\n",
       "      <th>42</th>\n",
       "      <td>0.02</td>\n",
       "      <td>4.2</td>\n",
       "    </tr>\n",
       "    <tr>\n",
       "      <th>43</th>\n",
       "      <td>0.02</td>\n",
       "      <td>4.3</td>\n",
       "    </tr>\n",
       "    <tr>\n",
       "      <th>44</th>\n",
       "      <td>0.02</td>\n",
       "      <td>4.4</td>\n",
       "    </tr>\n",
       "    <tr>\n",
       "      <th>45</th>\n",
       "      <td>0.02</td>\n",
       "      <td>4.5</td>\n",
       "    </tr>\n",
       "    <tr>\n",
       "      <th>46</th>\n",
       "      <td>0.02</td>\n",
       "      <td>4.6</td>\n",
       "    </tr>\n",
       "    <tr>\n",
       "      <th>47</th>\n",
       "      <td>0.02</td>\n",
       "      <td>4.7</td>\n",
       "    </tr>\n",
       "    <tr>\n",
       "      <th>48</th>\n",
       "      <td>0.02</td>\n",
       "      <td>4.8</td>\n",
       "    </tr>\n",
       "    <tr>\n",
       "      <th>49</th>\n",
       "      <td>0.02</td>\n",
       "      <td>4.9</td>\n",
       "    </tr>\n",
       "  </tbody>\n",
       "</table>\n",
       "</div>"
      ],
      "text/plain": [
       "    value  actual_mps\n",
       "0    0.02         0.0\n",
       "1    0.02         0.1\n",
       "2    0.02         0.2\n",
       "3    0.02         0.3\n",
       "4    0.02         0.4\n",
       "5    0.02         0.5\n",
       "6    0.02         0.6\n",
       "7    0.02         0.7\n",
       "8    0.02         0.8\n",
       "9    0.02         0.9\n",
       "10   0.02         1.0\n",
       "11   0.02         1.1\n",
       "12   0.02         1.2\n",
       "13   0.02         1.3\n",
       "14   0.02         1.4\n",
       "15   0.02         1.5\n",
       "16   0.02         1.6\n",
       "17   0.02         1.7\n",
       "18   0.02         1.8\n",
       "19   0.02         1.9\n",
       "20   0.02         2.0\n",
       "21   0.02         2.1\n",
       "22   0.02         2.2\n",
       "23   0.02         2.3\n",
       "24   0.02         2.4\n",
       "25   0.02         2.5\n",
       "26   0.02         2.6\n",
       "27   0.02         2.7\n",
       "28   0.02         2.8\n",
       "29   0.02         2.9\n",
       "30   0.02         3.0\n",
       "31   0.02         3.1\n",
       "32   0.02         3.2\n",
       "33   0.02         3.3\n",
       "34   0.02         3.4\n",
       "35   0.02         3.5\n",
       "36   0.02         3.6\n",
       "37   0.02         3.7\n",
       "38   0.02         3.8\n",
       "39   0.02         3.9\n",
       "40   0.02         4.0\n",
       "41   0.02         4.1\n",
       "42   0.02         4.2\n",
       "43   0.02         4.3\n",
       "44   0.02         4.4\n",
       "45   0.02         4.5\n",
       "46   0.02         4.6\n",
       "47   0.02         4.7\n",
       "48   0.02         4.8\n",
       "49   0.02         4.9"
      ]
     },
     "execution_count": 24,
     "metadata": {},
     "output_type": "execute_result"
    }
   ],
   "source": [
    "priors"
   ]
  },
  {
   "cell_type": "code",
   "execution_count": 25,
   "id": "4b8c041f",
   "metadata": {},
   "outputs": [],
   "source": [
    "bn = BN(\n",
    "    cpts=cpts,\n",
    "    priors=[\n",
    "        CPT(\n",
    "            df=priors,\n",
    "            outcomes=['actual_mps']\n",
    "        )\n",
    "    ],\n",
    "    graphviz_dag=graphviz.Digraph()\n",
    ")"
   ]
  },
  {
   "cell_type": "code",
   "execution_count": 26,
   "id": "f8d8c650",
   "metadata": {},
   "outputs": [
    {
     "data": {
      "image/svg+xml": [
       "<?xml version=\"1.0\" encoding=\"UTF-8\" standalone=\"no\"?>\n",
       "<!DOCTYPE svg PUBLIC \"-//W3C//DTD SVG 1.1//EN\"\n",
       " \"http://www.w3.org/Graphics/SVG/1.1/DTD/svg11.dtd\">\n",
       "<!-- Generated by graphviz version 2.49.0 (0)\n",
       " -->\n",
       "<!-- Pages: 1 -->\n",
       "<svg width=\"322pt\" height=\"116pt\"\n",
       " viewBox=\"0.00 0.00 322.19 116.00\" xmlns=\"http://www.w3.org/2000/svg\" xmlns:xlink=\"http://www.w3.org/1999/xlink\">\n",
       "<g id=\"graph0\" class=\"graph\" transform=\"scale(1 1) rotate(0) translate(4 112)\">\n",
       "<polygon fill=\"white\" stroke=\"transparent\" points=\"-4,4 -4,-112 318.19,-112 318.19,4 -4,4\"/>\n",
       "<!-- actual_mps -->\n",
       "<g id=\"node1\" class=\"node\">\n",
       "<title>actual_mps</title>\n",
       "<ellipse fill=\"none\" stroke=\"black\" cx=\"157.09\" cy=\"-90\" rx=\"51.99\" ry=\"18\"/>\n",
       "<text text-anchor=\"middle\" x=\"157.09\" y=\"-86.3\" font-family=\"Times,serif\" font-size=\"14.00\">actual_mps</text>\n",
       "</g>\n",
       "<!-- measured_mps_0 -->\n",
       "<g id=\"node2\" class=\"node\">\n",
       "<title>measured_mps_0</title>\n",
       "<ellipse fill=\"none\" stroke=\"black\" cx=\"74.09\" cy=\"-18\" rx=\"74.19\" ry=\"18\"/>\n",
       "<text text-anchor=\"middle\" x=\"74.09\" y=\"-14.3\" font-family=\"Times,serif\" font-size=\"14.00\">measured_mps_0</text>\n",
       "</g>\n",
       "<!-- actual_mps&#45;&gt;measured_mps_0 -->\n",
       "<g id=\"edge1\" class=\"edge\">\n",
       "<title>actual_mps&#45;&gt;measured_mps_0</title>\n",
       "<path fill=\"none\" stroke=\"black\" d=\"M138.26,-73.12C127.46,-64 113.7,-52.4 101.69,-42.28\"/>\n",
       "<polygon fill=\"black\" stroke=\"black\" points=\"103.62,-39.32 93.72,-35.55 99.11,-44.67 103.62,-39.32\"/>\n",
       "</g>\n",
       "<!-- measured_mps_1 -->\n",
       "<g id=\"node3\" class=\"node\">\n",
       "<title>measured_mps_1</title>\n",
       "<ellipse fill=\"none\" stroke=\"black\" cx=\"240.09\" cy=\"-18\" rx=\"74.19\" ry=\"18\"/>\n",
       "<text text-anchor=\"middle\" x=\"240.09\" y=\"-14.3\" font-family=\"Times,serif\" font-size=\"14.00\">measured_mps_1</text>\n",
       "</g>\n",
       "<!-- actual_mps&#45;&gt;measured_mps_1 -->\n",
       "<g id=\"edge2\" class=\"edge\">\n",
       "<title>actual_mps&#45;&gt;measured_mps_1</title>\n",
       "<path fill=\"none\" stroke=\"black\" d=\"M175.93,-73.12C186.73,-64 200.49,-52.4 212.5,-42.28\"/>\n",
       "<polygon fill=\"black\" stroke=\"black\" points=\"215.08,-44.67 220.47,-35.55 210.57,-39.32 215.08,-44.67\"/>\n",
       "</g>\n",
       "</g>\n",
       "</svg>\n"
      ],
      "text/plain": [
       "<graphviz.graphs.Digraph at 0x183fc3c10>"
      ]
     },
     "execution_count": 26,
     "metadata": {},
     "output_type": "execute_result"
    }
   ],
   "source": [
    "bn.graphviz_dag"
   ]
  },
  {
   "cell_type": "code",
   "execution_count": 27,
   "id": "573eb4d2",
   "metadata": {},
   "outputs": [],
   "source": [
    "factor = VE(\n",
    "    network=bn,\n",
    "    query=Query(\n",
    "        outcomes=['actual_mps'],\n",
    "        givens=[\n",
    "            {\n",
    "                'measured_mps_0': 1.0\n",
    "            },\n",
    "            {\n",
    "                'measured_mps_1': 0.9\n",
    "            },\n",
    "        ]\n",
    "    )\n",
    ").compute()"
   ]
  },
  {
   "cell_type": "code",
   "execution_count": 28,
   "id": "4a2903fb",
   "metadata": {},
   "outputs": [
    {
     "data": {
      "text/html": [
       "<div>\n",
       "<style scoped>\n",
       "    .dataframe tbody tr th:only-of-type {\n",
       "        vertical-align: middle;\n",
       "    }\n",
       "\n",
       "    .dataframe tbody tr th {\n",
       "        vertical-align: top;\n",
       "    }\n",
       "\n",
       "    .dataframe thead th {\n",
       "        text-align: right;\n",
       "    }\n",
       "</style>\n",
       "<table border=\"1\" class=\"dataframe\">\n",
       "  <thead>\n",
       "    <tr style=\"text-align: right;\">\n",
       "      <th></th>\n",
       "      <th>actual_mps</th>\n",
       "      <th>measured_mps_1</th>\n",
       "      <th>measured_mps_0</th>\n",
       "      <th>value</th>\n",
       "    </tr>\n",
       "  </thead>\n",
       "  <tbody>\n",
       "    <tr>\n",
       "      <th>0</th>\n",
       "      <td>0.6</td>\n",
       "      <td>0.9</td>\n",
       "      <td>1.0</td>\n",
       "      <td>0.000005</td>\n",
       "    </tr>\n",
       "    <tr>\n",
       "      <th>1</th>\n",
       "      <td>0.7</td>\n",
       "      <td>0.9</td>\n",
       "      <td>1.0</td>\n",
       "      <td>0.001628</td>\n",
       "    </tr>\n",
       "    <tr>\n",
       "      <th>2</th>\n",
       "      <td>0.8</td>\n",
       "      <td>0.9</td>\n",
       "      <td>1.0</td>\n",
       "      <td>0.070071</td>\n",
       "    </tr>\n",
       "    <tr>\n",
       "      <th>3</th>\n",
       "      <td>0.9</td>\n",
       "      <td>0.9</td>\n",
       "      <td>1.0</td>\n",
       "      <td>0.430012</td>\n",
       "    </tr>\n",
       "    <tr>\n",
       "      <th>4</th>\n",
       "      <td>1.0</td>\n",
       "      <td>0.9</td>\n",
       "      <td>1.0</td>\n",
       "      <td>0.425992</td>\n",
       "    </tr>\n",
       "    <tr>\n",
       "      <th>5</th>\n",
       "      <td>1.1</td>\n",
       "      <td>0.9</td>\n",
       "      <td>1.0</td>\n",
       "      <td>0.070741</td>\n",
       "    </tr>\n",
       "    <tr>\n",
       "      <th>6</th>\n",
       "      <td>1.2</td>\n",
       "      <td>0.9</td>\n",
       "      <td>1.0</td>\n",
       "      <td>0.001544</td>\n",
       "    </tr>\n",
       "    <tr>\n",
       "      <th>7</th>\n",
       "      <td>1.3</td>\n",
       "      <td>0.9</td>\n",
       "      <td>1.0</td>\n",
       "      <td>0.000006</td>\n",
       "    </tr>\n",
       "  </tbody>\n",
       "</table>\n",
       "</div>"
      ],
      "text/plain": [
       "   actual_mps  measured_mps_1  measured_mps_0     value\n",
       "0         0.6             0.9             1.0  0.000005\n",
       "1         0.7             0.9             1.0  0.001628\n",
       "2         0.8             0.9             1.0  0.070071\n",
       "3         0.9             0.9             1.0  0.430012\n",
       "4         1.0             0.9             1.0  0.425992\n",
       "5         1.1             0.9             1.0  0.070741\n",
       "6         1.2             0.9             1.0  0.001544\n",
       "7         1.3             0.9             1.0  0.000006"
      ]
     },
     "execution_count": 28,
     "metadata": {},
     "output_type": "execute_result"
    }
   ],
   "source": [
    "factor.get_df()"
   ]
  },
  {
   "cell_type": "code",
   "execution_count": 29,
   "id": "21b7ec54",
   "metadata": {},
   "outputs": [
    {
     "data": {
      "text/plain": [
       "<AxesSubplot:xlabel='actual_mps'>"
      ]
     },
     "execution_count": 29,
     "metadata": {},
     "output_type": "execute_result"
    },
    {
     "data": {
      "image/png": "[encoded data removed]",
      "text/plain": [
       "<Figure size 432x288 with 1 Axes>"
      ]
     },
     "metadata": {
      "needs_background": "light"
     },
     "output_type": "display_data"
    }
   ],
   "source": [
    "factor.get_df()[['actual_mps', 'value']].set_index('actual_mps').plot.bar()"
   ]
  },
  {
   "cell_type": "code",
   "execution_count": 153,
   "id": "85cbb122",
   "metadata": {
    "scrolled": true
   },
   "outputs": [],
   "source": [
    "def sample_total_air_delivery_rate(\n",
    "    anemometer_readings,\n",
    "    num_sections_per_layer = 12.0,\n",
    "    num_feet_in_meters = 3.28084,\n",
    "    num_layers = 3,\n",
    "    no_air_flow_middle_diam_inches = 5.5,\n",
    "    with_air_flow_inches = 8.0,\n",
    "    sample_size = 10000\n",
    "):\n",
    "    \"\"\"\n",
    "    Sample total air delivery rate.\n",
    "    \"\"\"\n",
    "    total = np.zeros(sample_size)\n",
    "\n",
    "    for layer in range(num_layers):\n",
    "\n",
    "        sq_ft_section = surface_area_of_layer_in_sq_ft(\n",
    "            layer=layer,\n",
    "            num_layers=num_layers,\n",
    "            no_air_flow_middle_diam_inches=no_air_flow_middle_diam_inches,\n",
    "            with_air_flow_inches=with_air_flow_inches\n",
    "        ) / num_sections_per_layer\n",
    "\n",
    "        for group in range(int(num_sections_per_layer)):\n",
    "            wind_speed_readings_for_layer_group = anemometer_readings[\n",
    "                (anemometer_readings['layer'] == layer) \\\n",
    "                & (anemometer_readings['group'] == group)\n",
    "            ]\n",
    "\n",
    "            reading_0 = wind_speed_readings_for_layer_group.iloc[0]['reading']\n",
    "            reading_1 = wind_speed_readings_for_layer_group.iloc[1]['reading']\n",
    "            query = Query(\n",
    "                outcomes=['actual_mps'],\n",
    "                givens=[\n",
    "                    {\n",
    "                        'measured_mps_0': reading_0\n",
    "                    },\n",
    "                    {\n",
    "                        'measured_mps_1': reading_1\n",
    "                    },\n",
    "                ]\n",
    "            )\n",
    "\n",
    "            factor = VE(\n",
    "                network=bn,\n",
    "                query=query\n",
    "            ).compute()\n",
    "\n",
    "            result = factor.get_df()\n",
    "            actual_windspeed_in_meters_per_second = \\\n",
    "                np.random.choice(\n",
    "                    result['actual_mps'], \n",
    "                    p=result['value'], \n",
    "                    size=sample_size\n",
    "                )\n",
    "\n",
    "            actual_windspeed_in_feet_per_second = \\\n",
    "                actual_windspeed_in_meters_per_second * num_feet_in_meters\n",
    "\n",
    "            mean_windspeed = actual_windspeed_in_feet_per_second.mean()\n",
    "            total = total + actual_windspeed_in_feet_per_second * sq_ft_section\n",
    "            \n",
    "    return pd.Series(total)"
   ]
  },
  {
   "cell_type": "code",
   "execution_count": 154,
   "id": "aa738088",
   "metadata": {},
   "outputs": [
    {
     "data": {
      "text/plain": [
       "<AxesSubplot:title={'center':'Total Air Delivery Rate of CR Microfiber'}, xlabel='Cubic Feet per Second', ylabel='Density'>"
      ]
     },
     "execution_count": 154,
     "metadata": {},
     "output_type": "execute_result"
    },
    {
     "data": {
      "image/png": "[encoded data removed]",
      "text/plain": [
       "<Figure size 432x288 with 1 Axes>"
      ]
     },
     "metadata": {
      "needs_background": "light"
     },
     "output_type": "display_data"
    }
   ],
   "source": [
    "total = sample_total_air_delivery_rate(\n",
    "    anemometer_readings=anemometer_readings\n",
    ")\n",
    "fig, ax = plt.subplots(1,1)\n",
    "ax.set_xlabel('Cubic Feet per Second')\n",
    "pd.Series(total).plot.kde(title='Total Air Delivery Rate of CR Microfiber', ax=ax)"
   ]
  },
  {
   "cell_type": "code",
   "execution_count": 32,
   "id": "a336d1b8",
   "metadata": {},
   "outputs": [
    {
     "data": {
      "text/plain": [
       "1.4416666666666667"
      ]
     },
     "execution_count": 32,
     "metadata": {},
     "output_type": "execute_result"
    }
   ],
   "source": [
    "anemometer_readings['reading'].mean()"
   ]
  },
  {
   "cell_type": "markdown",
   "id": "71f9676f",
   "metadata": {},
   "source": [
    "Lit 3 matches, waited for a few minutes to ensure that the particle counter got a massive jump in readings (i.e. n0_3 jumped to 1800).\n",
    "\n",
    "- Left at 8:01\n",
    "- Turned on fan at 9:01\n",
    "- Switched to Coway at 10:03\n",
    "- Stopped data collection at 10:33"
   ]
  },
  {
   "cell_type": "code",
   "execution_count": 39,
   "id": "dc085e35",
   "metadata": {},
   "outputs": [
    {
     "name": "stdout",
     "output_type": "stream",
     "text": [
      "/Users/eugaddan/Developer/linx/notebooks/air_cleaning_experiments\n"
     ]
    }
   ],
   "source": [
    "%%bash\n",
    "pwd"
   ]
  },
  {
   "cell_type": "code",
   "execution_count": 43,
   "id": "9d04830a",
   "metadata": {},
   "outputs": [],
   "source": [
    "particle_counter_data = pd.read_json(\"pms_7003.json\", orient='records', lines=True).set_index('datetime')"
   ]
  },
  {
   "cell_type": "code",
   "execution_count": 44,
   "id": "b1eb313d",
   "metadata": {},
   "outputs": [
    {
     "data": {
      "text/html": [
       "<div>\n",
       "<style scoped>\n",
       "    .dataframe tbody tr th:only-of-type {\n",
       "        vertical-align: middle;\n",
       "    }\n",
       "\n",
       "    .dataframe tbody tr th {\n",
       "        vertical-align: top;\n",
       "    }\n",
       "\n",
       "    .dataframe thead th {\n",
       "        text-align: right;\n",
       "    }\n",
       "</style>\n",
       "<table border=\"1\" class=\"dataframe\">\n",
       "  <thead>\n",
       "    <tr style=\"text-align: right;\">\n",
       "      <th></th>\n",
       "      <th>pm1_0cf1</th>\n",
       "      <th>pm2_5cf1</th>\n",
       "      <th>pm10cf1</th>\n",
       "      <th>pm1_0</th>\n",
       "      <th>pm2_5</th>\n",
       "      <th>pm10</th>\n",
       "      <th>n0_3</th>\n",
       "      <th>n0_5</th>\n",
       "      <th>n1_0</th>\n",
       "      <th>n2_5</th>\n",
       "      <th>n5_0</th>\n",
       "      <th>n10</th>\n",
       "      <th>sensor_num</th>\n",
       "    </tr>\n",
       "    <tr>\n",
       "      <th>datetime</th>\n",
       "      <th></th>\n",
       "      <th></th>\n",
       "      <th></th>\n",
       "      <th></th>\n",
       "      <th></th>\n",
       "      <th></th>\n",
       "      <th></th>\n",
       "      <th></th>\n",
       "      <th></th>\n",
       "      <th></th>\n",
       "      <th></th>\n",
       "      <th></th>\n",
       "      <th></th>\n",
       "    </tr>\n",
       "  </thead>\n",
       "  <tbody>\n",
       "    <tr>\n",
       "      <th>2021-12-18 19:53:27.899489</th>\n",
       "      <td>0</td>\n",
       "      <td>0</td>\n",
       "      <td>0</td>\n",
       "      <td>0</td>\n",
       "      <td>0</td>\n",
       "      <td>0</td>\n",
       "      <td>3</td>\n",
       "      <td>1</td>\n",
       "      <td>1</td>\n",
       "      <td>1</td>\n",
       "      <td>0</td>\n",
       "      <td>0</td>\n",
       "      <td>0</td>\n",
       "    </tr>\n",
       "    <tr>\n",
       "      <th>2021-12-18 19:53:28.817320</th>\n",
       "      <td>0</td>\n",
       "      <td>0</td>\n",
       "      <td>0</td>\n",
       "      <td>0</td>\n",
       "      <td>0</td>\n",
       "      <td>0</td>\n",
       "      <td>3</td>\n",
       "      <td>1</td>\n",
       "      <td>1</td>\n",
       "      <td>1</td>\n",
       "      <td>0</td>\n",
       "      <td>0</td>\n",
       "      <td>0</td>\n",
       "    </tr>\n",
       "    <tr>\n",
       "      <th>2021-12-18 19:53:29.655135</th>\n",
       "      <td>0</td>\n",
       "      <td>0</td>\n",
       "      <td>0</td>\n",
       "      <td>0</td>\n",
       "      <td>0</td>\n",
       "      <td>0</td>\n",
       "      <td>3</td>\n",
       "      <td>1</td>\n",
       "      <td>1</td>\n",
       "      <td>1</td>\n",
       "      <td>0</td>\n",
       "      <td>0</td>\n",
       "      <td>0</td>\n",
       "    </tr>\n",
       "    <tr>\n",
       "      <th>2021-12-18 19:53:30.573125</th>\n",
       "      <td>0</td>\n",
       "      <td>0</td>\n",
       "      <td>0</td>\n",
       "      <td>0</td>\n",
       "      <td>0</td>\n",
       "      <td>0</td>\n",
       "      <td>6</td>\n",
       "      <td>2</td>\n",
       "      <td>1</td>\n",
       "      <td>1</td>\n",
       "      <td>0</td>\n",
       "      <td>0</td>\n",
       "      <td>0</td>\n",
       "    </tr>\n",
       "    <tr>\n",
       "      <th>2021-12-18 19:53:31.410849</th>\n",
       "      <td>0</td>\n",
       "      <td>0</td>\n",
       "      <td>0</td>\n",
       "      <td>0</td>\n",
       "      <td>0</td>\n",
       "      <td>0</td>\n",
       "      <td>6</td>\n",
       "      <td>2</td>\n",
       "      <td>1</td>\n",
       "      <td>1</td>\n",
       "      <td>0</td>\n",
       "      <td>0</td>\n",
       "      <td>0</td>\n",
       "    </tr>\n",
       "    <tr>\n",
       "      <th>...</th>\n",
       "      <td>...</td>\n",
       "      <td>...</td>\n",
       "      <td>...</td>\n",
       "      <td>...</td>\n",
       "      <td>...</td>\n",
       "      <td>...</td>\n",
       "      <td>...</td>\n",
       "      <td>...</td>\n",
       "      <td>...</td>\n",
       "      <td>...</td>\n",
       "      <td>...</td>\n",
       "      <td>...</td>\n",
       "      <td>...</td>\n",
       "    </tr>\n",
       "    <tr>\n",
       "      <th>2021-12-18 22:33:46.151964</th>\n",
       "      <td>0</td>\n",
       "      <td>0</td>\n",
       "      <td>0</td>\n",
       "      <td>0</td>\n",
       "      <td>0</td>\n",
       "      <td>0</td>\n",
       "      <td>0</td>\n",
       "      <td>0</td>\n",
       "      <td>0</td>\n",
       "      <td>0</td>\n",
       "      <td>0</td>\n",
       "      <td>0</td>\n",
       "      <td>0</td>\n",
       "    </tr>\n",
       "    <tr>\n",
       "      <th>2021-12-18 22:33:47.005828</th>\n",
       "      <td>0</td>\n",
       "      <td>0</td>\n",
       "      <td>0</td>\n",
       "      <td>0</td>\n",
       "      <td>0</td>\n",
       "      <td>0</td>\n",
       "      <td>0</td>\n",
       "      <td>0</td>\n",
       "      <td>0</td>\n",
       "      <td>0</td>\n",
       "      <td>0</td>\n",
       "      <td>0</td>\n",
       "      <td>0</td>\n",
       "    </tr>\n",
       "    <tr>\n",
       "      <th>2021-12-18 22:33:47.923702</th>\n",
       "      <td>0</td>\n",
       "      <td>0</td>\n",
       "      <td>0</td>\n",
       "      <td>0</td>\n",
       "      <td>0</td>\n",
       "      <td>0</td>\n",
       "      <td>0</td>\n",
       "      <td>0</td>\n",
       "      <td>0</td>\n",
       "      <td>0</td>\n",
       "      <td>0</td>\n",
       "      <td>0</td>\n",
       "      <td>0</td>\n",
       "    </tr>\n",
       "    <tr>\n",
       "      <th>2021-12-18 22:33:48.777555</th>\n",
       "      <td>0</td>\n",
       "      <td>0</td>\n",
       "      <td>0</td>\n",
       "      <td>0</td>\n",
       "      <td>0</td>\n",
       "      <td>0</td>\n",
       "      <td>0</td>\n",
       "      <td>0</td>\n",
       "      <td>0</td>\n",
       "      <td>0</td>\n",
       "      <td>0</td>\n",
       "      <td>0</td>\n",
       "      <td>0</td>\n",
       "    </tr>\n",
       "    <tr>\n",
       "      <th>2021-12-18 22:33:49.695432</th>\n",
       "      <td>0</td>\n",
       "      <td>0</td>\n",
       "      <td>0</td>\n",
       "      <td>0</td>\n",
       "      <td>0</td>\n",
       "      <td>0</td>\n",
       "      <td>0</td>\n",
       "      <td>0</td>\n",
       "      <td>0</td>\n",
       "      <td>0</td>\n",
       "      <td>0</td>\n",
       "      <td>0</td>\n",
       "      <td>0</td>\n",
       "    </tr>\n",
       "  </tbody>\n",
       "</table>\n",
       "<p>10800 rows × 13 columns</p>\n",
       "</div>"
      ],
      "text/plain": [
       "                            pm1_0cf1  pm2_5cf1  pm10cf1  pm1_0  pm2_5  pm10  \\\n",
       "datetime                                                                      \n",
       "2021-12-18 19:53:27.899489         0         0        0      0      0     0   \n",
       "2021-12-18 19:53:28.817320         0         0        0      0      0     0   \n",
       "2021-12-18 19:53:29.655135         0         0        0      0      0     0   \n",
       "2021-12-18 19:53:30.573125         0         0        0      0      0     0   \n",
       "2021-12-18 19:53:31.410849         0         0        0      0      0     0   \n",
       "...                              ...       ...      ...    ...    ...   ...   \n",
       "2021-12-18 22:33:46.151964         0         0        0      0      0     0   \n",
       "2021-12-18 22:33:47.005828         0         0        0      0      0     0   \n",
       "2021-12-18 22:33:47.923702         0         0        0      0      0     0   \n",
       "2021-12-18 22:33:48.777555         0         0        0      0      0     0   \n",
       "2021-12-18 22:33:49.695432         0         0        0      0      0     0   \n",
       "\n",
       "                            n0_3  n0_5  n1_0  n2_5  n5_0  n10  sensor_num  \n",
       "datetime                                                                   \n",
       "2021-12-18 19:53:27.899489     3     1     1     1     0    0           0  \n",
       "2021-12-18 19:53:28.817320     3     1     1     1     0    0           0  \n",
       "2021-12-18 19:53:29.655135     3     1     1     1     0    0           0  \n",
       "2021-12-18 19:53:30.573125     6     2     1     1     0    0           0  \n",
       "2021-12-18 19:53:31.410849     6     2     1     1     0    0           0  \n",
       "...                          ...   ...   ...   ...   ...  ...         ...  \n",
       "2021-12-18 22:33:46.151964     0     0     0     0     0    0           0  \n",
       "2021-12-18 22:33:47.005828     0     0     0     0     0    0           0  \n",
       "2021-12-18 22:33:47.923702     0     0     0     0     0    0           0  \n",
       "2021-12-18 22:33:48.777555     0     0     0     0     0    0           0  \n",
       "2021-12-18 22:33:49.695432     0     0     0     0     0    0           0  \n",
       "\n",
       "[10800 rows x 13 columns]"
      ]
     },
     "execution_count": 44,
     "metadata": {},
     "output_type": "execute_result"
    }
   ],
   "source": [
    "particle_counter_data"
   ]
  },
  {
   "cell_type": "code",
   "execution_count": 45,
   "id": "f6cb3b54",
   "metadata": {},
   "outputs": [
    {
     "data": {
      "text/plain": [
       "<AxesSubplot:xlabel='datetime'>"
      ]
     },
     "execution_count": 45,
     "metadata": {},
     "output_type": "execute_result"
    },
    {
     "data": {
      "image/png": "[encoded data removed]",
      "text/plain": [
       "<Figure size 432x288 with 1 Axes>"
      ]
     },
     "metadata": {
      "needs_background": "light"
     },
     "output_type": "display_data"
    }
   ],
   "source": [
    "particle_counter_data['n0_3'].plot()"
   ]
  },
  {
   "cell_type": "code",
   "execution_count": 47,
   "id": "21bf4566",
   "metadata": {},
   "outputs": [
    {
     "data": {
      "text/plain": [
       "<AxesSubplot:xlabel='datetime'>"
      ]
     },
     "execution_count": 47,
     "metadata": {},
     "output_type": "execute_result"
    },
    {
     "data": {
      "image/png": "[encoded data removed]",
      "text/plain": [
       "<Figure size 432x288 with 1 Axes>"
      ]
     },
     "metadata": {
      "needs_background": "light"
     },
     "output_type": "display_data"
    }
   ],
   "source": [
    "particle_counter_data['n0_5'].plot()"
   ]
  },
  {
   "cell_type": "code",
   "execution_count": 48,
   "id": "e3a46657",
   "metadata": {},
   "outputs": [
    {
     "data": {
      "text/plain": [
       "<AxesSubplot:xlabel='datetime'>"
      ]
     },
     "execution_count": 48,
     "metadata": {},
     "output_type": "execute_result"
    },
    {
     "data": {
      "image/png": "[encoded data removed]",
      "text/plain": [
       "<Figure size 432x288 with 1 Axes>"
      ]
     },
     "metadata": {
      "needs_background": "light"
     },
     "output_type": "display_data"
    }
   ],
   "source": [
    "particle_counter_data['n1_0'].plot()"
   ]
  },
  {
   "cell_type": "code",
   "execution_count": 51,
   "id": "15e48b5d",
   "metadata": {},
   "outputs": [
    {
     "data": {
      "text/plain": [
       "<AxesSubplot:xlabel='datetime'>"
      ]
     },
     "execution_count": 51,
     "metadata": {},
     "output_type": "execute_result"
    },
    {
     "data": {
      "image/png": "[encoded data removed]",
      "text/plain": [
       "<Figure size 432x288 with 1 Axes>"
      ]
     },
     "metadata": {
      "needs_background": "light"
     },
     "output_type": "display_data"
    }
   ],
   "source": [
    "particle_counter_data['n2_5'].plot()"
   ]
  },
  {
   "cell_type": "code",
   "execution_count": null,
   "id": "98a70691",
   "metadata": {},
   "outputs": [],
   "source": []
  },
  {
   "cell_type": "code",
   "execution_count": 58,
   "id": "8cd591b5",
   "metadata": {},
   "outputs": [
    {
     "data": {
      "text/plain": [
       "<matplotlib.lines.Line2D at 0x1894ee550>"
      ]
     },
     "execution_count": 58,
     "metadata": {},
     "output_type": "execute_result"
    },
    {
     "data": {
      "image/png": "[encoded data removed]",
      "text/plain": [
       "<Figure size 432x288 with 1 Axes>"
      ]
     },
     "metadata": {
      "needs_background": "light"
     },
     "output_type": "display_data"
    }
   ],
   "source": [
    "fig, ax = plt.subplots()\n",
    "particle_counter_data['pm1_0'].plot(ax=ax)\n",
    "ax.axvline(\"2021-12-18 21:01\", color='r')\n",
    "ax.axvline(\"2021-12-18 22:03\", color='g')\n",
    "ax.axvline(\"2021-12-18 22:33\", color='b')"
   ]
  },
  {
   "cell_type": "code",
   "execution_count": 69,
   "id": "6cc289fa",
   "metadata": {},
   "outputs": [],
   "source": [
    "particle_reset = particle_counter_data.reset_index()"
   ]
  },
  {
   "cell_type": "code",
   "execution_count": 79,
   "id": "dc045c52",
   "metadata": {},
   "outputs": [],
   "source": [
    "def time_at(time_str, df):\n",
    "    time_str_plus_one_second = pd.to_datetime(time_str) + pd.Timedelta('1 second')\n",
    "    \n",
    "    return (df['datetime'] >= time_str) & \\\n",
    "        (df['datetime'] < time_str_plus_one_second)\n",
    "    "
   ]
  },
  {
   "cell_type": "code",
   "execution_count": 76,
   "id": "3a245cee",
   "metadata": {},
   "outputs": [
    {
     "data": {
      "text/plain": [
       "Timestamp('2021-12-18 21:01:01')"
      ]
     },
     "execution_count": 76,
     "metadata": {},
     "output_type": "execute_result"
    }
   ],
   "source": [
    "pd.to_datetime('2021-12-18 21:01:00') + pd.Timedelta('1 second')"
   ]
  },
  {
   "cell_type": "code",
   "execution_count": 86,
   "id": "2a2b6a8b",
   "metadata": {},
   "outputs": [
    {
     "data": {
      "text/html": [
       "<div>\n",
       "<style scoped>\n",
       "    .dataframe tbody tr th:only-of-type {\n",
       "        vertical-align: middle;\n",
       "    }\n",
       "\n",
       "    .dataframe tbody tr th {\n",
       "        vertical-align: top;\n",
       "    }\n",
       "\n",
       "    .dataframe thead th {\n",
       "        text-align: right;\n",
       "    }\n",
       "</style>\n",
       "<table border=\"1\" class=\"dataframe\">\n",
       "  <thead>\n",
       "    <tr style=\"text-align: right;\">\n",
       "      <th></th>\n",
       "      <th>datetime</th>\n",
       "      <th>pm1_0cf1</th>\n",
       "      <th>pm2_5cf1</th>\n",
       "      <th>pm10cf1</th>\n",
       "      <th>pm1_0</th>\n",
       "      <th>pm2_5</th>\n",
       "      <th>pm10</th>\n",
       "      <th>n0_3</th>\n",
       "      <th>n0_5</th>\n",
       "      <th>n1_0</th>\n",
       "      <th>n2_5</th>\n",
       "      <th>n5_0</th>\n",
       "      <th>n10</th>\n",
       "      <th>sensor_num</th>\n",
       "    </tr>\n",
       "  </thead>\n",
       "  <tbody>\n",
       "    <tr>\n",
       "      <th>4737</th>\n",
       "      <td>2021-12-18 21:04:00.179341</td>\n",
       "      <td>47</td>\n",
       "      <td>75</td>\n",
       "      <td>79</td>\n",
       "      <td>37</td>\n",
       "      <td>59</td>\n",
       "      <td>71</td>\n",
       "      <td>5457</td>\n",
       "      <td>1804</td>\n",
       "      <td>426</td>\n",
       "      <td>31</td>\n",
       "      <td>5</td>\n",
       "      <td>2</td>\n",
       "      <td>0</td>\n",
       "    </tr>\n",
       "  </tbody>\n",
       "</table>\n",
       "</div>"
      ],
      "text/plain": [
       "                       datetime  pm1_0cf1  pm2_5cf1  pm10cf1  pm1_0  pm2_5  \\\n",
       "4737 2021-12-18 21:04:00.179341        47        75       79     37     59   \n",
       "\n",
       "      pm10  n0_3  n0_5  n1_0  n2_5  n5_0  n10  sensor_num  \n",
       "4737    71  5457  1804   426    31     5    2           0  "
      ]
     },
     "execution_count": 86,
     "metadata": {},
     "output_type": "execute_result"
    }
   ],
   "source": [
    "particle_reset[\n",
    "    time_at('2021-12-18 21:04:00', df=particle_reset)\n",
    "]"
   ]
  },
  {
   "cell_type": "code",
   "execution_count": 71,
   "id": "582dfdc7",
   "metadata": {},
   "outputs": [
    {
     "data": {
      "text/html": [
       "<div>\n",
       "<style scoped>\n",
       "    .dataframe tbody tr th:only-of-type {\n",
       "        vertical-align: middle;\n",
       "    }\n",
       "\n",
       "    .dataframe tbody tr th {\n",
       "        vertical-align: top;\n",
       "    }\n",
       "\n",
       "    .dataframe thead th {\n",
       "        text-align: right;\n",
       "    }\n",
       "</style>\n",
       "<table border=\"1\" class=\"dataframe\">\n",
       "  <thead>\n",
       "    <tr style=\"text-align: right;\">\n",
       "      <th></th>\n",
       "      <th>datetime</th>\n",
       "      <th>pm1_0cf1</th>\n",
       "      <th>pm2_5cf1</th>\n",
       "      <th>pm10cf1</th>\n",
       "      <th>pm1_0</th>\n",
       "      <th>pm2_5</th>\n",
       "      <th>pm10</th>\n",
       "      <th>n0_3</th>\n",
       "      <th>n0_5</th>\n",
       "      <th>n1_0</th>\n",
       "      <th>n2_5</th>\n",
       "      <th>n5_0</th>\n",
       "      <th>n10</th>\n",
       "      <th>sensor_num</th>\n",
       "    </tr>\n",
       "  </thead>\n",
       "  <tbody>\n",
       "    <tr>\n",
       "      <th>4537</th>\n",
       "      <td>2021-12-18 21:01:00.717187</td>\n",
       "      <td>52</td>\n",
       "      <td>84</td>\n",
       "      <td>87</td>\n",
       "      <td>40</td>\n",
       "      <td>63</td>\n",
       "      <td>76</td>\n",
       "      <td>6219</td>\n",
       "      <td>1969</td>\n",
       "      <td>478</td>\n",
       "      <td>40</td>\n",
       "      <td>3</td>\n",
       "      <td>1</td>\n",
       "      <td>0</td>\n",
       "    </tr>\n",
       "    <tr>\n",
       "      <th>4538</th>\n",
       "      <td>2021-12-18 21:01:01.619060</td>\n",
       "      <td>52</td>\n",
       "      <td>86</td>\n",
       "      <td>90</td>\n",
       "      <td>40</td>\n",
       "      <td>63</td>\n",
       "      <td>78</td>\n",
       "      <td>6234</td>\n",
       "      <td>1969</td>\n",
       "      <td>516</td>\n",
       "      <td>46</td>\n",
       "      <td>4</td>\n",
       "      <td>2</td>\n",
       "      <td>0</td>\n",
       "    </tr>\n",
       "    <tr>\n",
       "      <th>4539</th>\n",
       "      <td>2021-12-18 21:01:02.537044</td>\n",
       "      <td>52</td>\n",
       "      <td>84</td>\n",
       "      <td>90</td>\n",
       "      <td>40</td>\n",
       "      <td>63</td>\n",
       "      <td>78</td>\n",
       "      <td>6195</td>\n",
       "      <td>1957</td>\n",
       "      <td>527</td>\n",
       "      <td>42</td>\n",
       "      <td>4</td>\n",
       "      <td>2</td>\n",
       "      <td>0</td>\n",
       "    </tr>\n",
       "    <tr>\n",
       "      <th>4540</th>\n",
       "      <td>2021-12-18 21:01:03.438805</td>\n",
       "      <td>53</td>\n",
       "      <td>86</td>\n",
       "      <td>88</td>\n",
       "      <td>40</td>\n",
       "      <td>63</td>\n",
       "      <td>76</td>\n",
       "      <td>6354</td>\n",
       "      <td>1984</td>\n",
       "      <td>516</td>\n",
       "      <td>38</td>\n",
       "      <td>3</td>\n",
       "      <td>2</td>\n",
       "      <td>0</td>\n",
       "    </tr>\n",
       "    <tr>\n",
       "      <th>4541</th>\n",
       "      <td>2021-12-18 21:01:04.340676</td>\n",
       "      <td>55</td>\n",
       "      <td>86</td>\n",
       "      <td>88</td>\n",
       "      <td>41</td>\n",
       "      <td>63</td>\n",
       "      <td>76</td>\n",
       "      <td>6426</td>\n",
       "      <td>2009</td>\n",
       "      <td>514</td>\n",
       "      <td>34</td>\n",
       "      <td>3</td>\n",
       "      <td>2</td>\n",
       "      <td>0</td>\n",
       "    </tr>\n",
       "    <tr>\n",
       "      <th>...</th>\n",
       "      <td>...</td>\n",
       "      <td>...</td>\n",
       "      <td>...</td>\n",
       "      <td>...</td>\n",
       "      <td>...</td>\n",
       "      <td>...</td>\n",
       "      <td>...</td>\n",
       "      <td>...</td>\n",
       "      <td>...</td>\n",
       "      <td>...</td>\n",
       "      <td>...</td>\n",
       "      <td>...</td>\n",
       "      <td>...</td>\n",
       "      <td>...</td>\n",
       "    </tr>\n",
       "    <tr>\n",
       "      <th>10795</th>\n",
       "      <td>2021-12-18 22:33:46.151964</td>\n",
       "      <td>0</td>\n",
       "      <td>0</td>\n",
       "      <td>0</td>\n",
       "      <td>0</td>\n",
       "      <td>0</td>\n",
       "      <td>0</td>\n",
       "      <td>0</td>\n",
       "      <td>0</td>\n",
       "      <td>0</td>\n",
       "      <td>0</td>\n",
       "      <td>0</td>\n",
       "      <td>0</td>\n",
       "      <td>0</td>\n",
       "    </tr>\n",
       "    <tr>\n",
       "      <th>10796</th>\n",
       "      <td>2021-12-18 22:33:47.005828</td>\n",
       "      <td>0</td>\n",
       "      <td>0</td>\n",
       "      <td>0</td>\n",
       "      <td>0</td>\n",
       "      <td>0</td>\n",
       "      <td>0</td>\n",
       "      <td>0</td>\n",
       "      <td>0</td>\n",
       "      <td>0</td>\n",
       "      <td>0</td>\n",
       "      <td>0</td>\n",
       "      <td>0</td>\n",
       "      <td>0</td>\n",
       "    </tr>\n",
       "    <tr>\n",
       "      <th>10797</th>\n",
       "      <td>2021-12-18 22:33:47.923702</td>\n",
       "      <td>0</td>\n",
       "      <td>0</td>\n",
       "      <td>0</td>\n",
       "      <td>0</td>\n",
       "      <td>0</td>\n",
       "      <td>0</td>\n",
       "      <td>0</td>\n",
       "      <td>0</td>\n",
       "      <td>0</td>\n",
       "      <td>0</td>\n",
       "      <td>0</td>\n",
       "      <td>0</td>\n",
       "      <td>0</td>\n",
       "    </tr>\n",
       "    <tr>\n",
       "      <th>10798</th>\n",
       "      <td>2021-12-18 22:33:48.777555</td>\n",
       "      <td>0</td>\n",
       "      <td>0</td>\n",
       "      <td>0</td>\n",
       "      <td>0</td>\n",
       "      <td>0</td>\n",
       "      <td>0</td>\n",
       "      <td>0</td>\n",
       "      <td>0</td>\n",
       "      <td>0</td>\n",
       "      <td>0</td>\n",
       "      <td>0</td>\n",
       "      <td>0</td>\n",
       "      <td>0</td>\n",
       "    </tr>\n",
       "    <tr>\n",
       "      <th>10799</th>\n",
       "      <td>2021-12-18 22:33:49.695432</td>\n",
       "      <td>0</td>\n",
       "      <td>0</td>\n",
       "      <td>0</td>\n",
       "      <td>0</td>\n",
       "      <td>0</td>\n",
       "      <td>0</td>\n",
       "      <td>0</td>\n",
       "      <td>0</td>\n",
       "      <td>0</td>\n",
       "      <td>0</td>\n",
       "      <td>0</td>\n",
       "      <td>0</td>\n",
       "      <td>0</td>\n",
       "    </tr>\n",
       "  </tbody>\n",
       "</table>\n",
       "<p>6263 rows × 14 columns</p>\n",
       "</div>"
      ],
      "text/plain": [
       "                        datetime  pm1_0cf1  pm2_5cf1  pm10cf1  pm1_0  pm2_5  \\\n",
       "4537  2021-12-18 21:01:00.717187        52        84       87     40     63   \n",
       "4538  2021-12-18 21:01:01.619060        52        86       90     40     63   \n",
       "4539  2021-12-18 21:01:02.537044        52        84       90     40     63   \n",
       "4540  2021-12-18 21:01:03.438805        53        86       88     40     63   \n",
       "4541  2021-12-18 21:01:04.340676        55        86       88     41     63   \n",
       "...                          ...       ...       ...      ...    ...    ...   \n",
       "10795 2021-12-18 22:33:46.151964         0         0        0      0      0   \n",
       "10796 2021-12-18 22:33:47.005828         0         0        0      0      0   \n",
       "10797 2021-12-18 22:33:47.923702         0         0        0      0      0   \n",
       "10798 2021-12-18 22:33:48.777555         0         0        0      0      0   \n",
       "10799 2021-12-18 22:33:49.695432         0         0        0      0      0   \n",
       "\n",
       "       pm10  n0_3  n0_5  n1_0  n2_5  n5_0  n10  sensor_num  \n",
       "4537     76  6219  1969   478    40     3    1           0  \n",
       "4538     78  6234  1969   516    46     4    2           0  \n",
       "4539     78  6195  1957   527    42     4    2           0  \n",
       "4540     76  6354  1984   516    38     3    2           0  \n",
       "4541     76  6426  2009   514    34     3    2           0  \n",
       "...     ...   ...   ...   ...   ...   ...  ...         ...  \n",
       "10795     0     0     0     0     0     0    0           0  \n",
       "10796     0     0     0     0     0     0    0           0  \n",
       "10797     0     0     0     0     0     0    0           0  \n",
       "10798     0     0     0     0     0     0    0           0  \n",
       "10799     0     0     0     0     0     0    0           0  \n",
       "\n",
       "[6263 rows x 14 columns]"
      ]
     },
     "execution_count": 71,
     "metadata": {},
     "output_type": "execute_result"
    }
   ],
   "source": [
    "particle_reset[particle_reset['datetime'] > '2021-12-18 21:01']"
   ]
  },
  {
   "cell_type": "code",
   "execution_count": 61,
   "id": "581064b3",
   "metadata": {},
   "outputs": [
    {
     "data": {
      "text/plain": [
       "datetime\n",
       "2021-12-18 19:53:27.899489    0\n",
       "2021-12-18 19:53:28.817320    0\n",
       "2021-12-18 19:53:29.655135    0\n",
       "2021-12-18 19:53:30.573125    0\n",
       "2021-12-18 19:53:31.410849    0\n",
       "                             ..\n",
       "2021-12-18 22:33:46.151964    0\n",
       "2021-12-18 22:33:47.005828    0\n",
       "2021-12-18 22:33:47.923702    0\n",
       "2021-12-18 22:33:48.777555    0\n",
       "2021-12-18 22:33:49.695432    0\n",
       "Name: pm1_0, Length: 10800, dtype: int64"
      ]
     },
     "execution_count": 61,
     "metadata": {},
     "output_type": "execute_result"
    }
   ],
   "source": [
    "particle_counter_data['pm1_0']"
   ]
  },
  {
   "cell_type": "code",
   "execution_count": 67,
   "id": "70bb289d",
   "metadata": {},
   "outputs": [
    {
     "data": {
      "text/plain": [
       "189.47368421052633"
      ]
     },
     "execution_count": 67,
     "metadata": {},
     "output_type": "execute_result"
    }
   ],
   "source": [
    "720/3.8"
   ]
  },
  {
   "cell_type": "code",
   "execution_count": 65,
   "id": "41529985",
   "metadata": {
    "scrolled": false
   },
   "outputs": [
    {
     "data": {
      "text/plain": [
       "-0.07569058622018243"
      ]
     },
     "execution_count": 65,
     "metadata": {},
     "output_type": "execute_result"
    }
   ],
   "source": [
    "1.0 - np.exp((720.0 / (3.8 * 3600)) * np.log(4)) "
   ]
  },
  {
   "cell_type": "code",
   "execution_count": 66,
   "id": "e19ce083",
   "metadata": {},
   "outputs": [
    {
     "data": {
      "text/plain": [
       "1.083480390254976"
      ]
     },
     "execution_count": 66,
     "metadata": {},
     "output_type": "execute_result"
    }
   ],
   "source": [
    " ((720.0 / 180) * np.log(1.0/9)) / np.log(0.0003)"
   ]
  },
  {
   "cell_type": "code",
   "execution_count": 87,
   "id": "dc36825e",
   "metadata": {},
   "outputs": [
    {
     "data": {
      "text/plain": [
       "0.6170071333491278"
      ]
     },
     "execution_count": 87,
     "metadata": {},
     "output_type": "execute_result"
    }
   ],
   "source": [
    "1 - np.exp(1215.0 / (233.0 * 30.0) * np.log(1-0.996))"
   ]
  },
  {
   "cell_type": "code",
   "execution_count": 89,
   "id": "a59047a4",
   "metadata": {},
   "outputs": [
    {
     "data": {
      "text/plain": [
       "0.07602513137100067"
      ]
     },
     "execution_count": 89,
     "metadata": {},
     "output_type": "execute_result"
    }
   ],
   "source": [
    "(720.0 / (3600.0 * 3.8)) * np.log(1.0/4) / np.log(1-0.617)"
   ]
  },
  {
   "cell_type": "code",
   "execution_count": 90,
   "id": "22588a80",
   "metadata": {},
   "outputs": [
    {
     "data": {
      "text/plain": [
       "0.36791758646063283"
      ]
     },
     "execution_count": 90,
     "metadata": {},
     "output_type": "execute_result"
    }
   ],
   "source": [
    "1.0 / 2.718"
   ]
  },
  {
   "cell_type": "code",
   "execution_count": 91,
   "id": "85368835",
   "metadata": {},
   "outputs": [
    {
     "data": {
      "text/plain": [
       "1.8751412236067268e-165"
      ]
     },
     "execution_count": 91,
     "metadata": {},
     "output_type": "execute_result"
    }
   ],
   "source": [
    "0.9**3600"
   ]
  },
  {
   "cell_type": "code",
   "execution_count": 93,
   "id": "848d030c",
   "metadata": {},
   "outputs": [
    {
     "data": {
      "text/plain": [
       "1.8751412236327937e-165"
      ]
     },
     "execution_count": 93,
     "metadata": {},
     "output_type": "execute_result"
    }
   ],
   "source": [
    "np.exp(sum([np.log(0.9) for i in range(3600)]))"
   ]
  },
  {
   "cell_type": "code",
   "execution_count": 94,
   "id": "ea2bb6d2",
   "metadata": {},
   "outputs": [],
   "source": [
    "def pm_actual(\n",
    "    last_value,\n",
    "    filtration_eff,\n",
    "    decay,\n",
    "    air_delivery_rate,\n",
    "    room_volume,\n",
    "):\n",
    "    power = filtration_eff * air_delivery_rate / room_volume \n",
    "    return last_value * (1.0 - decay) ** power"
   ]
  },
  {
   "cell_type": "code",
   "execution_count": 97,
   "id": "03e02681",
   "metadata": {},
   "outputs": [],
   "source": [
    "def apply_recursive_pm(\n",
    "    start_pm=100,\n",
    "    filtration_eff=0.07,\n",
    "    decay=0.617,\n",
    "    air_delivery_rate=3.7,\n",
    "    room_volume=720\n",
    "):\n",
    "\n",
    "    collection = [start_pm]\n",
    "\n",
    "    for i in range(3599):\n",
    "\n",
    "        new_value = pm_actual(\n",
    "            last_value=collection[i],\n",
    "            filtration_eff=filtration_eff,\n",
    "            decay=decay,\n",
    "            air_delivery_rate=air_delivery_rate,\n",
    "            room_volume=room_volume,\n",
    "        )\n",
    "\n",
    "        collection.append(new_value)\n",
    "    \n",
    "    return pd.Series(collection)"
   ]
  },
  {
   "cell_type": "code",
   "execution_count": 186,
   "id": "51fc331a",
   "metadata": {},
   "outputs": [],
   "source": [
    "collection = apply_recursive_pm(\n",
    "    start_pm=40,\n",
    "    filtration_eff=0.08,\n",
    "    decay=0.617,\n",
    "    air_delivery_rate=3.7,\n",
    "    room_volume=720\n",
    ")"
   ]
  },
  {
   "cell_type": "code",
   "execution_count": 187,
   "id": "1b465949",
   "metadata": {},
   "outputs": [],
   "source": [
    "pm_readings = particle_counter_data.reset_index()\n"
   ]
  },
  {
   "cell_type": "code",
   "execution_count": 188,
   "id": "b2a2b968",
   "metadata": {},
   "outputs": [],
   "source": [
    "microfiber = pm_readings[\n",
    "    (pm_readings['datetime'] > '2021-12-18 21:01') & \n",
    "    (pm_readings['datetime'] <= '2021-12-18 22:01')\n",
    "]"
   ]
  },
  {
   "cell_type": "code",
   "execution_count": 189,
   "id": "ac764917",
   "metadata": {},
   "outputs": [
    {
     "data": {
      "text/plain": [
       "4537    21\n",
       "4538    21\n",
       "4539    21\n",
       "4540    21\n",
       "4541    21\n",
       "        ..\n",
       "8567    22\n",
       "8568    22\n",
       "8569    22\n",
       "8570    22\n",
       "8571    22\n",
       "Name: datetime, Length: 4035, dtype: int64"
      ]
     },
     "execution_count": 189,
     "metadata": {},
     "output_type": "execute_result"
    }
   ],
   "source": [
    "microfiber['datetime'].dt.hour"
   ]
  },
  {
   "cell_type": "code",
   "execution_count": 190,
   "id": "58104ed3",
   "metadata": {
    "scrolled": false
   },
   "outputs": [
    {
     "name": "stderr",
     "output_type": "stream",
     "text": [
      "/Users/eugaddan/miniconda3/envs/linx_dev_env/lib/python3.9/site-packages/pandas/core/indexing.py:1667: SettingWithCopyWarning: \n",
      "A value is trying to be set on a copy of a slice from a DataFrame.\n",
      "Try using .loc[row_indexer,col_indexer] = value instead\n",
      "\n",
      "See the caveats in the documentation: https://pandas.pydata.org/pandas-docs/stable/user_guide/indexing.html#returning-a-view-versus-a-copy\n",
      "  self.obj[key] = value\n"
     ]
    }
   ],
   "source": [
    "microfiber.loc[:, 'rank'] = microfiber.groupby(\n",
    "    [\n",
    "        microfiber['datetime'].dt.hour,\n",
    "        microfiber['datetime'].dt.minute,\n",
    "        microfiber['datetime'].dt.second\n",
    "    ]\n",
    ")['datetime'].transform('rank').copy()"
   ]
  },
  {
   "cell_type": "code",
   "execution_count": 191,
   "id": "baf8291d",
   "metadata": {},
   "outputs": [],
   "source": [
    "only_one_reading = microfiber[microfiber['rank'] == 1].reset_index()"
   ]
  },
  {
   "cell_type": "code",
   "execution_count": 192,
   "id": "f4d6e617",
   "metadata": {},
   "outputs": [
    {
     "data": {
      "text/plain": [
       "<AxesSubplot:>"
      ]
     },
     "execution_count": 192,
     "metadata": {},
     "output_type": "execute_result"
    },
    {
     "data": {
      "image/png": "[encoded data removed]",
      "text/plain": [
       "<Figure size 432x288 with 1 Axes>"
      ]
     },
     "metadata": {
      "needs_background": "light"
     },
     "output_type": "display_data"
    }
   ],
   "source": [
    "only_one_reading['pm1_0'].plot()"
   ]
  },
  {
   "cell_type": "code",
   "execution_count": 193,
   "id": "0dcb2f1a",
   "metadata": {},
   "outputs": [
    {
     "data": {
      "text/plain": [
       "<AxesSubplot:>"
      ]
     },
     "execution_count": 193,
     "metadata": {},
     "output_type": "execute_result"
    },
    {
     "data": {
      "image/png": "[encoded data removed]",
      "text/plain": [
       "<Figure size 432x288 with 1 Axes>"
      ]
     },
     "metadata": {
      "needs_background": "light"
     },
     "output_type": "display_data"
    }
   ],
   "source": [
    "fig, ax = plt.subplots()\n",
    "collection.plot(ax=ax)\n",
    "only_one_reading['pm1_0'].plot(ax=ax, color='r')\n",
    "\n"
   ]
  },
  {
   "cell_type": "code",
   "execution_count": 52,
   "id": "98cb448b",
   "metadata": {
    "scrolled": false
   },
   "outputs": [
    {
     "data": {
      "text/plain": [
       "<AxesSubplot:xlabel='datetime'>"
      ]
     },
     "execution_count": 52,
     "metadata": {},
     "output_type": "execute_result"
    },
    {
     "data": {
      "image/png": "[encoded data removed]",
      "text/plain": [
       "<Figure size 432x288 with 1 Axes>"
      ]
     },
     "metadata": {
      "needs_background": "light"
     },
     "output_type": "display_data"
    }
   ],
   "source": [
    "particle_counter_data['pm1_0'].plot()"
   ]
  },
  {
   "cell_type": "code",
   "execution_count": 53,
   "id": "b8298530",
   "metadata": {},
   "outputs": [
    {
     "data": {
      "text/plain": [
       "<AxesSubplot:xlabel='datetime'>"
      ]
     },
     "execution_count": 53,
     "metadata": {},
     "output_type": "execute_result"
    },
    {
     "data": {
      "image/png": "[encoded data removed]",
      "text/plain": [
       "<Figure size 432x288 with 1 Axes>"
      ]
     },
     "metadata": {
      "needs_background": "light"
     },
     "output_type": "display_data"
    }
   ],
   "source": [
    "particle_counter_data['pm2_5'].plot()"
   ]
  },
  {
   "cell_type": "code",
   "execution_count": 54,
   "id": "2d88f103",
   "metadata": {},
   "outputs": [
    {
     "data": {
      "text/plain": [
       "<AxesSubplot:xlabel='datetime'>"
      ]
     },
     "execution_count": 54,
     "metadata": {},
     "output_type": "execute_result"
    },
    {
     "data": {
      "image/png": "[encoded data removed]",
      "text/plain": [
       "<Figure size 432x288 with 1 Axes>"
      ]
     },
     "metadata": {
      "needs_background": "light"
     },
     "output_type": "display_data"
    }
   ],
   "source": [
    "particle_counter_data['pm10'].plot()"
   ]
  },
  {
   "cell_type": "code",
   "execution_count": 50,
   "id": "d549ccb0",
   "metadata": {},
   "outputs": [
    {
     "data": {
      "text/plain": [
       "<AxesSubplot:xlabel='datetime'>"
      ]
     },
     "execution_count": 50,
     "metadata": {},
     "output_type": "execute_result"
    },
    {
     "data": {
      "image/png": "[encoded data removed]",
      "text/plain": [
       "<Figure size 432x288 with 1 Axes>"
      ]
     },
     "metadata": {
      "needs_background": "light"
     },
     "output_type": "display_data"
    }
   ],
   "source": [
    "particle_counter_data['n5_0'].plot()"
   ]
  },
  {
   "cell_type": "code",
   "execution_count": 49,
   "id": "1ff3d430",
   "metadata": {},
   "outputs": [
    {
     "data": {
      "text/plain": [
       "<AxesSubplot:xlabel='datetime'>"
      ]
     },
     "execution_count": 49,
     "metadata": {},
     "output_type": "execute_result"
    },
    {
     "data": {
      "image/png": "[encoded data removed]",
      "text/plain": [
       "<Figure size 432x288 with 1 Axes>"
      ]
     },
     "metadata": {
      "needs_background": "light"
     },
     "output_type": "display_data"
    }
   ],
   "source": [
    "particle_counter_data['n2_5'].plot()"
   ]
  },
  {
   "cell_type": "code",
   "execution_count": 133,
   "id": "99a1eaa5",
   "metadata": {},
   "outputs": [],
   "source": [
    "total_area = np.pi * ((5.5+8)/(2* 12))**2\n",
    "no_airflow_area = np.pi * (5.5/(12 * 2))**2\n",
    "\n",
    "avg_mps = anemometer_readings['reading'].mean()\n",
    "avg_fps = avg_mps * 3.28\n",
    "airflow_estimate = (total_area - no_airflow_area) * avg_fps"
   ]
  },
  {
   "cell_type": "code",
   "execution_count": 136,
   "id": "a77be759",
   "metadata": {},
   "outputs": [
    {
     "data": {
      "text/plain": [
       "(3.8297710237678957, 4.010655219682763)"
      ]
     },
     "execution_count": 136,
     "metadata": {},
     "output_type": "execute_result"
    }
   ],
   "source": [
    "se = anemometer_readings['reading'].std() / np.sqrt(anemometer_readings.shape[0])\n",
    "(airflow_estimate - se, airflow_estimate + se)"
   ]
  },
  {
   "cell_type": "code",
   "execution_count": 81,
   "id": "5a3f43f0",
   "metadata": {},
   "outputs": [
    {
     "data": {
      "text/plain": [
       "0.33406692713953967"
      ]
     },
     "execution_count": 81,
     "metadata": {},
     "output_type": "execute_result"
    }
   ],
   "source": [
    "total_area - no_airflow_area"
   ]
  },
  {
   "cell_type": "markdown",
   "id": "fe7fae7c",
   "metadata": {},
   "source": [
    "## Calculate Air Delivery Rate of Coway AP-1512HH"
   ]
  },
  {
   "cell_type": "code",
   "execution_count": null,
   "id": "8c463d58",
   "metadata": {},
   "outputs": [],
   "source": [
    "pd.DataFrame(\n",
    ")"
   ]
  },
  {
   "cell_type": "code",
   "execution_count": 9,
   "id": "eb6f15c6",
   "metadata": {},
   "outputs": [],
   "source": [
    "def cubic_feet_per_second(fs_of_layers, surface_areas_of_layers):\n",
    "    \"\"\"\n",
    "    Parameters:\n",
    "        fs_of_layers: np.array[float]\n",
    "            Rate of airflow of each layer (Feet per second)\n",
    "        surface_areas_of_layers: np.array[float]\n",
    "            Surface area of each layer (Square feet)\n",
    "            \n",
    "    Returns: float\n",
    "    \"\"\"\n",
    "    \n",
    "    return (fs_of_layers * surface_areas_of_layers).sum()"
   ]
  },
  {
   "cell_type": "code",
   "execution_count": 10,
   "id": "52ceae93",
   "metadata": {},
   "outputs": [
    {
     "data": {
      "text/plain": [
       "1.2"
      ]
     },
     "execution_count": 10,
     "metadata": {},
     "output_type": "execute_result"
    }
   ],
   "source": [
    "round(1.2345,1)"
   ]
  },
  {
   "cell_type": "code",
   "execution_count": 11,
   "id": "9340afb7",
   "metadata": {},
   "outputs": [],
   "source": [
    "# def create_airflow_rate_table():\n",
    "#     collection = []\n",
    "          \n",
    "#     surface_areas_of_layers = [\n",
    "#         surface_area_of_layer_in_sq_ft(i) for i in range(5)\n",
    "#     ]\n",
    "    \n",
    "    \n",
    "#     for layer_0_fs in np.arange(0, 15, 0.1):\n",
    "#         layer_0_fs = round(layer_0_fs, 2)\n",
    "        \n",
    "#         for layer_1_fs in np.arange(0, 15, 0.1):\n",
    "#             layer_1_fs = round(layer_1_fs, 2)\n",
    "            \n",
    "#             for layer_2_fs in np.arange(0, 15, 0.1):\n",
    "#                 layer_2_fs = round(layer_2_fs, 2)\n",
    "                \n",
    "#                 for layer_3_fs in np.arange(0, 15, 0.1):\n",
    "#                     layer_3_fs = round(layer_3_fs, 2)\n",
    "                    \n",
    "#                     for layer_4_fs in np.arange(0, 15, 0.1):\n",
    "#                         layer_4_fs = round(layer_4_fs, 2)\n",
    "                        \n",
    "#                         fs_of_layers = np.array([\n",
    "#                             layer_0_fs,\n",
    "#                             layer_1_fs,\n",
    "#                             layer_2_fs,\n",
    "#                             layer_3_fs,\n",
    "#                             layer_4_fs\n",
    "#                         ])\n",
    "                        \n",
    "#                         cfs = cubic_feet_per_second(\n",
    "#                             fs_of_layers, \n",
    "#                             surface_areas_of_layers\n",
    "#                         )\n",
    "\n",
    "#                         for layer, fs in enumerate(fs_of_layers):\n",
    "#                             dictionary['flayer {layer} feet per second'] = fs\n",
    "                            \n",
    "#                         dictionary['cubic feet per second'] = round(cfs, 1)\n",
    "#                         dictionary['value'] = 1\n",
    "                        \n",
    "#                         collection.append(dictionary)\n",
    "                        \n",
    "#                         for i in np.arange(0, 15, 0.1):\n",
    "                        \n",
    "                        \n",
    "\n",
    "#     cfs = cubic_feet_per_second(\n",
    "#         fs_of_layers, \n",
    "#         surface_areas_of_layers\n",
    "#     )\n",
    "    \n",
    "#     dictionary['airflow'] = cfs"
   ]
  },
  {
   "cell_type": "code",
   "execution_count": 12,
   "id": "b4a694f1",
   "metadata": {},
   "outputs": [],
   "source": [
    "def least_significant_digit_power(num_string):\n",
    "    if '.' in num_string:\n",
    "        # There's a decimal point. Figure out how many digits are to the right\n",
    "        # of the decimal point and negate that.\n",
    "        return len(num_string.partition('.')[2])\n",
    "    else:\n",
    "        # No decimal point. Count trailing zeros.\n",
    "        return len(num_string) - len(num_string.rstrip('0'))"
   ]
  },
  {
   "cell_type": "code",
   "execution_count": 13,
   "id": "5efdfbd0",
   "metadata": {},
   "outputs": [
    {
     "data": {
      "text/plain": [
       "6"
      ]
     },
     "execution_count": 13,
     "metadata": {},
     "output_type": "execute_result"
    }
   ],
   "source": [
    "least_significant_digit_power(\"0.123456\")"
   ]
  },
  {
   "cell_type": "code",
   "execution_count": 156,
   "id": "3c74a731",
   "metadata": {},
   "outputs": [],
   "source": [
    "def accuracy(mps):\n",
    "    \"\"\"\n",
    "    Parameters:\n",
    "        Reading in meters per second (m/s)\n",
    "    \"\"\"\n",
    "    \n",
    "    # m / s * 3.28084 ft / m\n",
    "    #mps = reading * 3.28084\n",
    "    val_1 = 0.03 * mps\n",
    "    val_2 = mps - int(mps)\n",
    "    # 20 ft/min * 1 min / 60 sec = 0.33 ft / sec\n",
    "    val_3 = 0.33\n",
    "    \n",
    "    return max(val_1, val_2, val_3)\n",
    "    \n",
    "    "
   ]
  },
  {
   "cell_type": "code",
   "execution_count": 161,
   "id": "33c8aca6",
   "metadata": {},
   "outputs": [
    {
     "data": {
      "text/plain": [
       "<AxesSubplot:>"
      ]
     },
     "execution_count": 161,
     "metadata": {},
     "output_type": "execute_result"
    },
    {
     "data": {
      "image/png": "[encoded data removed]",
      "text/plain": [
       "<Figure size 432x288 with 1 Axes>"
      ]
     },
     "metadata": {
      "needs_background": "light"
     },
     "output_type": "display_data"
    }
   ],
   "source": [
    "pd.Series(np.random.normal(10, 0.1, size=10000)).hist(bins=100)"
   ]
  },
  {
   "cell_type": "code",
   "execution_count": 176,
   "id": "26a8dce2",
   "metadata": {},
   "outputs": [],
   "source": [
    "def meters_to_feet(meters):\n",
    "    return meters * 3.280 # feet per meter"
   ]
  },
  {
   "cell_type": "code",
   "execution_count": 180,
   "id": "0b5e5666",
   "metadata": {},
   "outputs": [],
   "source": [
    "def inches_to_feet(inches):\n",
    "    return inches / 12.0"
   ]
  },
  {
   "cell_type": "code",
   "execution_count": 194,
   "id": "cae46704",
   "metadata": {},
   "outputs": [],
   "source": [
    "coway_mps = pd.DataFrame(\n",
    "    [\n",
    "        {'x': 0, 'y': 0, \"measured_mps\": 10.5},\n",
    "        {'x': 0, 'y': 1, \"measured_mps\": 10.4},\n",
    "        {'x': 0, 'y': 2, \"measured_mps\": 8.4},\n",
    "        {'x': 1, 'y': 0, \"measured_mps\": 9.8},\n",
    "        {'x': 1, 'y': 1, \"measured_mps\": 11.8},\n",
    "        {'x': 1, 'y': 2, \"measured_mps\": 10.1},\n",
    "        {'x': 2, 'y': 0, \"measured_mps\": 8.6},\n",
    "        {'x': 2, 'y': 1, \"measured_mps\": 9.8},\n",
    "        {'x': 2, 'y': 2, \"measured_mps\": 8.6},\n",
    "        {'x': 3, 'y': 0, \"measured_mps\": 8.6},\n",
    "        {'x': 3, 'y': 1, \"measured_mps\": 10.1},\n",
    "        {'x': 3, 'y': 2, \"measured_mps\": 8.6},\n",
    "    ]\n",
    ")\n",
    "\n",
    "\n",
    "def compute_cfps_rectangular_air_cleaner(\n",
    "    num_sub_sections = coway_mps.shape[0],\n",
    "    width_in=4.75,\n",
    "    height_in=3.75,\n",
    "    num_sims=10000\n",
    "):\n",
    "    \"\"\"\n",
    "    Parameters:\n",
    "        num_sub_sections: integer\n",
    "            Number of sub-sections in the rectangular area.\n",
    "        total_area: float\n",
    "            Total area in square inches.\n",
    "        num_sims: integer\n",
    "            Number of simulations\n",
    "    \"\"\"\n",
    "    total = np.zeros(num_sims)\n",
    "    sub_area = inches_to_feet(width_in) * inches_to_feet(height_in) / num_sub_sections\n",
    "\n",
    "    for i, row in coway_mps.iterrows():\n",
    "        total += np.random.normal(\n",
    "            meters_to_feet(row['measured_mps']),\n",
    "            0.1,\n",
    "            size=num_sims\n",
    "        ) * sub_area\n",
    "\n",
    "    return pd.Series(total)\n"
   ]
  },
  {
   "cell_type": "code",
   "execution_count": 197,
   "id": "77e3b5a9",
   "metadata": {},
   "outputs": [],
   "source": [
    "coway_cfps = compute_cfps_rectangular_air_cleaner(\n",
    "    num_sub_sections = coway_mps.shape[0],\n",
    "    width_in=4.75,\n",
    "    height_in=3.75,\n",
    ")"
   ]
  },
  {
   "cell_type": "code",
   "execution_count": 204,
   "id": "6375bf07",
   "metadata": {},
   "outputs": [
    {
     "data": {
      "text/plain": [
       "Text(0.5, 0, 'Cubic Feet per Second')"
      ]
     },
     "execution_count": 204,
     "metadata": {},
     "output_type": "execute_result"
    },
    {
     "data": {
      "image/png": "[encoded data removed]",
      "text/plain": [
       "<Figure size 432x288 with 1 Axes>"
      ]
     },
     "metadata": {
      "needs_background": "light"
     },
     "output_type": "display_data"
    }
   ],
   "source": [
    "fig, ax = plt.subplots()\n",
    "coway_cfps.plot.hist(\n",
    "    bins=100,\n",
    "    ax=ax\n",
    ")\n",
    "ax.set_title(\"Coway AP-1512HH Air Delivery Rate\")\n",
    "ax.set_xlabel(\"Cubic Feet per Second\")"
   ]
  },
  {
   "cell_type": "markdown",
   "id": "0a081de8",
   "metadata": {},
   "source": [
    "This aligns with the manufacturer's claim that this is good for 360 sq. ft (to get 4 ACH):"
   ]
  },
  {
   "cell_type": "code",
   "execution_count": 205,
   "id": "3ee7ec8a",
   "metadata": {},
   "outputs": [
    {
     "data": {
      "text/plain": [
       "0       3.898472\n",
       "1       3.897205\n",
       "2       3.893967\n",
       "3       3.899842\n",
       "4       3.902866\n",
       "          ...   \n",
       "9995    3.897843\n",
       "9996    3.900049\n",
       "9997    3.903952\n",
       "9998    3.898362\n",
       "9999    3.905203\n",
       "Length: 10000, dtype: float64"
      ]
     },
     "execution_count": 205,
     "metadata": {},
     "output_type": "execute_result"
    }
   ],
   "source": [
    "\n",
    "coway_cfps * 3600 / (360 * 10)"
   ]
  },
  {
   "cell_type": "code",
   "execution_count": 206,
   "id": "a62acd64",
   "metadata": {},
   "outputs": [
    {
     "data": {
      "text/plain": [
       "0       233.908311\n",
       "1       233.832312\n",
       "2       233.638049\n",
       "3       233.990527\n",
       "4       234.171938\n",
       "           ...    \n",
       "9995    233.870588\n",
       "9996    234.002930\n",
       "9997    234.237136\n",
       "9998    233.901747\n",
       "9999    234.312163\n",
       "Length: 10000, dtype: float64"
      ]
     },
     "execution_count": 206,
     "metadata": {},
     "output_type": "execute_result"
    }
   ],
   "source": [
    "coway_cfps * 60"
   ]
  },
  {
   "cell_type": "code",
   "execution_count": 15,
   "id": "28c5291f",
   "metadata": {
    "scrolled": true
   },
   "outputs": [
    {
     "name": "stderr",
     "output_type": "stream",
     "text": [
      "/Users/eugaddan/miniconda3/envs/linx_dev_env/lib/python3.9/site-packages/pandas/io/formats/format.py:1429: FutureWarning: Index.ravel returning ndarray is deprecated; in a future version this will return a view on self.\n",
      "  for val, m in zip(values.ravel(), mask.ravel())\n"
     ]
    },
    {
     "data": {
      "text/plain": [
       "[0.0, 0.8, 0.2]\n",
       "Categories (5, float64): [0.0 < 0.2 < 0.4 < 0.6 < 0.8]"
      ]
     },
     "execution_count": 15,
     "metadata": {},
     "output_type": "execute_result"
    }
   ],
   "source": [
    "pd.cut([0.1, 0.9, 0.3], bins=[0, 0.2, 0.4, 0.6, 0.8, 1.0], labels=[0, 0.2, 0.4, 0.6, 0.8])"
   ]
  },
  {
   "cell_type": "code",
   "execution_count": null,
   "id": "21f34c98",
   "metadata": {},
   "outputs": [],
   "source": [
    "100 * 0.01**(2000.0/2000)"
   ]
  },
  {
   "cell_type": "code",
   "execution_count": null,
   "id": "0dc5f78d",
   "metadata": {},
   "outputs": [],
   "source": [
    "i"
   ]
  }
 ],
 "metadata": {
  "kernelspec": {
   "display_name": "Python 3 (ipykernel)",
   "language": "python",
   "name": "python3"
  },
  "language_info": {
   "codemirror_mode": {
    "name": "ipython",
    "version": 3
   },
   "file_extension": ".py",
   "mimetype": "text/x-python",
   "name": "python",
   "nbconvert_exporter": "python",
   "pygments_lexer": "ipython3",
   "version": "3.9.5"
  },
  "toc": {
   "base_numbering": 1,
   "nav_menu": {},
   "number_sections": true,
   "sideBar": true,
   "skip_h1_title": false,
   "title_cell": "Table of Contents",
   "title_sidebar": "Contents",
   "toc_cell": false,
   "toc_position": {},
   "toc_section_display": true,
   "toc_window_display": false
  }
 },
 "nbformat": 4,
 "nbformat_minor": 5
}
